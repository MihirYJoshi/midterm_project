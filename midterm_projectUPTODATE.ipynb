{
 "cells": [
  {
   "cell_type": "markdown",
   "id": "60f960bb",
   "metadata": {},
   "source": [
    "<img src=\"data/header.png\" width=100%>\n",
    "\n",
    "Welcome to the Midterm Project! Projects in DSC 10 are similar in format to homeworks, but are different in a few key ways. First, a project is comprehensive, meaning that it draws upon everything we've learned this quarter so far. Second, since problems can vary quite a bit in difficulty, some problems will be worth more points than others. Finally, in a project, the problems are more open-ended; they will usually ask for some result, but won't tell you what method should be used to get it. There might be several equally-valid approaches, and several steps might be necessary. This is closer to how data science is done in \"real life.\"\n",
    "\n",
    "It is important that you **start early** on the project! It will take the place of a homework in the week that it is due, but you should also expect it to take longer than a homework. You are especially encouraged to **find a partner** to work through the project with. If you work with a partner, you must follow the [Pair Programming Guidelines](https://dsc10.com/pair-programming/) on the course website. In particular, you must work together at the same time, and you are not allowed to split up the problems and each work on certain problems. If you work with a partner, only one of you needs to upload your notebook to Gradescope; after uploading, you'll see an option to add the other partner to the submission.\n",
    "\n",
    "**Important:** The `otter` tests don't usually tell you that your answer is correct. More often, they help catch basic mistakes. It's up to you to ensure that your answer is correct. If you're not sure, ask someone (not for the answer, but for some guidance about your approach). Directly sharing answers between groups is not okay, but discussing problems with the course staff or with other students is encouraged.\n",
    "\n",
    "**Avoid looping through DataFrames. Do not import any packages.** Loops in Python are slow, and looping through DataFrames should usually be avoided in favor of the DataFrame methods we've learned in class, which are much faster. Please do not import any additional packages – you don't need them, and our autograder may not be able to run your code if you do.\n",
    "\n",
    "As you work through this project, there are a few resources you may want to have open:\n",
    "- [DSC 10 Reference Sheet](https://drive.google.com/file/d/1mQApk9Ovdi-QVqMgnNcq5dZcWucUKoG-/view)\n",
    "- [`babypandas` notes](https://notes.dsc10.com/front.html)\n",
    "- [`babypandas` documentation](https://babypandas.readthedocs.io/en/latest/)\n",
    "- Other links in the [Resources](https://dsc10.com/resources/) and [Debugging](https://dsc10.com/debugging/) tabs of the course website\n",
    "\n",
    "Start early, good luck, and let's begin! 🏃"
   ]
  },
  {
   "cell_type": "code",
   "execution_count": 2,
   "id": "5b638bde",
   "metadata": {},
   "outputs": [],
   "source": [
    "# Please don't change this cell, but do make sure to run it.\n",
    "import babypandas as bpd\n",
    "import numpy as np\n",
    "from IPython.display import HTML, display, IFrame, YouTubeVideo\n",
    "\n",
    "import matplotlib.pyplot as plt\n",
    "plt.style.use('ggplot')\n",
    "\n",
    "import otter\n",
    "import numbers # Not sure if needed\n",
    "grader = otter.Notebook()\n",
    "\n",
    "import warnings\n",
    "warnings.simplefilter('ignore')\n",
    "\n",
    "def play_spotify(uri):\n",
    "    code = uri[uri.rfind(':')+1:]\n",
    "    src = f\"https://open.spotify.com/embed/track/{code}\"\n",
    "    width = 400\n",
    "    height = 75\n",
    "    display(IFrame(src, width, height))"
   ]
  },
  {
   "cell_type": "markdown",
   "id": "10209e61",
   "metadata": {},
   "source": [
    "<a name='outline'></a>\n",
    "\n",
    "### Outline \n",
    "\n",
    "The project is divided into seven sections, each of which contains several questions. Use the outline below to help you quickly navigate to the part of the project you're working on. Questions are worth one point each, unless they contain a ⭐️⭐️ next to them, in which case they are worth two points (e.g. **Question 1.3. ⭐️⭐️**). You can expect questions worth two points to be longer and more challenging than questions worth one point.\n",
    "\n",
    "- [The Data 🎧](#thedata)\n",
    "-  [Section 1: What's a Song? 🤔](#section1)  \n",
    "-  [Section 2: The Sound of Music 🎶](#section2) \n",
    "-  [Section 3: Slow and Steady 🐢🐇](#section3)  \n",
    "-  [Section 4: Crazy in Love 💕](#section4)  \n",
    "-  [Section 5: The Test of Time ⌛️](#section5)  \n",
    "-  [Section 6: Party in the USA 💃](#section6) \n",
    "-  [Section 7: Encore 🔂](#section7)\n",
    "\n",
    "There's also an [Emoji Quiz 💯](#emojiquiz) at the end of the project, just for fun. Try to identify songs and artists based on emoji descriptions, and see how many you can get!"
   ]
  },
  {
   "cell_type": "markdown",
   "id": "cb72f39d",
   "metadata": {},
   "source": [
    "<a name='thedata'></a>\n",
    "\n",
    "## The Data 🎧"
   ]
  },
  {
   "cell_type": "markdown",
   "id": "e2289e97",
   "metadata": {},
   "source": [
    "[Spotify](https://spotify.com), the world's popular music streaming service ([source](https://www.businessofapps.com/data/music-streaming-market/)), is known for keeping close tabs on what its subscribers listen to. They maintain an analytics site, called [Spotify Charts](https://charts.spotify.com), where they post the daily and weekly top 200 songs on Spotify in various countries and cities. This should not be a surprise – in [Lecture 7](https://dsc10.com/resources/lectures/lec07/lec07.html), we downloaded a dataset containing the top 200 songs globally on October 4th.\n",
    "\n",
    "In this project, we will work with a dataset containing **the top 200 songs on Spotify each week, from the week of February 4th, 2021 through the week of July 14th, 2022, in each of the United States, Canada, and Mexico**. A song is in the top 200 for a given week and country if it is one of the 200 most streamed songs during that week in that country.\n",
    "\n",
    "Run the cell below to load in the dataset and save it to a DataFrame named `charts`."
   ]
  },
  {
   "cell_type": "code",
   "execution_count": 3,
   "id": "0f902540",
   "metadata": {},
   "outputs": [
    {
     "data": {
      "text/html": [
       "<div>\n",
       "<style scoped>\n",
       "    .dataframe tbody tr th:only-of-type {\n",
       "        vertical-align: middle;\n",
       "    }\n",
       "\n",
       "    .dataframe tbody tr th {\n",
       "        vertical-align: top;\n",
       "    }\n",
       "\n",
       "    .dataframe thead th {\n",
       "        text-align: right;\n",
       "    }\n",
       "</style>\n",
       "<table border=\"1\" class=\"dataframe\">\n",
       "  <thead>\n",
       "    <tr style=\"text-align: right;\">\n",
       "      <th></th>\n",
       "      <th>week</th>\n",
       "      <th>rank</th>\n",
       "      <th>track_name</th>\n",
       "      <th>uri</th>\n",
       "      <th>release_date</th>\n",
       "      <th>streams</th>\n",
       "      <th>artist_names</th>\n",
       "      <th>artist_individual</th>\n",
       "      <th>artist_id</th>\n",
       "      <th>artist_genre</th>\n",
       "      <th>...</th>\n",
       "      <th>mode</th>\n",
       "      <th>loudness</th>\n",
       "      <th>speechiness</th>\n",
       "      <th>acousticness</th>\n",
       "      <th>instrumentalness</th>\n",
       "      <th>liveness</th>\n",
       "      <th>valence</th>\n",
       "      <th>tempo</th>\n",
       "      <th>duration</th>\n",
       "      <th>country</th>\n",
       "    </tr>\n",
       "  </thead>\n",
       "  <tbody>\n",
       "    <tr>\n",
       "      <th>0</th>\n",
       "      <td>2021-02-04</td>\n",
       "      <td>1</td>\n",
       "      <td>drivers license</td>\n",
       "      <td>spotify:track:7lPN2DXiMsVn7XUKtOW1CS</td>\n",
       "      <td>2021-01-08</td>\n",
       "      <td>2054319</td>\n",
       "      <td>Olivia Rodrigo</td>\n",
       "      <td>Olivia Rodrigo</td>\n",
       "      <td>spotify:artist:1McMsnEElThX1knmY4oliG</td>\n",
       "      <td>pop</td>\n",
       "      <td>...</td>\n",
       "      <td>1</td>\n",
       "      <td>-8.761</td>\n",
       "      <td>0.0601</td>\n",
       "      <td>0.7210</td>\n",
       "      <td>0.000013</td>\n",
       "      <td>0.1050</td>\n",
       "      <td>0.132</td>\n",
       "      <td>143.874</td>\n",
       "      <td>242014</td>\n",
       "      <td>Canada</td>\n",
       "    </tr>\n",
       "    <tr>\n",
       "      <th>1</th>\n",
       "      <td>2021-02-04</td>\n",
       "      <td>2</td>\n",
       "      <td>Good Days</td>\n",
       "      <td>spotify:track:3YJJjQPAbDT7mGpX3WtQ9A</td>\n",
       "      <td>2020-12-25</td>\n",
       "      <td>916516</td>\n",
       "      <td>SZA</td>\n",
       "      <td>SZA</td>\n",
       "      <td>spotify:artist:7tYKF4w9nC0nq9CsPZTHyP</td>\n",
       "      <td>r&amp;b</td>\n",
       "      <td>...</td>\n",
       "      <td>0</td>\n",
       "      <td>-8.370</td>\n",
       "      <td>0.0583</td>\n",
       "      <td>0.4990</td>\n",
       "      <td>0.000008</td>\n",
       "      <td>0.6880</td>\n",
       "      <td>0.412</td>\n",
       "      <td>121.002</td>\n",
       "      <td>279204</td>\n",
       "      <td>Canada</td>\n",
       "    </tr>\n",
       "    <tr>\n",
       "      <th>2</th>\n",
       "      <td>2021-02-04</td>\n",
       "      <td>3</td>\n",
       "      <td>Save Your Tears</td>\n",
       "      <td>spotify:track:5QO79kh1waicV47BqGRL3g</td>\n",
       "      <td>2020-03-20</td>\n",
       "      <td>866067</td>\n",
       "      <td>The Weeknd</td>\n",
       "      <td>The Weeknd</td>\n",
       "      <td>spotify:artist:1Xyo4u8uXC1ZmMpatF05PJ</td>\n",
       "      <td>canadian contemporary r&amp;b</td>\n",
       "      <td>...</td>\n",
       "      <td>1</td>\n",
       "      <td>-5.487</td>\n",
       "      <td>0.0309</td>\n",
       "      <td>0.0212</td>\n",
       "      <td>0.000012</td>\n",
       "      <td>0.5430</td>\n",
       "      <td>0.644</td>\n",
       "      <td>118.051</td>\n",
       "      <td>215627</td>\n",
       "      <td>Canada</td>\n",
       "    </tr>\n",
       "    <tr>\n",
       "      <th>3</th>\n",
       "      <td>2021-02-04</td>\n",
       "      <td>4</td>\n",
       "      <td>Mood (feat. iann dior)</td>\n",
       "      <td>spotify:track:3tjFYV6RSFtuktYl3ZtYcq</td>\n",
       "      <td>2020-07-24</td>\n",
       "      <td>824789</td>\n",
       "      <td>24kGoldn, iann dior</td>\n",
       "      <td>24kGoldn</td>\n",
       "      <td>spotify:artist:6fWVd57NKTalqvmjRd2t8Z</td>\n",
       "      <td>cali rap</td>\n",
       "      <td>...</td>\n",
       "      <td>0</td>\n",
       "      <td>-3.558</td>\n",
       "      <td>0.0369</td>\n",
       "      <td>0.2210</td>\n",
       "      <td>0.000000</td>\n",
       "      <td>0.2720</td>\n",
       "      <td>0.756</td>\n",
       "      <td>90.989</td>\n",
       "      <td>140526</td>\n",
       "      <td>Canada</td>\n",
       "    </tr>\n",
       "    <tr>\n",
       "      <th>4</th>\n",
       "      <td>2021-02-04</td>\n",
       "      <td>4</td>\n",
       "      <td>Mood (feat. iann dior)</td>\n",
       "      <td>spotify:track:3tjFYV6RSFtuktYl3ZtYcq</td>\n",
       "      <td>2020-07-24</td>\n",
       "      <td>824789</td>\n",
       "      <td>24kGoldn, iann dior</td>\n",
       "      <td>iann dior</td>\n",
       "      <td>spotify:artist:6ASri4ePR7RlsvIQgWPJpS</td>\n",
       "      <td>melodic rap</td>\n",
       "      <td>...</td>\n",
       "      <td>0</td>\n",
       "      <td>-3.558</td>\n",
       "      <td>0.0369</td>\n",
       "      <td>0.2210</td>\n",
       "      <td>0.000000</td>\n",
       "      <td>0.2720</td>\n",
       "      <td>0.756</td>\n",
       "      <td>90.989</td>\n",
       "      <td>140526</td>\n",
       "      <td>Canada</td>\n",
       "    </tr>\n",
       "    <tr>\n",
       "      <th>...</th>\n",
       "      <td>...</td>\n",
       "      <td>...</td>\n",
       "      <td>...</td>\n",
       "      <td>...</td>\n",
       "      <td>...</td>\n",
       "      <td>...</td>\n",
       "      <td>...</td>\n",
       "      <td>...</td>\n",
       "      <td>...</td>\n",
       "      <td>...</td>\n",
       "      <td>...</td>\n",
       "      <td>...</td>\n",
       "      <td>...</td>\n",
       "      <td>...</td>\n",
       "      <td>...</td>\n",
       "      <td>...</td>\n",
       "      <td>...</td>\n",
       "      <td>...</td>\n",
       "      <td>...</td>\n",
       "      <td>...</td>\n",
       "      <td>...</td>\n",
       "    </tr>\n",
       "    <tr>\n",
       "      <th>70178</th>\n",
       "      <td>2022-07-14</td>\n",
       "      <td>196</td>\n",
       "      <td>Get Into It (Yuh)</td>\n",
       "      <td>spotify:track:0W6I02J9xcqK8MtSeosEXb</td>\n",
       "      <td>2021-06-25</td>\n",
       "      <td>1592100</td>\n",
       "      <td>Doja Cat</td>\n",
       "      <td>Doja Cat</td>\n",
       "      <td>spotify:artist:5cj0lLjcoR7YOSnhnX0Po5</td>\n",
       "      <td>dance pop</td>\n",
       "      <td>...</td>\n",
       "      <td>0</td>\n",
       "      <td>-6.029</td>\n",
       "      <td>0.1620</td>\n",
       "      <td>0.3150</td>\n",
       "      <td>0.000034</td>\n",
       "      <td>0.0894</td>\n",
       "      <td>0.793</td>\n",
       "      <td>91.942</td>\n",
       "      <td>138293</td>\n",
       "      <td>United States</td>\n",
       "    </tr>\n",
       "    <tr>\n",
       "      <th>70179</th>\n",
       "      <td>2022-07-14</td>\n",
       "      <td>197</td>\n",
       "      <td>Fancy Like</td>\n",
       "      <td>spotify:track:58UKC45GPNTflCN6nwCUeF</td>\n",
       "      <td>2022-01-21</td>\n",
       "      <td>1590126</td>\n",
       "      <td>Walker Hayes</td>\n",
       "      <td>Walker Hayes</td>\n",
       "      <td>spotify:artist:7sKxqpSqbIzphAKAhrqvlf</td>\n",
       "      <td>modern country rock</td>\n",
       "      <td>...</td>\n",
       "      <td>1</td>\n",
       "      <td>-6.459</td>\n",
       "      <td>0.0600</td>\n",
       "      <td>0.1110</td>\n",
       "      <td>0.000000</td>\n",
       "      <td>0.3150</td>\n",
       "      <td>0.855</td>\n",
       "      <td>79.994</td>\n",
       "      <td>161853</td>\n",
       "      <td>United States</td>\n",
       "    </tr>\n",
       "    <tr>\n",
       "      <th>70180</th>\n",
       "      <td>2022-07-14</td>\n",
       "      <td>198</td>\n",
       "      <td>Stick Season</td>\n",
       "      <td>spotify:track:0GNVXNz7Jkicfk2mp5OyG5</td>\n",
       "      <td>2022-07-08</td>\n",
       "      <td>1583302</td>\n",
       "      <td>Noah Kahan</td>\n",
       "      <td>Noah Kahan</td>\n",
       "      <td>spotify:artist:2RQXRUsr4IW1f3mKyKsy4B</td>\n",
       "      <td>pop</td>\n",
       "      <td>...</td>\n",
       "      <td>1</td>\n",
       "      <td>-6.935</td>\n",
       "      <td>0.0651</td>\n",
       "      <td>0.7990</td>\n",
       "      <td>0.000000</td>\n",
       "      <td>0.0966</td>\n",
       "      <td>0.801</td>\n",
       "      <td>117.896</td>\n",
       "      <td>182347</td>\n",
       "      <td>United States</td>\n",
       "    </tr>\n",
       "    <tr>\n",
       "      <th>70181</th>\n",
       "      <td>2022-07-14</td>\n",
       "      <td>199</td>\n",
       "      <td>Call Out My Name</td>\n",
       "      <td>spotify:track:09mEdoA6zrmBPgTEN5qXmN</td>\n",
       "      <td>2018-03-30</td>\n",
       "      <td>1583235</td>\n",
       "      <td>The Weeknd</td>\n",
       "      <td>The Weeknd</td>\n",
       "      <td>spotify:artist:1Xyo4u8uXC1ZmMpatF05PJ</td>\n",
       "      <td>canadian contemporary r&amp;b</td>\n",
       "      <td>...</td>\n",
       "      <td>1</td>\n",
       "      <td>-4.954</td>\n",
       "      <td>0.0356</td>\n",
       "      <td>0.1700</td>\n",
       "      <td>0.000000</td>\n",
       "      <td>0.3070</td>\n",
       "      <td>0.175</td>\n",
       "      <td>134.170</td>\n",
       "      <td>228373</td>\n",
       "      <td>United States</td>\n",
       "    </tr>\n",
       "    <tr>\n",
       "      <th>70182</th>\n",
       "      <td>2022-07-14</td>\n",
       "      <td>200</td>\n",
       "      <td>Good Days</td>\n",
       "      <td>spotify:track:3YJJjQPAbDT7mGpX3WtQ9A</td>\n",
       "      <td>2020-12-25</td>\n",
       "      <td>1579212</td>\n",
       "      <td>SZA</td>\n",
       "      <td>SZA</td>\n",
       "      <td>spotify:artist:7tYKF4w9nC0nq9CsPZTHyP</td>\n",
       "      <td>r&amp;b</td>\n",
       "      <td>...</td>\n",
       "      <td>0</td>\n",
       "      <td>-8.370</td>\n",
       "      <td>0.0583</td>\n",
       "      <td>0.4990</td>\n",
       "      <td>0.000008</td>\n",
       "      <td>0.6880</td>\n",
       "      <td>0.412</td>\n",
       "      <td>121.002</td>\n",
       "      <td>279204</td>\n",
       "      <td>United States</td>\n",
       "    </tr>\n",
       "  </tbody>\n",
       "</table>\n",
       "<p>70183 rows × 24 columns</p>\n",
       "</div>"
      ],
      "text/plain": [
       "             week  rank              track_name  \\\n",
       "0      2021-02-04     1         drivers license   \n",
       "1      2021-02-04     2               Good Days   \n",
       "2      2021-02-04     3         Save Your Tears   \n",
       "3      2021-02-04     4  Mood (feat. iann dior)   \n",
       "4      2021-02-04     4  Mood (feat. iann dior)   \n",
       "...           ...   ...                     ...   \n",
       "70178  2022-07-14   196       Get Into It (Yuh)   \n",
       "70179  2022-07-14   197              Fancy Like   \n",
       "70180  2022-07-14   198            Stick Season   \n",
       "70181  2022-07-14   199        Call Out My Name   \n",
       "70182  2022-07-14   200               Good Days   \n",
       "\n",
       "                                        uri release_date  streams  \\\n",
       "0      spotify:track:7lPN2DXiMsVn7XUKtOW1CS   2021-01-08  2054319   \n",
       "1      spotify:track:3YJJjQPAbDT7mGpX3WtQ9A   2020-12-25   916516   \n",
       "2      spotify:track:5QO79kh1waicV47BqGRL3g   2020-03-20   866067   \n",
       "3      spotify:track:3tjFYV6RSFtuktYl3ZtYcq   2020-07-24   824789   \n",
       "4      spotify:track:3tjFYV6RSFtuktYl3ZtYcq   2020-07-24   824789   \n",
       "...                                     ...          ...      ...   \n",
       "70178  spotify:track:0W6I02J9xcqK8MtSeosEXb   2021-06-25  1592100   \n",
       "70179  spotify:track:58UKC45GPNTflCN6nwCUeF   2022-01-21  1590126   \n",
       "70180  spotify:track:0GNVXNz7Jkicfk2mp5OyG5   2022-07-08  1583302   \n",
       "70181  spotify:track:09mEdoA6zrmBPgTEN5qXmN   2018-03-30  1583235   \n",
       "70182  spotify:track:3YJJjQPAbDT7mGpX3WtQ9A   2020-12-25  1579212   \n",
       "\n",
       "              artist_names artist_individual  \\\n",
       "0           Olivia Rodrigo    Olivia Rodrigo   \n",
       "1                      SZA               SZA   \n",
       "2               The Weeknd        The Weeknd   \n",
       "3      24kGoldn, iann dior          24kGoldn   \n",
       "4      24kGoldn, iann dior         iann dior   \n",
       "...                    ...               ...   \n",
       "70178             Doja Cat          Doja Cat   \n",
       "70179         Walker Hayes      Walker Hayes   \n",
       "70180           Noah Kahan        Noah Kahan   \n",
       "70181           The Weeknd        The Weeknd   \n",
       "70182                  SZA               SZA   \n",
       "\n",
       "                                   artist_id               artist_genre  ...  \\\n",
       "0      spotify:artist:1McMsnEElThX1knmY4oliG                        pop  ...   \n",
       "1      spotify:artist:7tYKF4w9nC0nq9CsPZTHyP                        r&b  ...   \n",
       "2      spotify:artist:1Xyo4u8uXC1ZmMpatF05PJ  canadian contemporary r&b  ...   \n",
       "3      spotify:artist:6fWVd57NKTalqvmjRd2t8Z                   cali rap  ...   \n",
       "4      spotify:artist:6ASri4ePR7RlsvIQgWPJpS                melodic rap  ...   \n",
       "...                                      ...                        ...  ...   \n",
       "70178  spotify:artist:5cj0lLjcoR7YOSnhnX0Po5                  dance pop  ...   \n",
       "70179  spotify:artist:7sKxqpSqbIzphAKAhrqvlf        modern country rock  ...   \n",
       "70180  spotify:artist:2RQXRUsr4IW1f3mKyKsy4B                        pop  ...   \n",
       "70181  spotify:artist:1Xyo4u8uXC1ZmMpatF05PJ  canadian contemporary r&b  ...   \n",
       "70182  spotify:artist:7tYKF4w9nC0nq9CsPZTHyP                        r&b  ...   \n",
       "\n",
       "      mode  loudness  speechiness  acousticness  instrumentalness  liveness  \\\n",
       "0        1    -8.761       0.0601        0.7210          0.000013    0.1050   \n",
       "1        0    -8.370       0.0583        0.4990          0.000008    0.6880   \n",
       "2        1    -5.487       0.0309        0.0212          0.000012    0.5430   \n",
       "3        0    -3.558       0.0369        0.2210          0.000000    0.2720   \n",
       "4        0    -3.558       0.0369        0.2210          0.000000    0.2720   \n",
       "...    ...       ...          ...           ...               ...       ...   \n",
       "70178    0    -6.029       0.1620        0.3150          0.000034    0.0894   \n",
       "70179    1    -6.459       0.0600        0.1110          0.000000    0.3150   \n",
       "70180    1    -6.935       0.0651        0.7990          0.000000    0.0966   \n",
       "70181    1    -4.954       0.0356        0.1700          0.000000    0.3070   \n",
       "70182    0    -8.370       0.0583        0.4990          0.000008    0.6880   \n",
       "\n",
       "       valence    tempo  duration        country  \n",
       "0        0.132  143.874    242014         Canada  \n",
       "1        0.412  121.002    279204         Canada  \n",
       "2        0.644  118.051    215627         Canada  \n",
       "3        0.756   90.989    140526         Canada  \n",
       "4        0.756   90.989    140526         Canada  \n",
       "...        ...      ...       ...            ...  \n",
       "70178    0.793   91.942    138293  United States  \n",
       "70179    0.855   79.994    161853  United States  \n",
       "70180    0.801  117.896    182347  United States  \n",
       "70181    0.175  134.170    228373  United States  \n",
       "70182    0.412  121.002    279204  United States  \n",
       "\n",
       "[70183 rows x 24 columns]"
      ]
     },
     "execution_count": 3,
     "metadata": {},
     "output_type": "execute_result"
    }
   ],
   "source": [
    "charts = bpd.read_csv('data/weekly_charts.csv')\n",
    "charts"
   ]
  },
  {
   "cell_type": "markdown",
   "id": "7b5c73b2",
   "metadata": {},
   "source": [
    "`charts` has 24 columns."
   ]
  },
  {
   "cell_type": "code",
   "execution_count": 4,
   "id": "a04e8929",
   "metadata": {},
   "outputs": [
    {
     "data": {
      "text/plain": [
       "Index(['week', 'rank', 'track_name', 'uri', 'release_date', 'streams',\n",
       "       'artist_names', 'artist_individual', 'artist_id', 'artist_genre',\n",
       "       'artist_img', 'danceability', 'energy', 'key', 'mode', 'loudness',\n",
       "       'speechiness', 'acousticness', 'instrumentalness', 'liveness',\n",
       "       'valence', 'tempo', 'duration', 'country'],\n",
       "      dtype='object')"
      ]
     },
     "execution_count": 4,
     "metadata": {},
     "output_type": "execute_result"
    }
   ],
   "source": [
    "charts.columns"
   ]
  },
  {
   "cell_type": "markdown",
   "id": "14e5aa0f",
   "metadata": {},
   "source": [
    "Below, we describe some of the columns of `charts`.\n",
    "\n",
    "| Column | Description |\n",
    "|:---|:---|\n",
    "| `'week'` | Week during which the song was in the top 200. |\n",
    "| `'rank'` | The position of the song in the top 200, in the specified country. |\n",
    "| `'track_name'` | The name of the song. |\n",
    "| `'uri'` | The song's uniform resource indicator. This is an identfier that can be used to play the song on Spotify. |\n",
    "| `'release_date'` | The date on which the song was released. |\n",
    "| `'streams'` | The number of streams that the song received during the specified week in the specified country. |\n",
    "| `'artist_names'` | All artists on the song. |\n",
    "| `'artist_individual'` | One of the artists on the song. (If there are $n$ artists on the song, the song appears in $n$ rows of `charts` for each week and country it was in the top 200, once for each artist.) |\n",
    "| `'artist_id'` | The individual artist's uniform resource indicator. |\n",
    "| `'artist_genre'` | The individual artist's primary genre. |\n",
    "| `'artist_img'` | A URL to the image of the individual artist. |\n",
    "| `'duration'` | The length of the song, in milliseconds. |\n",
    "| `'country'` | The country in which the song was in the top 200 in the specified week. | \n",
    "\n",
    "There are several columns – namely, `'danceability'`, `'energy'`, `'key'`, `'mode'`, `'loudness'`, `'speechiness'`, `'acousticness'`, `'instrumentalness'`, `'liveness'`, `'valence'`, and `'tempo'` – that we didn't describe above. These are all _audio features_, meaning they describe the musical content of songs, as opposed to the other columns, which describe metadata. Spotify provides [documentation](https://developer.spotify.com/documentation/web-api/reference/#/operations/get-several-audio-features) that describes what each audio feature means. We'll provide you a link to this documentation again right before Section 2, when you'll actually start using these columns.\n",
    "\n",
    "As the table above mentions, we can use a song's `'uri'` to play it on Spotify. We've provided you with a function named `play_spotify` that takes in a `'uri'` and plays the song in your notebook. Run the cell below to see it in action!"
   ]
  },
  {
   "cell_type": "code",
   "execution_count": 5,
   "id": "7f956c56",
   "metadata": {},
   "outputs": [
    {
     "data": {
      "text/html": [
       "\n",
       "        <iframe\n",
       "            width=\"400\"\n",
       "            height=\"75\"\n",
       "            src=\"https://open.spotify.com/embed/track/7lPN2DXiMsVn7XUKtOW1CS\"\n",
       "            frameborder=\"0\"\n",
       "            allowfullscreen\n",
       "            \n",
       "        ></iframe>\n",
       "        "
      ],
      "text/plain": [
       "<IPython.lib.display.IFrame at 0x7fbb508d3a90>"
      ]
     },
     "metadata": {},
     "output_type": "display_data"
    }
   ],
   "source": [
    "# URI for Olivia Rodrigo's \"drivers license\"\n",
    "play_spotify('spotify:track:7lPN2DXiMsVn7XUKtOW1CS')"
   ]
  },
  {
   "cell_type": "markdown",
   "id": "e4cfb7c6",
   "metadata": {},
   "source": [
    "<a id='section1'></a>\n",
    "## Section 1: What's a Song? 🤔\n",
    "\n",
    "<small>(<a href=\"#outline\">return to the outline</a>)</small>"
   ]
  },
  {
   "cell_type": "markdown",
   "id": "f148e228",
   "metadata": {},
   "source": [
    "Let's look at the first and last few rows of `charts` once again."
   ]
  },
  {
   "cell_type": "code",
   "execution_count": 6,
   "id": "aadfd72a",
   "metadata": {},
   "outputs": [
    {
     "data": {
      "text/html": [
       "<div>\n",
       "<style scoped>\n",
       "    .dataframe tbody tr th:only-of-type {\n",
       "        vertical-align: middle;\n",
       "    }\n",
       "\n",
       "    .dataframe tbody tr th {\n",
       "        vertical-align: top;\n",
       "    }\n",
       "\n",
       "    .dataframe thead th {\n",
       "        text-align: right;\n",
       "    }\n",
       "</style>\n",
       "<table border=\"1\" class=\"dataframe\">\n",
       "  <thead>\n",
       "    <tr style=\"text-align: right;\">\n",
       "      <th></th>\n",
       "      <th>week</th>\n",
       "      <th>rank</th>\n",
       "      <th>track_name</th>\n",
       "      <th>uri</th>\n",
       "      <th>release_date</th>\n",
       "      <th>streams</th>\n",
       "      <th>artist_names</th>\n",
       "      <th>artist_individual</th>\n",
       "      <th>artist_id</th>\n",
       "      <th>artist_genre</th>\n",
       "      <th>...</th>\n",
       "      <th>mode</th>\n",
       "      <th>loudness</th>\n",
       "      <th>speechiness</th>\n",
       "      <th>acousticness</th>\n",
       "      <th>instrumentalness</th>\n",
       "      <th>liveness</th>\n",
       "      <th>valence</th>\n",
       "      <th>tempo</th>\n",
       "      <th>duration</th>\n",
       "      <th>country</th>\n",
       "    </tr>\n",
       "  </thead>\n",
       "  <tbody>\n",
       "    <tr>\n",
       "      <th>0</th>\n",
       "      <td>2021-02-04</td>\n",
       "      <td>1</td>\n",
       "      <td>drivers license</td>\n",
       "      <td>spotify:track:7lPN2DXiMsVn7XUKtOW1CS</td>\n",
       "      <td>2021-01-08</td>\n",
       "      <td>2054319</td>\n",
       "      <td>Olivia Rodrigo</td>\n",
       "      <td>Olivia Rodrigo</td>\n",
       "      <td>spotify:artist:1McMsnEElThX1knmY4oliG</td>\n",
       "      <td>pop</td>\n",
       "      <td>...</td>\n",
       "      <td>1</td>\n",
       "      <td>-8.761</td>\n",
       "      <td>0.0601</td>\n",
       "      <td>0.7210</td>\n",
       "      <td>0.000013</td>\n",
       "      <td>0.1050</td>\n",
       "      <td>0.132</td>\n",
       "      <td>143.874</td>\n",
       "      <td>242014</td>\n",
       "      <td>Canada</td>\n",
       "    </tr>\n",
       "    <tr>\n",
       "      <th>1</th>\n",
       "      <td>2021-02-04</td>\n",
       "      <td>2</td>\n",
       "      <td>Good Days</td>\n",
       "      <td>spotify:track:3YJJjQPAbDT7mGpX3WtQ9A</td>\n",
       "      <td>2020-12-25</td>\n",
       "      <td>916516</td>\n",
       "      <td>SZA</td>\n",
       "      <td>SZA</td>\n",
       "      <td>spotify:artist:7tYKF4w9nC0nq9CsPZTHyP</td>\n",
       "      <td>r&amp;b</td>\n",
       "      <td>...</td>\n",
       "      <td>0</td>\n",
       "      <td>-8.370</td>\n",
       "      <td>0.0583</td>\n",
       "      <td>0.4990</td>\n",
       "      <td>0.000008</td>\n",
       "      <td>0.6880</td>\n",
       "      <td>0.412</td>\n",
       "      <td>121.002</td>\n",
       "      <td>279204</td>\n",
       "      <td>Canada</td>\n",
       "    </tr>\n",
       "    <tr>\n",
       "      <th>2</th>\n",
       "      <td>2021-02-04</td>\n",
       "      <td>3</td>\n",
       "      <td>Save Your Tears</td>\n",
       "      <td>spotify:track:5QO79kh1waicV47BqGRL3g</td>\n",
       "      <td>2020-03-20</td>\n",
       "      <td>866067</td>\n",
       "      <td>The Weeknd</td>\n",
       "      <td>The Weeknd</td>\n",
       "      <td>spotify:artist:1Xyo4u8uXC1ZmMpatF05PJ</td>\n",
       "      <td>canadian contemporary r&amp;b</td>\n",
       "      <td>...</td>\n",
       "      <td>1</td>\n",
       "      <td>-5.487</td>\n",
       "      <td>0.0309</td>\n",
       "      <td>0.0212</td>\n",
       "      <td>0.000012</td>\n",
       "      <td>0.5430</td>\n",
       "      <td>0.644</td>\n",
       "      <td>118.051</td>\n",
       "      <td>215627</td>\n",
       "      <td>Canada</td>\n",
       "    </tr>\n",
       "    <tr>\n",
       "      <th>3</th>\n",
       "      <td>2021-02-04</td>\n",
       "      <td>4</td>\n",
       "      <td>Mood (feat. iann dior)</td>\n",
       "      <td>spotify:track:3tjFYV6RSFtuktYl3ZtYcq</td>\n",
       "      <td>2020-07-24</td>\n",
       "      <td>824789</td>\n",
       "      <td>24kGoldn, iann dior</td>\n",
       "      <td>24kGoldn</td>\n",
       "      <td>spotify:artist:6fWVd57NKTalqvmjRd2t8Z</td>\n",
       "      <td>cali rap</td>\n",
       "      <td>...</td>\n",
       "      <td>0</td>\n",
       "      <td>-3.558</td>\n",
       "      <td>0.0369</td>\n",
       "      <td>0.2210</td>\n",
       "      <td>0.000000</td>\n",
       "      <td>0.2720</td>\n",
       "      <td>0.756</td>\n",
       "      <td>90.989</td>\n",
       "      <td>140526</td>\n",
       "      <td>Canada</td>\n",
       "    </tr>\n",
       "    <tr>\n",
       "      <th>4</th>\n",
       "      <td>2021-02-04</td>\n",
       "      <td>4</td>\n",
       "      <td>Mood (feat. iann dior)</td>\n",
       "      <td>spotify:track:3tjFYV6RSFtuktYl3ZtYcq</td>\n",
       "      <td>2020-07-24</td>\n",
       "      <td>824789</td>\n",
       "      <td>24kGoldn, iann dior</td>\n",
       "      <td>iann dior</td>\n",
       "      <td>spotify:artist:6ASri4ePR7RlsvIQgWPJpS</td>\n",
       "      <td>melodic rap</td>\n",
       "      <td>...</td>\n",
       "      <td>0</td>\n",
       "      <td>-3.558</td>\n",
       "      <td>0.0369</td>\n",
       "      <td>0.2210</td>\n",
       "      <td>0.000000</td>\n",
       "      <td>0.2720</td>\n",
       "      <td>0.756</td>\n",
       "      <td>90.989</td>\n",
       "      <td>140526</td>\n",
       "      <td>Canada</td>\n",
       "    </tr>\n",
       "    <tr>\n",
       "      <th>...</th>\n",
       "      <td>...</td>\n",
       "      <td>...</td>\n",
       "      <td>...</td>\n",
       "      <td>...</td>\n",
       "      <td>...</td>\n",
       "      <td>...</td>\n",
       "      <td>...</td>\n",
       "      <td>...</td>\n",
       "      <td>...</td>\n",
       "      <td>...</td>\n",
       "      <td>...</td>\n",
       "      <td>...</td>\n",
       "      <td>...</td>\n",
       "      <td>...</td>\n",
       "      <td>...</td>\n",
       "      <td>...</td>\n",
       "      <td>...</td>\n",
       "      <td>...</td>\n",
       "      <td>...</td>\n",
       "      <td>...</td>\n",
       "      <td>...</td>\n",
       "    </tr>\n",
       "    <tr>\n",
       "      <th>70178</th>\n",
       "      <td>2022-07-14</td>\n",
       "      <td>196</td>\n",
       "      <td>Get Into It (Yuh)</td>\n",
       "      <td>spotify:track:0W6I02J9xcqK8MtSeosEXb</td>\n",
       "      <td>2021-06-25</td>\n",
       "      <td>1592100</td>\n",
       "      <td>Doja Cat</td>\n",
       "      <td>Doja Cat</td>\n",
       "      <td>spotify:artist:5cj0lLjcoR7YOSnhnX0Po5</td>\n",
       "      <td>dance pop</td>\n",
       "      <td>...</td>\n",
       "      <td>0</td>\n",
       "      <td>-6.029</td>\n",
       "      <td>0.1620</td>\n",
       "      <td>0.3150</td>\n",
       "      <td>0.000034</td>\n",
       "      <td>0.0894</td>\n",
       "      <td>0.793</td>\n",
       "      <td>91.942</td>\n",
       "      <td>138293</td>\n",
       "      <td>United States</td>\n",
       "    </tr>\n",
       "    <tr>\n",
       "      <th>70179</th>\n",
       "      <td>2022-07-14</td>\n",
       "      <td>197</td>\n",
       "      <td>Fancy Like</td>\n",
       "      <td>spotify:track:58UKC45GPNTflCN6nwCUeF</td>\n",
       "      <td>2022-01-21</td>\n",
       "      <td>1590126</td>\n",
       "      <td>Walker Hayes</td>\n",
       "      <td>Walker Hayes</td>\n",
       "      <td>spotify:artist:7sKxqpSqbIzphAKAhrqvlf</td>\n",
       "      <td>modern country rock</td>\n",
       "      <td>...</td>\n",
       "      <td>1</td>\n",
       "      <td>-6.459</td>\n",
       "      <td>0.0600</td>\n",
       "      <td>0.1110</td>\n",
       "      <td>0.000000</td>\n",
       "      <td>0.3150</td>\n",
       "      <td>0.855</td>\n",
       "      <td>79.994</td>\n",
       "      <td>161853</td>\n",
       "      <td>United States</td>\n",
       "    </tr>\n",
       "    <tr>\n",
       "      <th>70180</th>\n",
       "      <td>2022-07-14</td>\n",
       "      <td>198</td>\n",
       "      <td>Stick Season</td>\n",
       "      <td>spotify:track:0GNVXNz7Jkicfk2mp5OyG5</td>\n",
       "      <td>2022-07-08</td>\n",
       "      <td>1583302</td>\n",
       "      <td>Noah Kahan</td>\n",
       "      <td>Noah Kahan</td>\n",
       "      <td>spotify:artist:2RQXRUsr4IW1f3mKyKsy4B</td>\n",
       "      <td>pop</td>\n",
       "      <td>...</td>\n",
       "      <td>1</td>\n",
       "      <td>-6.935</td>\n",
       "      <td>0.0651</td>\n",
       "      <td>0.7990</td>\n",
       "      <td>0.000000</td>\n",
       "      <td>0.0966</td>\n",
       "      <td>0.801</td>\n",
       "      <td>117.896</td>\n",
       "      <td>182347</td>\n",
       "      <td>United States</td>\n",
       "    </tr>\n",
       "    <tr>\n",
       "      <th>70181</th>\n",
       "      <td>2022-07-14</td>\n",
       "      <td>199</td>\n",
       "      <td>Call Out My Name</td>\n",
       "      <td>spotify:track:09mEdoA6zrmBPgTEN5qXmN</td>\n",
       "      <td>2018-03-30</td>\n",
       "      <td>1583235</td>\n",
       "      <td>The Weeknd</td>\n",
       "      <td>The Weeknd</td>\n",
       "      <td>spotify:artist:1Xyo4u8uXC1ZmMpatF05PJ</td>\n",
       "      <td>canadian contemporary r&amp;b</td>\n",
       "      <td>...</td>\n",
       "      <td>1</td>\n",
       "      <td>-4.954</td>\n",
       "      <td>0.0356</td>\n",
       "      <td>0.1700</td>\n",
       "      <td>0.000000</td>\n",
       "      <td>0.3070</td>\n",
       "      <td>0.175</td>\n",
       "      <td>134.170</td>\n",
       "      <td>228373</td>\n",
       "      <td>United States</td>\n",
       "    </tr>\n",
       "    <tr>\n",
       "      <th>70182</th>\n",
       "      <td>2022-07-14</td>\n",
       "      <td>200</td>\n",
       "      <td>Good Days</td>\n",
       "      <td>spotify:track:3YJJjQPAbDT7mGpX3WtQ9A</td>\n",
       "      <td>2020-12-25</td>\n",
       "      <td>1579212</td>\n",
       "      <td>SZA</td>\n",
       "      <td>SZA</td>\n",
       "      <td>spotify:artist:7tYKF4w9nC0nq9CsPZTHyP</td>\n",
       "      <td>r&amp;b</td>\n",
       "      <td>...</td>\n",
       "      <td>0</td>\n",
       "      <td>-8.370</td>\n",
       "      <td>0.0583</td>\n",
       "      <td>0.4990</td>\n",
       "      <td>0.000008</td>\n",
       "      <td>0.6880</td>\n",
       "      <td>0.412</td>\n",
       "      <td>121.002</td>\n",
       "      <td>279204</td>\n",
       "      <td>United States</td>\n",
       "    </tr>\n",
       "  </tbody>\n",
       "</table>\n",
       "<p>70183 rows × 24 columns</p>\n",
       "</div>"
      ],
      "text/plain": [
       "             week  rank              track_name  \\\n",
       "0      2021-02-04     1         drivers license   \n",
       "1      2021-02-04     2               Good Days   \n",
       "2      2021-02-04     3         Save Your Tears   \n",
       "3      2021-02-04     4  Mood (feat. iann dior)   \n",
       "4      2021-02-04     4  Mood (feat. iann dior)   \n",
       "...           ...   ...                     ...   \n",
       "70178  2022-07-14   196       Get Into It (Yuh)   \n",
       "70179  2022-07-14   197              Fancy Like   \n",
       "70180  2022-07-14   198            Stick Season   \n",
       "70181  2022-07-14   199        Call Out My Name   \n",
       "70182  2022-07-14   200               Good Days   \n",
       "\n",
       "                                        uri release_date  streams  \\\n",
       "0      spotify:track:7lPN2DXiMsVn7XUKtOW1CS   2021-01-08  2054319   \n",
       "1      spotify:track:3YJJjQPAbDT7mGpX3WtQ9A   2020-12-25   916516   \n",
       "2      spotify:track:5QO79kh1waicV47BqGRL3g   2020-03-20   866067   \n",
       "3      spotify:track:3tjFYV6RSFtuktYl3ZtYcq   2020-07-24   824789   \n",
       "4      spotify:track:3tjFYV6RSFtuktYl3ZtYcq   2020-07-24   824789   \n",
       "...                                     ...          ...      ...   \n",
       "70178  spotify:track:0W6I02J9xcqK8MtSeosEXb   2021-06-25  1592100   \n",
       "70179  spotify:track:58UKC45GPNTflCN6nwCUeF   2022-01-21  1590126   \n",
       "70180  spotify:track:0GNVXNz7Jkicfk2mp5OyG5   2022-07-08  1583302   \n",
       "70181  spotify:track:09mEdoA6zrmBPgTEN5qXmN   2018-03-30  1583235   \n",
       "70182  spotify:track:3YJJjQPAbDT7mGpX3WtQ9A   2020-12-25  1579212   \n",
       "\n",
       "              artist_names artist_individual  \\\n",
       "0           Olivia Rodrigo    Olivia Rodrigo   \n",
       "1                      SZA               SZA   \n",
       "2               The Weeknd        The Weeknd   \n",
       "3      24kGoldn, iann dior          24kGoldn   \n",
       "4      24kGoldn, iann dior         iann dior   \n",
       "...                    ...               ...   \n",
       "70178             Doja Cat          Doja Cat   \n",
       "70179         Walker Hayes      Walker Hayes   \n",
       "70180           Noah Kahan        Noah Kahan   \n",
       "70181           The Weeknd        The Weeknd   \n",
       "70182                  SZA               SZA   \n",
       "\n",
       "                                   artist_id               artist_genre  ...  \\\n",
       "0      spotify:artist:1McMsnEElThX1knmY4oliG                        pop  ...   \n",
       "1      spotify:artist:7tYKF4w9nC0nq9CsPZTHyP                        r&b  ...   \n",
       "2      spotify:artist:1Xyo4u8uXC1ZmMpatF05PJ  canadian contemporary r&b  ...   \n",
       "3      spotify:artist:6fWVd57NKTalqvmjRd2t8Z                   cali rap  ...   \n",
       "4      spotify:artist:6ASri4ePR7RlsvIQgWPJpS                melodic rap  ...   \n",
       "...                                      ...                        ...  ...   \n",
       "70178  spotify:artist:5cj0lLjcoR7YOSnhnX0Po5                  dance pop  ...   \n",
       "70179  spotify:artist:7sKxqpSqbIzphAKAhrqvlf        modern country rock  ...   \n",
       "70180  spotify:artist:2RQXRUsr4IW1f3mKyKsy4B                        pop  ...   \n",
       "70181  spotify:artist:1Xyo4u8uXC1ZmMpatF05PJ  canadian contemporary r&b  ...   \n",
       "70182  spotify:artist:7tYKF4w9nC0nq9CsPZTHyP                        r&b  ...   \n",
       "\n",
       "      mode  loudness  speechiness  acousticness  instrumentalness  liveness  \\\n",
       "0        1    -8.761       0.0601        0.7210          0.000013    0.1050   \n",
       "1        0    -8.370       0.0583        0.4990          0.000008    0.6880   \n",
       "2        1    -5.487       0.0309        0.0212          0.000012    0.5430   \n",
       "3        0    -3.558       0.0369        0.2210          0.000000    0.2720   \n",
       "4        0    -3.558       0.0369        0.2210          0.000000    0.2720   \n",
       "...    ...       ...          ...           ...               ...       ...   \n",
       "70178    0    -6.029       0.1620        0.3150          0.000034    0.0894   \n",
       "70179    1    -6.459       0.0600        0.1110          0.000000    0.3150   \n",
       "70180    1    -6.935       0.0651        0.7990          0.000000    0.0966   \n",
       "70181    1    -4.954       0.0356        0.1700          0.000000    0.3070   \n",
       "70182    0    -8.370       0.0583        0.4990          0.000008    0.6880   \n",
       "\n",
       "       valence    tempo  duration        country  \n",
       "0        0.132  143.874    242014         Canada  \n",
       "1        0.412  121.002    279204         Canada  \n",
       "2        0.644  118.051    215627         Canada  \n",
       "3        0.756   90.989    140526         Canada  \n",
       "4        0.756   90.989    140526         Canada  \n",
       "...        ...      ...       ...            ...  \n",
       "70178    0.793   91.942    138293  United States  \n",
       "70179    0.855   79.994    161853  United States  \n",
       "70180    0.801  117.896    182347  United States  \n",
       "70181    0.175  134.170    228373  United States  \n",
       "70182    0.412  121.002    279204  United States  \n",
       "\n",
       "[70183 rows x 24 columns]"
      ]
     },
     "execution_count": 6,
     "metadata": {},
     "output_type": "execute_result"
    }
   ],
   "source": [
    "charts"
   ]
  },
  {
   "cell_type": "markdown",
   "id": "add570c0",
   "metadata": {},
   "source": [
    "You may notice that some songs, like `'Mood (feat. iaan dior)'`, appear multiple times. This happens for a few reasons. For one, songs that appear on the top 200 for multiple weeks will have separate rows for each week. Furthermore, for each week that a song appears on the top 200, there will be a separate row for each artist included on that song. Notice that the `'artist_names'` column has **all** artists that collaborated on a song, and the `'artist_individual'` has just one. In addition, `charts` contains the top 200 for each week for each of the United States, Canada, and Mexico. There could be other reasons why a song might appear in multiple rows of `charts`, as well.\n",
    "\n",
    "In this first section of the project, we'll work towards understanding which rows of `charts` actually correspond to the same song."
   ]
  },
  {
   "cell_type": "markdown",
   "id": "ff5751f7",
   "metadata": {},
   "source": [
    "**Question 1.1.** For now, we'll think of a song as being defined by its `'uri'`. How many distinct `'uri'`s actually appear in this dataset? Store your answer in a variable called ```unique_uris```."
   ]
  },
  {
   "cell_type": "code",
   "execution_count": 7,
   "id": "70f50488",
   "metadata": {
    "scrolled": true
   },
   "outputs": [
    {
     "data": {
      "text/plain": [
       "2850"
      ]
     },
     "execution_count": 7,
     "metadata": {},
     "output_type": "execute_result"
    }
   ],
   "source": [
    "unique_uris = charts.get('uri').unique().shape[0]\n",
    "unique_uris"
   ]
  },
  {
   "cell_type": "code",
   "execution_count": 8,
   "id": "f9cbe5d4",
   "metadata": {
    "deletable": false,
    "editable": false
   },
   "outputs": [
    {
     "data": {
      "text/html": [
       "<p><strong><pre style='display: inline;'>q1_1</pre></strong> passed! 🙌</p>"
      ],
      "text/plain": [
       "q1_1 results: All test cases passed!"
      ]
     },
     "execution_count": 8,
     "metadata": {},
     "output_type": "execute_result"
    }
   ],
   "source": [
    "grader.check(\"q1_1\")"
   ]
  },
  {
   "cell_type": "markdown",
   "id": "a3e2b282",
   "metadata": {},
   "source": [
    "Although the dataset has over 70,000 rows, it contains far fewer songs.\n",
    "\n",
    "It turns out that `'uri'` is not actually a unique indicator for each song. One song may appear on Spotify under various `'uri'`s if there are different versions of the song, such as an explicit version and a \"clean\" version, or a remix. Similarly, sometimes a song is released as a single, then as part of an album, and maybe years later as part of a \"best-of\" compilation album. \n",
    "\n",
    "**Question 1.2.** To illustrate this, let's look at the track named `'Astronaut In The Ocean'` by `'Masked Wolf'`. (You may be familiar with this song from TikTok – it starts with \"What you know about rollin' down in the deep?\") \n",
    "\n",
    "Set `astronaut_ocean_uris` to an array of all the unique `'uri'`s associated with the `'track_name'` `'Astronaut in the Ocean'`."
   ]
  },
  {
   "cell_type": "code",
   "execution_count": 9,
   "id": "a75c71e5",
   "metadata": {
    "scrolled": true
   },
   "outputs": [
    {
     "data": {
      "text/plain": [
       "array(['spotify:track:3Ofmpyhv5UAQ70mENzB277',\n",
       "       'spotify:track:3VT8hOC5vuDXBsHrR53WFh',\n",
       "       'spotify:track:0BGwAKW4u8kWOhWFflZxfl',\n",
       "       'spotify:track:6E90gq0KO6FYZVOXx8kCcC'], dtype=object)"
      ]
     },
     "execution_count": 9,
     "metadata": {},
     "output_type": "execute_result"
    }
   ],
   "source": [
    "astronaut_ocean_uris = np.array(charts[charts.get('track_name') == 'Astronaut In The Ocean'].get('uri').unique())\n",
    "astronaut_ocean_uris"
   ]
  },
  {
   "cell_type": "code",
   "execution_count": 10,
   "id": "40e9c408",
   "metadata": {
    "deletable": false,
    "editable": false
   },
   "outputs": [
    {
     "data": {
      "text/html": [
       "<p><strong><pre style='display: inline;'>q1_2</pre></strong> passed! 💯</p>"
      ],
      "text/plain": [
       "q1_2 results: All test cases passed!"
      ]
     },
     "execution_count": 10,
     "metadata": {},
     "output_type": "execute_result"
    }
   ],
   "source": [
    "grader.check(\"q1_2\")"
   ]
  },
  {
   "cell_type": "markdown",
   "id": "d0ae379e",
   "metadata": {},
   "source": [
    "As we saw in the data description section, to play a song in our notebook, we call the function `play_spotify` on the song's `'uri'`. For example, the next cell plays a random song."
   ]
  },
  {
   "cell_type": "code",
   "execution_count": 11,
   "id": "13bfe7d1",
   "metadata": {},
   "outputs": [
    {
     "data": {
      "text/html": [
       "\n",
       "        <iframe\n",
       "            width=\"400\"\n",
       "            height=\"75\"\n",
       "            src=\"https://open.spotify.com/embed/track/6v0UJD4a2FtleHeSYVX02A\"\n",
       "            frameborder=\"0\"\n",
       "            allowfullscreen\n",
       "            \n",
       "        ></iframe>\n",
       "        "
      ],
      "text/plain": [
       "<IPython.lib.display.IFrame at 0x7fbb508d3310>"
      ]
     },
     "metadata": {},
     "output_type": "display_data"
    }
   ],
   "source": [
    "random_uri = np.random.choice(charts.get('uri')) # This line randomly selects a uri.\n",
    "play_spotify(random_uri) # This line plays the song with that uri."
   ]
  },
  {
   "cell_type": "markdown",
   "id": "1e025c29",
   "metadata": {},
   "source": [
    "**Question 1.3.** Loop through all the `'uri'`s in `astronaut_ocean_uris` and play each song. Since you're using a loop, you should only have to call the function `play_spotify` one time! "
   ]
  },
  {
   "cell_type": "markdown",
   "id": "af0ff298",
   "metadata": {
    "deletable": false,
    "editable": false
   },
   "source": [
    "<!-- BEGIN QUESTION -->\n",
    "\n",
    "<!--\n",
    "BEGIN QUESTION\n",
    "name: q1_3\n",
    "manual: true\n",
    "points: 1\n",
    "-->"
   ]
  },
  {
   "cell_type": "code",
   "execution_count": 12,
   "id": "d47c9389",
   "metadata": {},
   "outputs": [
    {
     "data": {
      "text/html": [
       "\n",
       "        <iframe\n",
       "            width=\"400\"\n",
       "            height=\"75\"\n",
       "            src=\"https://open.spotify.com/embed/track/3Ofmpyhv5UAQ70mENzB277\"\n",
       "            frameborder=\"0\"\n",
       "            allowfullscreen\n",
       "            \n",
       "        ></iframe>\n",
       "        "
      ],
      "text/plain": [
       "<IPython.lib.display.IFrame at 0x7fbb6547ea90>"
      ]
     },
     "metadata": {},
     "output_type": "display_data"
    },
    {
     "data": {
      "text/html": [
       "\n",
       "        <iframe\n",
       "            width=\"400\"\n",
       "            height=\"75\"\n",
       "            src=\"https://open.spotify.com/embed/track/3VT8hOC5vuDXBsHrR53WFh\"\n",
       "            frameborder=\"0\"\n",
       "            allowfullscreen\n",
       "            \n",
       "        ></iframe>\n",
       "        "
      ],
      "text/plain": [
       "<IPython.lib.display.IFrame at 0x7fbb8090fd90>"
      ]
     },
     "metadata": {},
     "output_type": "display_data"
    },
    {
     "data": {
      "text/html": [
       "\n",
       "        <iframe\n",
       "            width=\"400\"\n",
       "            height=\"75\"\n",
       "            src=\"https://open.spotify.com/embed/track/0BGwAKW4u8kWOhWFflZxfl\"\n",
       "            frameborder=\"0\"\n",
       "            allowfullscreen\n",
       "            \n",
       "        ></iframe>\n",
       "        "
      ],
      "text/plain": [
       "<IPython.lib.display.IFrame at 0x7fbb8090fd90>"
      ]
     },
     "metadata": {},
     "output_type": "display_data"
    },
    {
     "data": {
      "text/html": [
       "\n",
       "        <iframe\n",
       "            width=\"400\"\n",
       "            height=\"75\"\n",
       "            src=\"https://open.spotify.com/embed/track/6E90gq0KO6FYZVOXx8kCcC\"\n",
       "            frameborder=\"0\"\n",
       "            allowfullscreen\n",
       "            \n",
       "        ></iframe>\n",
       "        "
      ],
      "text/plain": [
       "<IPython.lib.display.IFrame at 0x7fbb8090fd90>"
      ]
     },
     "metadata": {},
     "output_type": "display_data"
    }
   ],
   "source": [
    "# Play the songs here.\n",
    "for song in astronaut_ocean_uris:\n",
    "    play_spotify(song)"
   ]
  },
  {
   "cell_type": "markdown",
   "id": "59d2e6c6",
   "metadata": {},
   "source": [
    "<!-- END QUESTION -->\n",
    "\n",
    "\n",
    "\n",
    "`'Astronaut In The Ocean'` is not the only song with multiple `'uri'`s. Let's take a look at how common it is to have multiple `'uri'`s for one `'track_name'`. "
   ]
  },
  {
   "cell_type": "markdown",
   "id": "289563cb",
   "metadata": {},
   "source": [
    "**Question 1.4. ⭐️⭐️** Create a DataFrame, indexed by `'track_name'`, with just one column called `'uri_count'` containing the number of different `'uri'`s associated with each `'track_name'`. Sort the rows in descending order of `'uri_count'` and assign the resulting DataFrame to the variable `uris_per_track`."
   ]
  },
  {
   "cell_type": "code",
   "execution_count": 13,
   "id": "31fd783b",
   "metadata": {},
   "outputs": [
    {
     "data": {
      "text/html": [
       "<div>\n",
       "<style scoped>\n",
       "    .dataframe tbody tr th:only-of-type {\n",
       "        vertical-align: middle;\n",
       "    }\n",
       "\n",
       "    .dataframe tbody tr th {\n",
       "        vertical-align: top;\n",
       "    }\n",
       "\n",
       "    .dataframe thead th {\n",
       "        text-align: right;\n",
       "    }\n",
       "</style>\n",
       "<table border=\"1\" class=\"dataframe\">\n",
       "  <thead>\n",
       "    <tr style=\"text-align: right;\">\n",
       "      <th></th>\n",
       "      <th>uri_count</th>\n",
       "    </tr>\n",
       "    <tr>\n",
       "      <th>track_name</th>\n",
       "      <th></th>\n",
       "    </tr>\n",
       "  </thead>\n",
       "  <tbody>\n",
       "    <tr>\n",
       "      <th>Lemonade (feat. Gunna, Don Toliver &amp; NAV)</th>\n",
       "      <td>448</td>\n",
       "    </tr>\n",
       "    <tr>\n",
       "      <th>Peaches (feat. Daniel Caesar &amp; Giveon)</th>\n",
       "      <td>435</td>\n",
       "    </tr>\n",
       "    <tr>\n",
       "      <th>Cold Heart - PNAU Remix</th>\n",
       "      <td>426</td>\n",
       "    </tr>\n",
       "    <tr>\n",
       "      <th>Leave The Door Open</th>\n",
       "      <td>405</td>\n",
       "    </tr>\n",
       "    <tr>\n",
       "      <th>Enemy (with JID) - from the series Arcane League of Legends</th>\n",
       "      <td>396</td>\n",
       "    </tr>\n",
       "    <tr>\n",
       "      <th>...</th>\n",
       "      <td>...</td>\n",
       "    </tr>\n",
       "    <tr>\n",
       "      <th>No Es Por Acá</th>\n",
       "      <td>1</td>\n",
       "    </tr>\n",
       "    <tr>\n",
       "      <th>No Hay Más Que Hablar</th>\n",
       "      <td>1</td>\n",
       "    </tr>\n",
       "    <tr>\n",
       "      <th>Corazón Mágico</th>\n",
       "      <td>1</td>\n",
       "    </tr>\n",
       "    <tr>\n",
       "      <th>No Time For Sleep (Freestyle)</th>\n",
       "      <td>1</td>\n",
       "    </tr>\n",
       "    <tr>\n",
       "      <th>West Coast</th>\n",
       "      <td>1</td>\n",
       "    </tr>\n",
       "  </tbody>\n",
       "</table>\n",
       "<p>2521 rows × 1 columns</p>\n",
       "</div>"
      ],
      "text/plain": [
       "                                                    uri_count\n",
       "track_name                                                   \n",
       "Lemonade (feat. Gunna, Don Toliver & NAV)                 448\n",
       "Peaches (feat. Daniel Caesar & Giveon)                    435\n",
       "Cold Heart - PNAU Remix                                   426\n",
       "Leave The Door Open                                       405\n",
       "Enemy (with JID) - from the series Arcane Leagu...        396\n",
       "...                                                       ...\n",
       "No Es Por Acá                                               1\n",
       "No Hay Más Que Hablar                                       1\n",
       "Corazón Mágico                                              1\n",
       "No Time For Sleep (Freestyle)                               1\n",
       "West Coast                                                  1\n",
       "\n",
       "[2521 rows x 1 columns]"
      ]
     },
     "execution_count": 13,
     "metadata": {},
     "output_type": "execute_result"
    }
   ],
   "source": [
    "uris_per_track = (charts.assign(uri_count = charts.get('uri'))\n",
    "                  .get(['uri_count', 'track_name'])\n",
    "                  .groupby('track_name').count()\n",
    "                  .sort_values(by = 'uri_count', ascending = False))\n",
    "uris_per_track"
   ]
  },
  {
   "cell_type": "code",
   "execution_count": 14,
   "id": "90dba1d5",
   "metadata": {
    "deletable": false,
    "editable": false
   },
   "outputs": [
    {
     "data": {
      "text/html": [
       "<p><strong><pre style='display: inline;'>q1_4</pre></strong> passed! 🍀</p>"
      ],
      "text/plain": [
       "q1_4 results: All test cases passed!"
      ]
     },
     "execution_count": 14,
     "metadata": {},
     "output_type": "execute_result"
    }
   ],
   "source": [
    "grader.check(\"q1_4\")"
   ]
  },
  {
   "cell_type": "markdown",
   "id": "9eeac26e",
   "metadata": {},
   "source": [
    "**Question 1.5.** What's the average number of `'uri'`s per track? Store your answer in a variable called `avg_uri_count`."
   ]
  },
  {
   "cell_type": "code",
   "execution_count": 15,
   "id": "10e2be41",
   "metadata": {
    "scrolled": true
   },
   "outputs": [
    {
     "data": {
      "text/plain": [
       "27.839349464498216"
      ]
     },
     "execution_count": 15,
     "metadata": {},
     "output_type": "execute_result"
    }
   ],
   "source": [
    "avg_uri_count = uris_per_track.get('uri_count').mean()\n",
    "avg_uri_count"
   ]
  },
  {
   "cell_type": "code",
   "execution_count": 16,
   "id": "2f434359",
   "metadata": {
    "deletable": false,
    "editable": false
   },
   "outputs": [
    {
     "data": {
      "text/html": [
       "<p><strong><pre style='display: inline;'>q1_5</pre></strong> passed! 🙌</p>"
      ],
      "text/plain": [
       "q1_5 results: All test cases passed!"
      ]
     },
     "execution_count": 16,
     "metadata": {},
     "output_type": "execute_result"
    }
   ],
   "source": [
    "grader.check(\"q1_5\")"
   ]
  },
  {
   "cell_type": "markdown",
   "id": "a363028d",
   "metadata": {},
   "source": [
    "Let's look more closely at the song `'Toxic'`, which has more `'uri'`s than any other `'track_name'` in the dataset. Part of the reason it has so many `'uri'`s is that there are actually several different songs named `'Toxic'`, by different artists. \n",
    "\n",
    "**Question 1.6.** Create an array called `toxic_artists` containing all unique `'artist_names'` that have a song named `'Toxic'`. "
   ]
  },
  {
   "cell_type": "code",
   "execution_count": 17,
   "id": "de724d63",
   "metadata": {
    "scrolled": true
   },
   "outputs": [
    {
     "data": {
      "text/plain": [
       "array(['Polo G', 'BoyWithUke', 'Britney Spears'], dtype=object)"
      ]
     },
     "execution_count": 17,
     "metadata": {},
     "output_type": "execute_result"
    }
   ],
   "source": [
    "toxic_artists = np.array(charts[charts.get('track_name') == 'Toxic'].get('artist_names').unique())\n",
    "toxic_artists"
   ]
  },
  {
   "cell_type": "code",
   "execution_count": 18,
   "id": "bba48882",
   "metadata": {
    "deletable": false,
    "editable": false
   },
   "outputs": [
    {
     "data": {
      "text/html": [
       "<p><strong><pre style='display: inline;'>q1_6</pre></strong> passed! 🌈</p>"
      ],
      "text/plain": [
       "q1_6 results: All test cases passed!"
      ]
     },
     "execution_count": 18,
     "metadata": {},
     "output_type": "execute_result"
    }
   ],
   "source": [
    "grader.check(\"q1_6\")"
   ]
  },
  {
   "cell_type": "markdown",
   "id": "27e784cd",
   "metadata": {},
   "source": [
    "If you did Question 1.6 correctly, you'll see that there are 3 different `'artist_names'` who have songs named `'Toxic'`. Let's try and redo our calculation for _all_ `'track_names'` in our dataset, not just `'Toxic'`.\n",
    "\n",
    "**Question 1.7. ⭐️⭐️** Create a DataFrame of all `'track_names'` that are associated with **multiple** `'artist_names'`. Your DataFrame should have two columns:\n",
    "1. `'track_name'`, the name of a song. \n",
    "2. `'num_artists'`, the number of different artists (or groups of artists) that have songs by this name.\n",
    "\n",
    "Save your DataFrame as `repeat_titles`."
   ]
  },
  {
   "cell_type": "code",
   "execution_count": 19,
   "id": "70144ff9",
   "metadata": {},
   "outputs": [
    {
     "data": {
      "text/html": [
       "<div>\n",
       "<style scoped>\n",
       "    .dataframe tbody tr th:only-of-type {\n",
       "        vertical-align: middle;\n",
       "    }\n",
       "\n",
       "    .dataframe tbody tr th {\n",
       "        vertical-align: top;\n",
       "    }\n",
       "\n",
       "    .dataframe thead th {\n",
       "        text-align: right;\n",
       "    }\n",
       "</style>\n",
       "<table border=\"1\" class=\"dataframe\">\n",
       "  <thead>\n",
       "    <tr style=\"text-align: right;\">\n",
       "      <th></th>\n",
       "      <th>track_name</th>\n",
       "      <th>num_artists</th>\n",
       "    </tr>\n",
       "  </thead>\n",
       "  <tbody>\n",
       "    <tr>\n",
       "      <th>0</th>\n",
       "      <td>'Till I Collapse</td>\n",
       "      <td>2</td>\n",
       "    </tr>\n",
       "    <tr>\n",
       "      <th>1</th>\n",
       "      <td>1 0 0 . m i l ‘ (with Bas)</td>\n",
       "      <td>2</td>\n",
       "    </tr>\n",
       "    <tr>\n",
       "      <th>2</th>\n",
       "      <td>1 Scale (feat. G Herbo)</td>\n",
       "      <td>2</td>\n",
       "    </tr>\n",
       "    <tr>\n",
       "      <th>3</th>\n",
       "      <td>10,000 Hours (with Justin Bieber)</td>\n",
       "      <td>2</td>\n",
       "    </tr>\n",
       "    <tr>\n",
       "      <th>4</th>\n",
       "      <td>100</td>\n",
       "      <td>2</td>\n",
       "    </tr>\n",
       "    <tr>\n",
       "      <th>...</th>\n",
       "      <td>...</td>\n",
       "      <td>...</td>\n",
       "    </tr>\n",
       "    <tr>\n",
       "      <th>976</th>\n",
       "      <td>yoga (feat. Rebecca Black)</td>\n",
       "      <td>2</td>\n",
       "    </tr>\n",
       "    <tr>\n",
       "      <th>977</th>\n",
       "      <td>you &amp; me</td>\n",
       "      <td>2</td>\n",
       "    </tr>\n",
       "    <tr>\n",
       "      <th>978</th>\n",
       "      <td>¿Quién Te Crees?</td>\n",
       "      <td>2</td>\n",
       "    </tr>\n",
       "    <tr>\n",
       "      <th>979</th>\n",
       "      <td>Éxtasis</td>\n",
       "      <td>2</td>\n",
       "    </tr>\n",
       "    <tr>\n",
       "      <th>980</th>\n",
       "      <td>Índigo</td>\n",
       "      <td>2</td>\n",
       "    </tr>\n",
       "  </tbody>\n",
       "</table>\n",
       "<p>981 rows × 2 columns</p>\n",
       "</div>"
      ],
      "text/plain": [
       "                            track_name  num_artists\n",
       "0                     'Till I Collapse            2\n",
       "1           1 0 0 . m i l ‘ (with Bas)            2\n",
       "2              1 Scale (feat. G Herbo)            2\n",
       "3    10,000 Hours (with Justin Bieber)            2\n",
       "4                                  100            2\n",
       "..                                 ...          ...\n",
       "976         yoga (feat. Rebecca Black)            2\n",
       "977                           you & me            2\n",
       "978                   ¿Quién Te Crees?            2\n",
       "979                            Éxtasis            2\n",
       "980                             Índigo            2\n",
       "\n",
       "[981 rows x 2 columns]"
      ]
     },
     "execution_count": 19,
     "metadata": {},
     "output_type": "execute_result"
    }
   ],
   "source": [
    "def count_artists(artists):\n",
    "    return len(artists.split(','))\n",
    "\n",
    "with_multiple_artists = (charts[charts.get('artist_names').str.contains(',')]\n",
    "                         .groupby(['track_name', 'artist_names']).count()\n",
    "                         .reset_index())\n",
    "num_artists_added = with_multiple_artists.assign(num_artists = with_multiple_artists.get('artist_names').apply(count_artists))\n",
    "repeat_titles = num_artists_added.get(['track_name', 'num_artists'])\n",
    "repeat_titles"
   ]
  },
  {
   "cell_type": "code",
   "execution_count": 20,
   "id": "e6aac6fc",
   "metadata": {
    "deletable": false,
    "editable": false
   },
   "outputs": [
    {
     "data": {
      "text/html": [
       "<p><strong><pre style='display: inline;'>q1_7</pre></strong> passed! 🎉</p>"
      ],
      "text/plain": [
       "q1_7 results: All test cases passed!"
      ]
     },
     "execution_count": 20,
     "metadata": {},
     "output_type": "execute_result"
    }
   ],
   "source": [
    "grader.check(\"q1_7\")"
   ]
  },
  {
   "cell_type": "markdown",
   "id": "1d10cd9e",
   "metadata": {},
   "source": [
    "**Question 1.8. ⭐️⭐️** Add a column to `repeat_titles` called `'all_artists'`. Each entry of this column should be a string of all the `'artist_names'` associated with a given `'track_name'`, in any order. Format each string so that `'; '` appears between each of the `'artist_names'`.\n",
    "\n",
    "For example, the `'track_name'` `'Memories'` is associated with the `'artist_names'` `'Maroon 5'`, `'dvsn, Ty Dolla $ign'`, and `'Conan Grey'`, so the value in the `'all_artists'` column for `'Memories'` could be `'Maroon 5; dvsn, Ty Dolla $ign'; Conan Grey'`.\n",
    "\n",
    "*Hint*: Start by defining a function, then `apply` this function to each `'track_name'`."
   ]
  },
  {
   "cell_type": "code",
   "execution_count": 21,
   "id": "5c67a42c",
   "metadata": {
    "scrolled": true
   },
   "outputs": [
    {
     "data": {
      "text/html": [
       "<div>\n",
       "<style scoped>\n",
       "    .dataframe tbody tr th:only-of-type {\n",
       "        vertical-align: middle;\n",
       "    }\n",
       "\n",
       "    .dataframe tbody tr th {\n",
       "        vertical-align: top;\n",
       "    }\n",
       "\n",
       "    .dataframe thead th {\n",
       "        text-align: right;\n",
       "    }\n",
       "</style>\n",
       "<table border=\"1\" class=\"dataframe\">\n",
       "  <thead>\n",
       "    <tr style=\"text-align: right;\">\n",
       "      <th></th>\n",
       "      <th>track_name</th>\n",
       "      <th>num_artists</th>\n",
       "      <th>all_artists</th>\n",
       "    </tr>\n",
       "  </thead>\n",
       "  <tbody>\n",
       "    <tr>\n",
       "      <th>0</th>\n",
       "      <td>'Till I Collapse</td>\n",
       "      <td>2</td>\n",
       "      <td>Eminem, Nate Dogg</td>\n",
       "    </tr>\n",
       "    <tr>\n",
       "      <th>1</th>\n",
       "      <td>1 0 0 . m i l ‘ (with Bas)</td>\n",
       "      <td>2</td>\n",
       "      <td>J. Cole, Bas</td>\n",
       "    </tr>\n",
       "    <tr>\n",
       "      <th>2</th>\n",
       "      <td>1 Scale (feat. G Herbo)</td>\n",
       "      <td>2</td>\n",
       "      <td>Young Dolph, G Herbo</td>\n",
       "    </tr>\n",
       "    <tr>\n",
       "      <th>3</th>\n",
       "      <td>10,000 Hours (with Justin Bieber)</td>\n",
       "      <td>2</td>\n",
       "      <td>Dan + Shay, Justin Bieber</td>\n",
       "    </tr>\n",
       "    <tr>\n",
       "      <th>4</th>\n",
       "      <td>100</td>\n",
       "      <td>2</td>\n",
       "      <td>Anuel AA, Ozuna</td>\n",
       "    </tr>\n",
       "    <tr>\n",
       "      <th>...</th>\n",
       "      <td>...</td>\n",
       "      <td>...</td>\n",
       "      <td>...</td>\n",
       "    </tr>\n",
       "    <tr>\n",
       "      <th>976</th>\n",
       "      <td>yoga (feat. Rebecca Black)</td>\n",
       "      <td>2</td>\n",
       "      <td>bbno$, Rebecca Black</td>\n",
       "    </tr>\n",
       "    <tr>\n",
       "      <th>977</th>\n",
       "      <td>you &amp; me</td>\n",
       "      <td>2</td>\n",
       "      <td>Gunna, Chlöe</td>\n",
       "    </tr>\n",
       "    <tr>\n",
       "      <th>978</th>\n",
       "      <td>¿Quién Te Crees?</td>\n",
       "      <td>2</td>\n",
       "      <td>MC Davo, Calibre 50</td>\n",
       "    </tr>\n",
       "    <tr>\n",
       "      <th>979</th>\n",
       "      <td>Éxtasis</td>\n",
       "      <td>2</td>\n",
       "      <td>Millonario &amp; W. Corona, Cartel De Santa</td>\n",
       "    </tr>\n",
       "    <tr>\n",
       "      <th>980</th>\n",
       "      <td>Índigo</td>\n",
       "      <td>2</td>\n",
       "      <td>Camilo, Evaluna Montaner</td>\n",
       "    </tr>\n",
       "  </tbody>\n",
       "</table>\n",
       "<p>981 rows × 3 columns</p>\n",
       "</div>"
      ],
      "text/plain": [
       "                            track_name  num_artists  \\\n",
       "0                     'Till I Collapse            2   \n",
       "1           1 0 0 . m i l ‘ (with Bas)            2   \n",
       "2              1 Scale (feat. G Herbo)            2   \n",
       "3    10,000 Hours (with Justin Bieber)            2   \n",
       "4                                  100            2   \n",
       "..                                 ...          ...   \n",
       "976         yoga (feat. Rebecca Black)            2   \n",
       "977                           you & me            2   \n",
       "978                   ¿Quién Te Crees?            2   \n",
       "979                            Éxtasis            2   \n",
       "980                             Índigo            2   \n",
       "\n",
       "                                 all_artists  \n",
       "0                          Eminem, Nate Dogg  \n",
       "1                               J. Cole, Bas  \n",
       "2                       Young Dolph, G Herbo  \n",
       "3                  Dan + Shay, Justin Bieber  \n",
       "4                            Anuel AA, Ozuna  \n",
       "..                                       ...  \n",
       "976                     bbno$, Rebecca Black  \n",
       "977                             Gunna, Chlöe  \n",
       "978                      MC Davo, Calibre 50  \n",
       "979  Millonario & W. Corona, Cartel De Santa  \n",
       "980                 Camilo, Evaluna Montaner  \n",
       "\n",
       "[981 rows x 3 columns]"
      ]
     },
     "execution_count": 21,
     "metadata": {},
     "output_type": "execute_result"
    }
   ],
   "source": [
    "def repeat_artist(track):\n",
    "    sentence = ''\n",
    "    artists = np.array(charts[charts.get('track_name') == track].get('artist_names').unique())\n",
    "    for artist in artists:\n",
    "        sentence += artist + '; '\n",
    "    return sentence[0:-2]\n",
    "\n",
    "repeat_titles = repeat_titles.assign(all_artists = repeat_titles.get('track_name').apply(repeat_artist))\n",
    "# Below is a test to see the artists associated with 'Memories'\n",
    "# repeat_titles = repeat_titles[repeat_titles.get('track_name') == 'Memories'].get('all_artists')\n",
    "repeat_titles"
   ]
  },
  {
   "cell_type": "code",
   "execution_count": 22,
   "id": "a7a54fe8",
   "metadata": {
    "deletable": false,
    "editable": false
   },
   "outputs": [
    {
     "data": {
      "text/html": [
       "<p><strong><pre style='display: inline;'>q1_8</pre></strong> passed! 💯</p>"
      ],
      "text/plain": [
       "q1_8 results: All test cases passed!"
      ]
     },
     "execution_count": 22,
     "metadata": {},
     "output_type": "execute_result"
    }
   ],
   "source": [
    "grader.check(\"q1_8\")"
   ]
  },
  {
   "cell_type": "markdown",
   "id": "037dbfac",
   "metadata": {},
   "source": [
    "So far, we've established that we can't use `'uri'` to identify a song, because some songs have multiple versions and hence multiple `'uri'`s. We also can't use `'track_name'` to identify a song, because different artists sometimes have songs with the same name.\n",
    "\n",
    "However, it's a pretty safe assumption that no artist will have two different songs with the same name, so from here on, we will use both `'track_name'` and `'artist_names'` to identify a song. \n",
    "\n",
    "**Question 1.9.** If we define a song as a combination of `'track_name'` and `'artist_names'`, how many songs are in `charts`?  Store your answer in a variable called `num_songs`."
   ]
  },
  {
   "cell_type": "code",
   "execution_count": 23,
   "id": "59961d0f",
   "metadata": {
    "scrolled": true
   },
   "outputs": [
    {
     "data": {
      "text/plain": [
       "2554"
      ]
     },
     "execution_count": 23,
     "metadata": {},
     "output_type": "execute_result"
    }
   ],
   "source": [
    "num_songs = charts.groupby(['track_name', 'artist_names']).count().shape[0]\n",
    "num_songs"
   ]
  },
  {
   "cell_type": "code",
   "execution_count": 24,
   "id": "69ceff7c",
   "metadata": {
    "deletable": false,
    "editable": false
   },
   "outputs": [
    {
     "data": {
      "text/html": [
       "<p><strong><pre style='display: inline;'>q1_9</pre></strong> passed! 🚀</p>"
      ],
      "text/plain": [
       "q1_9 results: All test cases passed!"
      ]
     },
     "execution_count": 24,
     "metadata": {},
     "output_type": "execute_result"
    }
   ],
   "source": [
    "grader.check(\"q1_9\")"
   ]
  },
  {
   "cell_type": "markdown",
   "id": "52d4e510",
   "metadata": {},
   "source": [
    "Defining a song in this way means that multiple rows in `charts` correspond to the same song, for a variety of reasons we have already explored. If we want to make a DataFrame of just songs, we will need a way to handle discrepancies between the rows of `charts` that correspond to the same song. In each column where it makes sense to do so, we'll just take the median of all values corresponding to the same song.\n",
    "\n",
    "**Question 1.10.** Create a DataFrame called `songs_on_charts` containing one row for each song that appears in `charts`. The first two columns should be `'track_name'` and `'artist_names'`. The remaining columns should be those listed below, and each column should contain the **median** value among all instances of the song.\n",
    "- `'danceability'`\n",
    "- `'energy'`\n",
    "- `'key'`\n",
    "- `'mode'`\n",
    "- `'loudness'`\n",
    "- `'speechiness'`\n",
    "- `'acousticness'`\n",
    "- `'instrumentalness'`\n",
    "- `'liveness'`\n",
    "- `'valence'`\n",
    "- `'tempo'`\n",
    "- `'duration'`"
   ]
  },
  {
   "cell_type": "code",
   "execution_count": 25,
   "id": "78f0dd40",
   "metadata": {
    "scrolled": false
   },
   "outputs": [
    {
     "data": {
      "text/html": [
       "<div>\n",
       "<style scoped>\n",
       "    .dataframe tbody tr th:only-of-type {\n",
       "        vertical-align: middle;\n",
       "    }\n",
       "\n",
       "    .dataframe tbody tr th {\n",
       "        vertical-align: top;\n",
       "    }\n",
       "\n",
       "    .dataframe thead th {\n",
       "        text-align: right;\n",
       "    }\n",
       "</style>\n",
       "<table border=\"1\" class=\"dataframe\">\n",
       "  <thead>\n",
       "    <tr style=\"text-align: right;\">\n",
       "      <th></th>\n",
       "      <th>track_name</th>\n",
       "      <th>artist_names</th>\n",
       "      <th>danceability</th>\n",
       "      <th>energy</th>\n",
       "      <th>key</th>\n",
       "      <th>mode</th>\n",
       "      <th>loudness</th>\n",
       "      <th>speechiness</th>\n",
       "      <th>acousticness</th>\n",
       "      <th>instrumentalness</th>\n",
       "      <th>liveness</th>\n",
       "      <th>valence</th>\n",
       "      <th>tempo</th>\n",
       "      <th>duration</th>\n",
       "    </tr>\n",
       "  </thead>\n",
       "  <tbody>\n",
       "    <tr>\n",
       "      <th>0</th>\n",
       "      <td>'Til You Can't</td>\n",
       "      <td>Cody Johnson</td>\n",
       "      <td>0.501</td>\n",
       "      <td>0.815</td>\n",
       "      <td>1.0</td>\n",
       "      <td>1.0</td>\n",
       "      <td>-4.865</td>\n",
       "      <td>0.0436</td>\n",
       "      <td>0.05130</td>\n",
       "      <td>0.000000</td>\n",
       "      <td>0.1060</td>\n",
       "      <td>0.4600</td>\n",
       "      <td>160.087</td>\n",
       "      <td>224213.0</td>\n",
       "    </tr>\n",
       "    <tr>\n",
       "      <th>1</th>\n",
       "      <td>'Till I Collapse</td>\n",
       "      <td>Eminem, Nate Dogg</td>\n",
       "      <td>0.548</td>\n",
       "      <td>0.847</td>\n",
       "      <td>1.0</td>\n",
       "      <td>1.0</td>\n",
       "      <td>-3.237</td>\n",
       "      <td>0.1860</td>\n",
       "      <td>0.06220</td>\n",
       "      <td>0.000000</td>\n",
       "      <td>0.0816</td>\n",
       "      <td>0.1000</td>\n",
       "      <td>171.447</td>\n",
       "      <td>297787.0</td>\n",
       "    </tr>\n",
       "    <tr>\n",
       "      <th>2</th>\n",
       "      <td>(Don't Fear) The Reaper</td>\n",
       "      <td>Blue Öyster Cult</td>\n",
       "      <td>0.333</td>\n",
       "      <td>0.927</td>\n",
       "      <td>9.0</td>\n",
       "      <td>0.0</td>\n",
       "      <td>-8.550</td>\n",
       "      <td>0.0733</td>\n",
       "      <td>0.00290</td>\n",
       "      <td>0.000208</td>\n",
       "      <td>0.2970</td>\n",
       "      <td>0.3850</td>\n",
       "      <td>141.466</td>\n",
       "      <td>308120.0</td>\n",
       "    </tr>\n",
       "    <tr>\n",
       "      <th>3</th>\n",
       "      <td>(Everybody's Waitin' For) The Man With The Bag...</td>\n",
       "      <td>Kay Starr</td>\n",
       "      <td>0.739</td>\n",
       "      <td>0.317</td>\n",
       "      <td>0.0</td>\n",
       "      <td>1.0</td>\n",
       "      <td>-8.668</td>\n",
       "      <td>0.0905</td>\n",
       "      <td>0.39100</td>\n",
       "      <td>0.004870</td>\n",
       "      <td>0.2430</td>\n",
       "      <td>0.8060</td>\n",
       "      <td>71.165</td>\n",
       "      <td>162373.0</td>\n",
       "    </tr>\n",
       "    <tr>\n",
       "      <th>4</th>\n",
       "      <td>(There's No Place Like) Home for the Holidays ...</td>\n",
       "      <td>Perry Como</td>\n",
       "      <td>0.478</td>\n",
       "      <td>0.341</td>\n",
       "      <td>5.0</td>\n",
       "      <td>1.0</td>\n",
       "      <td>-12.556</td>\n",
       "      <td>0.0511</td>\n",
       "      <td>0.89700</td>\n",
       "      <td>0.000000</td>\n",
       "      <td>0.2580</td>\n",
       "      <td>0.4740</td>\n",
       "      <td>143.736</td>\n",
       "      <td>175893.0</td>\n",
       "    </tr>\n",
       "    <tr>\n",
       "      <th>...</th>\n",
       "      <td>...</td>\n",
       "      <td>...</td>\n",
       "      <td>...</td>\n",
       "      <td>...</td>\n",
       "      <td>...</td>\n",
       "      <td>...</td>\n",
       "      <td>...</td>\n",
       "      <td>...</td>\n",
       "      <td>...</td>\n",
       "      <td>...</td>\n",
       "      <td>...</td>\n",
       "      <td>...</td>\n",
       "      <td>...</td>\n",
       "      <td>...</td>\n",
       "    </tr>\n",
       "    <tr>\n",
       "      <th>2549</th>\n",
       "      <td>you broke me first</td>\n",
       "      <td>Tate McRae</td>\n",
       "      <td>0.667</td>\n",
       "      <td>0.373</td>\n",
       "      <td>4.0</td>\n",
       "      <td>1.0</td>\n",
       "      <td>-9.389</td>\n",
       "      <td>0.0500</td>\n",
       "      <td>0.78500</td>\n",
       "      <td>0.000000</td>\n",
       "      <td>0.0906</td>\n",
       "      <td>0.0823</td>\n",
       "      <td>124.148</td>\n",
       "      <td>169266.0</td>\n",
       "    </tr>\n",
       "    <tr>\n",
       "      <th>2550</th>\n",
       "      <td>¿Por Qué Me Haces Llorar?</td>\n",
       "      <td>Juan Gabriel</td>\n",
       "      <td>0.647</td>\n",
       "      <td>0.477</td>\n",
       "      <td>0.0</td>\n",
       "      <td>1.0</td>\n",
       "      <td>-8.157</td>\n",
       "      <td>0.0342</td>\n",
       "      <td>0.03740</td>\n",
       "      <td>0.000010</td>\n",
       "      <td>0.1270</td>\n",
       "      <td>0.7930</td>\n",
       "      <td>112.041</td>\n",
       "      <td>182880.0</td>\n",
       "    </tr>\n",
       "    <tr>\n",
       "      <th>2551</th>\n",
       "      <td>¿Quién Te Crees?</td>\n",
       "      <td>MC Davo, Calibre 50</td>\n",
       "      <td>0.747</td>\n",
       "      <td>0.780</td>\n",
       "      <td>9.0</td>\n",
       "      <td>0.0</td>\n",
       "      <td>-5.302</td>\n",
       "      <td>0.2160</td>\n",
       "      <td>0.05830</td>\n",
       "      <td>0.000000</td>\n",
       "      <td>0.1640</td>\n",
       "      <td>0.5380</td>\n",
       "      <td>82.524</td>\n",
       "      <td>185493.0</td>\n",
       "    </tr>\n",
       "    <tr>\n",
       "      <th>2552</th>\n",
       "      <td>Éxtasis</td>\n",
       "      <td>Millonario &amp; W. Corona, Cartel De Santa</td>\n",
       "      <td>0.937</td>\n",
       "      <td>0.791</td>\n",
       "      <td>0.0</td>\n",
       "      <td>1.0</td>\n",
       "      <td>-5.242</td>\n",
       "      <td>0.0871</td>\n",
       "      <td>0.02050</td>\n",
       "      <td>0.000232</td>\n",
       "      <td>0.0433</td>\n",
       "      <td>0.9740</td>\n",
       "      <td>119.967</td>\n",
       "      <td>289013.0</td>\n",
       "    </tr>\n",
       "    <tr>\n",
       "      <th>2553</th>\n",
       "      <td>Índigo</td>\n",
       "      <td>Camilo, Evaluna Montaner</td>\n",
       "      <td>0.748</td>\n",
       "      <td>0.779</td>\n",
       "      <td>0.0</td>\n",
       "      <td>1.0</td>\n",
       "      <td>-6.659</td>\n",
       "      <td>0.0342</td>\n",
       "      <td>0.00884</td>\n",
       "      <td>0.000040</td>\n",
       "      <td>0.1130</td>\n",
       "      <td>0.9280</td>\n",
       "      <td>128.910</td>\n",
       "      <td>214933.0</td>\n",
       "    </tr>\n",
       "  </tbody>\n",
       "</table>\n",
       "<p>2554 rows × 14 columns</p>\n",
       "</div>"
      ],
      "text/plain": [
       "                                             track_name  \\\n",
       "0                                        'Til You Can't   \n",
       "1                                      'Till I Collapse   \n",
       "2                               (Don't Fear) The Reaper   \n",
       "3     (Everybody's Waitin' For) The Man With The Bag...   \n",
       "4     (There's No Place Like) Home for the Holidays ...   \n",
       "...                                                 ...   \n",
       "2549                                 you broke me first   \n",
       "2550                          ¿Por Qué Me Haces Llorar?   \n",
       "2551                                   ¿Quién Te Crees?   \n",
       "2552                                            Éxtasis   \n",
       "2553                                             Índigo   \n",
       "\n",
       "                                 artist_names  danceability  energy  key  \\\n",
       "0                                Cody Johnson         0.501   0.815  1.0   \n",
       "1                           Eminem, Nate Dogg         0.548   0.847  1.0   \n",
       "2                            Blue Öyster Cult         0.333   0.927  9.0   \n",
       "3                                   Kay Starr         0.739   0.317  0.0   \n",
       "4                                  Perry Como         0.478   0.341  5.0   \n",
       "...                                       ...           ...     ...  ...   \n",
       "2549                               Tate McRae         0.667   0.373  4.0   \n",
       "2550                             Juan Gabriel         0.647   0.477  0.0   \n",
       "2551                      MC Davo, Calibre 50         0.747   0.780  9.0   \n",
       "2552  Millonario & W. Corona, Cartel De Santa         0.937   0.791  0.0   \n",
       "2553                 Camilo, Evaluna Montaner         0.748   0.779  0.0   \n",
       "\n",
       "      mode  loudness  speechiness  acousticness  instrumentalness  liveness  \\\n",
       "0      1.0    -4.865       0.0436       0.05130          0.000000    0.1060   \n",
       "1      1.0    -3.237       0.1860       0.06220          0.000000    0.0816   \n",
       "2      0.0    -8.550       0.0733       0.00290          0.000208    0.2970   \n",
       "3      1.0    -8.668       0.0905       0.39100          0.004870    0.2430   \n",
       "4      1.0   -12.556       0.0511       0.89700          0.000000    0.2580   \n",
       "...    ...       ...          ...           ...               ...       ...   \n",
       "2549   1.0    -9.389       0.0500       0.78500          0.000000    0.0906   \n",
       "2550   1.0    -8.157       0.0342       0.03740          0.000010    0.1270   \n",
       "2551   0.0    -5.302       0.2160       0.05830          0.000000    0.1640   \n",
       "2552   1.0    -5.242       0.0871       0.02050          0.000232    0.0433   \n",
       "2553   1.0    -6.659       0.0342       0.00884          0.000040    0.1130   \n",
       "\n",
       "      valence    tempo  duration  \n",
       "0      0.4600  160.087  224213.0  \n",
       "1      0.1000  171.447  297787.0  \n",
       "2      0.3850  141.466  308120.0  \n",
       "3      0.8060   71.165  162373.0  \n",
       "4      0.4740  143.736  175893.0  \n",
       "...       ...      ...       ...  \n",
       "2549   0.0823  124.148  169266.0  \n",
       "2550   0.7930  112.041  182880.0  \n",
       "2551   0.5380   82.524  185493.0  \n",
       "2552   0.9740  119.967  289013.0  \n",
       "2553   0.9280  128.910  214933.0  \n",
       "\n",
       "[2554 rows x 14 columns]"
      ]
     },
     "execution_count": 25,
     "metadata": {},
     "output_type": "execute_result"
    }
   ],
   "source": [
    "songs_on_charts = (charts.groupby(['track_name', 'artist_names']).median()\n",
    "                   .drop(columns = ['rank', 'streams'])\n",
    "                   .reset_index())\n",
    "songs_on_charts"
   ]
  },
  {
   "cell_type": "code",
   "execution_count": 26,
   "id": "d05543da",
   "metadata": {
    "deletable": false,
    "editable": false
   },
   "outputs": [
    {
     "data": {
      "text/html": [
       "<p><strong><pre style='display: inline;'>q1_10</pre></strong> passed! 🙌</p>"
      ],
      "text/plain": [
       "q1_10 results: All test cases passed!"
      ]
     },
     "execution_count": 26,
     "metadata": {},
     "output_type": "execute_result"
    }
   ],
   "source": [
    "grader.check(\"q1_10\")"
   ]
  },
  {
   "cell_type": "markdown",
   "id": "474a7569",
   "metadata": {},
   "source": [
    "For the next few sections of the project, we'll use data from the `songs_on_charts` DataFrame to explore some of the audio features of these songs. As a reminder, Spotify provides [documentation](https://developer.spotify.com/documentation/web-api/reference/#/operations/get-several-audio-features) on what these features represent. Note that many of these features (such as `'valence'`) are defined and determined by Spotify. We have no way of knowing exactly how they determine the values of these audio features for each song, as their algorithms are proprietary."
   ]
  },
  {
   "cell_type": "markdown",
   "id": "8298e4da",
   "metadata": {},
   "source": [
    "<a id='section2'></a>\n",
    "## Section 2: The Sound of Music 🎶\n",
    "\n",
    "<small>(<a href=\"#outline\">return to the outline</a>)</small>"
   ]
  },
  {
   "cell_type": "markdown",
   "id": "92b02478",
   "metadata": {},
   "source": [
    "We'll start this section by providing you with `songs`, a correct copy of the `songs_on_charts` DataFrame you produced in the last question of Section 1. We're providing you with a fresh copy of the data to prevent any earlier mistakes from creating a snowball effect. It's a good idea to verify that your `songs_on_charts` DataFrame and the provided `songs` DataFrame have the same number of rows, otherwise you certainly made a mistake in Section 1.\n",
    "\n",
    "**And if you didn't complete Section 1, that's fine – you can start from Section 2 without using any results from Section 1.**"
   ]
  },
  {
   "cell_type": "code",
   "execution_count": 27,
   "id": "d145db65",
   "metadata": {},
   "outputs": [
    {
     "data": {
      "text/html": [
       "<div>\n",
       "<style scoped>\n",
       "    .dataframe tbody tr th:only-of-type {\n",
       "        vertical-align: middle;\n",
       "    }\n",
       "\n",
       "    .dataframe tbody tr th {\n",
       "        vertical-align: top;\n",
       "    }\n",
       "\n",
       "    .dataframe thead th {\n",
       "        text-align: right;\n",
       "    }\n",
       "</style>\n",
       "<table border=\"1\" class=\"dataframe\">\n",
       "  <thead>\n",
       "    <tr style=\"text-align: right;\">\n",
       "      <th></th>\n",
       "      <th>track_name</th>\n",
       "      <th>artist_names</th>\n",
       "      <th>danceability</th>\n",
       "      <th>energy</th>\n",
       "      <th>key</th>\n",
       "      <th>mode</th>\n",
       "      <th>loudness</th>\n",
       "      <th>speechiness</th>\n",
       "      <th>acousticness</th>\n",
       "      <th>instrumentalness</th>\n",
       "      <th>liveness</th>\n",
       "      <th>valence</th>\n",
       "      <th>tempo</th>\n",
       "      <th>duration</th>\n",
       "    </tr>\n",
       "  </thead>\n",
       "  <tbody>\n",
       "    <tr>\n",
       "      <th>0</th>\n",
       "      <td>'Til You Can't</td>\n",
       "      <td>Cody Johnson</td>\n",
       "      <td>0.501</td>\n",
       "      <td>0.815</td>\n",
       "      <td>1.0</td>\n",
       "      <td>1.0</td>\n",
       "      <td>-4.865</td>\n",
       "      <td>0.0436</td>\n",
       "      <td>0.05130</td>\n",
       "      <td>0.000000</td>\n",
       "      <td>0.1060</td>\n",
       "      <td>0.4600</td>\n",
       "      <td>160.087</td>\n",
       "      <td>224213.0</td>\n",
       "    </tr>\n",
       "    <tr>\n",
       "      <th>1</th>\n",
       "      <td>'Till I Collapse</td>\n",
       "      <td>Eminem, Nate Dogg</td>\n",
       "      <td>0.548</td>\n",
       "      <td>0.847</td>\n",
       "      <td>1.0</td>\n",
       "      <td>1.0</td>\n",
       "      <td>-3.237</td>\n",
       "      <td>0.1860</td>\n",
       "      <td>0.06220</td>\n",
       "      <td>0.000000</td>\n",
       "      <td>0.0816</td>\n",
       "      <td>0.1000</td>\n",
       "      <td>171.447</td>\n",
       "      <td>297787.0</td>\n",
       "    </tr>\n",
       "    <tr>\n",
       "      <th>2</th>\n",
       "      <td>(Don't Fear) The Reaper</td>\n",
       "      <td>Blue Öyster Cult</td>\n",
       "      <td>0.333</td>\n",
       "      <td>0.927</td>\n",
       "      <td>9.0</td>\n",
       "      <td>0.0</td>\n",
       "      <td>-8.550</td>\n",
       "      <td>0.0733</td>\n",
       "      <td>0.00290</td>\n",
       "      <td>0.000208</td>\n",
       "      <td>0.2970</td>\n",
       "      <td>0.3850</td>\n",
       "      <td>141.466</td>\n",
       "      <td>308120.0</td>\n",
       "    </tr>\n",
       "    <tr>\n",
       "      <th>3</th>\n",
       "      <td>(Everybody's Waitin' For) The Man With The Bag...</td>\n",
       "      <td>Kay Starr</td>\n",
       "      <td>0.739</td>\n",
       "      <td>0.317</td>\n",
       "      <td>0.0</td>\n",
       "      <td>1.0</td>\n",
       "      <td>-8.668</td>\n",
       "      <td>0.0905</td>\n",
       "      <td>0.39100</td>\n",
       "      <td>0.004870</td>\n",
       "      <td>0.2430</td>\n",
       "      <td>0.8060</td>\n",
       "      <td>71.165</td>\n",
       "      <td>162373.0</td>\n",
       "    </tr>\n",
       "    <tr>\n",
       "      <th>4</th>\n",
       "      <td>(There's No Place Like) Home for the Holidays ...</td>\n",
       "      <td>Perry Como</td>\n",
       "      <td>0.478</td>\n",
       "      <td>0.341</td>\n",
       "      <td>5.0</td>\n",
       "      <td>1.0</td>\n",
       "      <td>-12.556</td>\n",
       "      <td>0.0511</td>\n",
       "      <td>0.89700</td>\n",
       "      <td>0.000000</td>\n",
       "      <td>0.2580</td>\n",
       "      <td>0.4740</td>\n",
       "      <td>143.736</td>\n",
       "      <td>175893.0</td>\n",
       "    </tr>\n",
       "    <tr>\n",
       "      <th>...</th>\n",
       "      <td>...</td>\n",
       "      <td>...</td>\n",
       "      <td>...</td>\n",
       "      <td>...</td>\n",
       "      <td>...</td>\n",
       "      <td>...</td>\n",
       "      <td>...</td>\n",
       "      <td>...</td>\n",
       "      <td>...</td>\n",
       "      <td>...</td>\n",
       "      <td>...</td>\n",
       "      <td>...</td>\n",
       "      <td>...</td>\n",
       "      <td>...</td>\n",
       "    </tr>\n",
       "    <tr>\n",
       "      <th>2549</th>\n",
       "      <td>you broke me first</td>\n",
       "      <td>Tate McRae</td>\n",
       "      <td>0.667</td>\n",
       "      <td>0.373</td>\n",
       "      <td>4.0</td>\n",
       "      <td>1.0</td>\n",
       "      <td>-9.389</td>\n",
       "      <td>0.0500</td>\n",
       "      <td>0.78500</td>\n",
       "      <td>0.000000</td>\n",
       "      <td>0.0906</td>\n",
       "      <td>0.0823</td>\n",
       "      <td>124.148</td>\n",
       "      <td>169266.0</td>\n",
       "    </tr>\n",
       "    <tr>\n",
       "      <th>2550</th>\n",
       "      <td>¿Por Qué Me Haces Llorar?</td>\n",
       "      <td>Juan Gabriel</td>\n",
       "      <td>0.647</td>\n",
       "      <td>0.477</td>\n",
       "      <td>0.0</td>\n",
       "      <td>1.0</td>\n",
       "      <td>-8.157</td>\n",
       "      <td>0.0342</td>\n",
       "      <td>0.03740</td>\n",
       "      <td>0.000010</td>\n",
       "      <td>0.1270</td>\n",
       "      <td>0.7930</td>\n",
       "      <td>112.041</td>\n",
       "      <td>182880.0</td>\n",
       "    </tr>\n",
       "    <tr>\n",
       "      <th>2551</th>\n",
       "      <td>¿Quién Te Crees?</td>\n",
       "      <td>MC Davo, Calibre 50</td>\n",
       "      <td>0.747</td>\n",
       "      <td>0.780</td>\n",
       "      <td>9.0</td>\n",
       "      <td>0.0</td>\n",
       "      <td>-5.302</td>\n",
       "      <td>0.2160</td>\n",
       "      <td>0.05830</td>\n",
       "      <td>0.000000</td>\n",
       "      <td>0.1640</td>\n",
       "      <td>0.5380</td>\n",
       "      <td>82.524</td>\n",
       "      <td>185493.0</td>\n",
       "    </tr>\n",
       "    <tr>\n",
       "      <th>2552</th>\n",
       "      <td>Éxtasis</td>\n",
       "      <td>Millonario &amp; W. Corona, Cartel De Santa</td>\n",
       "      <td>0.937</td>\n",
       "      <td>0.791</td>\n",
       "      <td>0.0</td>\n",
       "      <td>1.0</td>\n",
       "      <td>-5.242</td>\n",
       "      <td>0.0871</td>\n",
       "      <td>0.02050</td>\n",
       "      <td>0.000232</td>\n",
       "      <td>0.0433</td>\n",
       "      <td>0.9740</td>\n",
       "      <td>119.967</td>\n",
       "      <td>289013.0</td>\n",
       "    </tr>\n",
       "    <tr>\n",
       "      <th>2553</th>\n",
       "      <td>Índigo</td>\n",
       "      <td>Camilo, Evaluna Montaner</td>\n",
       "      <td>0.748</td>\n",
       "      <td>0.779</td>\n",
       "      <td>0.0</td>\n",
       "      <td>1.0</td>\n",
       "      <td>-6.659</td>\n",
       "      <td>0.0342</td>\n",
       "      <td>0.00884</td>\n",
       "      <td>0.000040</td>\n",
       "      <td>0.1130</td>\n",
       "      <td>0.9280</td>\n",
       "      <td>128.910</td>\n",
       "      <td>214933.0</td>\n",
       "    </tr>\n",
       "  </tbody>\n",
       "</table>\n",
       "<p>2554 rows × 14 columns</p>\n",
       "</div>"
      ],
      "text/plain": [
       "                                             track_name  \\\n",
       "0                                        'Til You Can't   \n",
       "1                                      'Till I Collapse   \n",
       "2                               (Don't Fear) The Reaper   \n",
       "3     (Everybody's Waitin' For) The Man With The Bag...   \n",
       "4     (There's No Place Like) Home for the Holidays ...   \n",
       "...                                                 ...   \n",
       "2549                                 you broke me first   \n",
       "2550                          ¿Por Qué Me Haces Llorar?   \n",
       "2551                                   ¿Quién Te Crees?   \n",
       "2552                                            Éxtasis   \n",
       "2553                                             Índigo   \n",
       "\n",
       "                                 artist_names  danceability  energy  key  \\\n",
       "0                                Cody Johnson         0.501   0.815  1.0   \n",
       "1                           Eminem, Nate Dogg         0.548   0.847  1.0   \n",
       "2                            Blue Öyster Cult         0.333   0.927  9.0   \n",
       "3                                   Kay Starr         0.739   0.317  0.0   \n",
       "4                                  Perry Como         0.478   0.341  5.0   \n",
       "...                                       ...           ...     ...  ...   \n",
       "2549                               Tate McRae         0.667   0.373  4.0   \n",
       "2550                             Juan Gabriel         0.647   0.477  0.0   \n",
       "2551                      MC Davo, Calibre 50         0.747   0.780  9.0   \n",
       "2552  Millonario & W. Corona, Cartel De Santa         0.937   0.791  0.0   \n",
       "2553                 Camilo, Evaluna Montaner         0.748   0.779  0.0   \n",
       "\n",
       "      mode  loudness  speechiness  acousticness  instrumentalness  liveness  \\\n",
       "0      1.0    -4.865       0.0436       0.05130          0.000000    0.1060   \n",
       "1      1.0    -3.237       0.1860       0.06220          0.000000    0.0816   \n",
       "2      0.0    -8.550       0.0733       0.00290          0.000208    0.2970   \n",
       "3      1.0    -8.668       0.0905       0.39100          0.004870    0.2430   \n",
       "4      1.0   -12.556       0.0511       0.89700          0.000000    0.2580   \n",
       "...    ...       ...          ...           ...               ...       ...   \n",
       "2549   1.0    -9.389       0.0500       0.78500          0.000000    0.0906   \n",
       "2550   1.0    -8.157       0.0342       0.03740          0.000010    0.1270   \n",
       "2551   0.0    -5.302       0.2160       0.05830          0.000000    0.1640   \n",
       "2552   1.0    -5.242       0.0871       0.02050          0.000232    0.0433   \n",
       "2553   1.0    -6.659       0.0342       0.00884          0.000040    0.1130   \n",
       "\n",
       "      valence    tempo  duration  \n",
       "0      0.4600  160.087  224213.0  \n",
       "1      0.1000  171.447  297787.0  \n",
       "2      0.3850  141.466  308120.0  \n",
       "3      0.8060   71.165  162373.0  \n",
       "4      0.4740  143.736  175893.0  \n",
       "...       ...      ...       ...  \n",
       "2549   0.0823  124.148  169266.0  \n",
       "2550   0.7930  112.041  182880.0  \n",
       "2551   0.5380   82.524  185493.0  \n",
       "2552   0.9740  119.967  289013.0  \n",
       "2553   0.9280  128.910  214933.0  \n",
       "\n",
       "[2554 rows x 14 columns]"
      ]
     },
     "execution_count": 27,
     "metadata": {},
     "output_type": "execute_result"
    }
   ],
   "source": [
    "songs = bpd.read_csv('data/songs.csv')\n",
    "songs"
   ]
  },
  {
   "cell_type": "markdown",
   "id": "6320c93c",
   "metadata": {},
   "source": [
    "As a reminder, `songs` has one row for every song that appeared on the top 200 weekly charts during the period of data collection. The columns contain information about the audio features of songs, as mentioned at the end of Section 1.\n",
    "\n",
    "Let's try and make some sense of these audio features!"
   ]
  },
  {
   "cell_type": "markdown",
   "id": "3f69f06a",
   "metadata": {},
   "source": [
    "**Question 2.1.** First, let's make the `'duration'` column more readable by changing the units from milliseconds to minutes. Add a new column to `songs` called `'duration_min'` that contains the duration of each track in minutes, without rounding, and drop the `'duration'` column."
   ]
  },
  {
   "cell_type": "code",
   "execution_count": 28,
   "id": "802e5e75",
   "metadata": {
    "scrolled": true
   },
   "outputs": [
    {
     "data": {
      "text/html": [
       "<div>\n",
       "<style scoped>\n",
       "    .dataframe tbody tr th:only-of-type {\n",
       "        vertical-align: middle;\n",
       "    }\n",
       "\n",
       "    .dataframe tbody tr th {\n",
       "        vertical-align: top;\n",
       "    }\n",
       "\n",
       "    .dataframe thead th {\n",
       "        text-align: right;\n",
       "    }\n",
       "</style>\n",
       "<table border=\"1\" class=\"dataframe\">\n",
       "  <thead>\n",
       "    <tr style=\"text-align: right;\">\n",
       "      <th></th>\n",
       "      <th>track_name</th>\n",
       "      <th>artist_names</th>\n",
       "      <th>danceability</th>\n",
       "      <th>energy</th>\n",
       "      <th>key</th>\n",
       "      <th>mode</th>\n",
       "      <th>loudness</th>\n",
       "      <th>speechiness</th>\n",
       "      <th>acousticness</th>\n",
       "      <th>instrumentalness</th>\n",
       "      <th>liveness</th>\n",
       "      <th>valence</th>\n",
       "      <th>tempo</th>\n",
       "      <th>duration_min</th>\n",
       "    </tr>\n",
       "  </thead>\n",
       "  <tbody>\n",
       "    <tr>\n",
       "      <th>0</th>\n",
       "      <td>'Til You Can't</td>\n",
       "      <td>Cody Johnson</td>\n",
       "      <td>0.501</td>\n",
       "      <td>0.815</td>\n",
       "      <td>1.0</td>\n",
       "      <td>1.0</td>\n",
       "      <td>-4.865</td>\n",
       "      <td>0.0436</td>\n",
       "      <td>0.05130</td>\n",
       "      <td>0.000000</td>\n",
       "      <td>0.1060</td>\n",
       "      <td>0.4600</td>\n",
       "      <td>160.087</td>\n",
       "      <td>3.736883</td>\n",
       "    </tr>\n",
       "    <tr>\n",
       "      <th>1</th>\n",
       "      <td>'Till I Collapse</td>\n",
       "      <td>Eminem, Nate Dogg</td>\n",
       "      <td>0.548</td>\n",
       "      <td>0.847</td>\n",
       "      <td>1.0</td>\n",
       "      <td>1.0</td>\n",
       "      <td>-3.237</td>\n",
       "      <td>0.1860</td>\n",
       "      <td>0.06220</td>\n",
       "      <td>0.000000</td>\n",
       "      <td>0.0816</td>\n",
       "      <td>0.1000</td>\n",
       "      <td>171.447</td>\n",
       "      <td>4.963117</td>\n",
       "    </tr>\n",
       "    <tr>\n",
       "      <th>2</th>\n",
       "      <td>(Don't Fear) The Reaper</td>\n",
       "      <td>Blue Öyster Cult</td>\n",
       "      <td>0.333</td>\n",
       "      <td>0.927</td>\n",
       "      <td>9.0</td>\n",
       "      <td>0.0</td>\n",
       "      <td>-8.550</td>\n",
       "      <td>0.0733</td>\n",
       "      <td>0.00290</td>\n",
       "      <td>0.000208</td>\n",
       "      <td>0.2970</td>\n",
       "      <td>0.3850</td>\n",
       "      <td>141.466</td>\n",
       "      <td>5.135333</td>\n",
       "    </tr>\n",
       "    <tr>\n",
       "      <th>3</th>\n",
       "      <td>(Everybody's Waitin' For) The Man With The Bag...</td>\n",
       "      <td>Kay Starr</td>\n",
       "      <td>0.739</td>\n",
       "      <td>0.317</td>\n",
       "      <td>0.0</td>\n",
       "      <td>1.0</td>\n",
       "      <td>-8.668</td>\n",
       "      <td>0.0905</td>\n",
       "      <td>0.39100</td>\n",
       "      <td>0.004870</td>\n",
       "      <td>0.2430</td>\n",
       "      <td>0.8060</td>\n",
       "      <td>71.165</td>\n",
       "      <td>2.706217</td>\n",
       "    </tr>\n",
       "    <tr>\n",
       "      <th>4</th>\n",
       "      <td>(There's No Place Like) Home for the Holidays ...</td>\n",
       "      <td>Perry Como</td>\n",
       "      <td>0.478</td>\n",
       "      <td>0.341</td>\n",
       "      <td>5.0</td>\n",
       "      <td>1.0</td>\n",
       "      <td>-12.556</td>\n",
       "      <td>0.0511</td>\n",
       "      <td>0.89700</td>\n",
       "      <td>0.000000</td>\n",
       "      <td>0.2580</td>\n",
       "      <td>0.4740</td>\n",
       "      <td>143.736</td>\n",
       "      <td>2.931550</td>\n",
       "    </tr>\n",
       "    <tr>\n",
       "      <th>...</th>\n",
       "      <td>...</td>\n",
       "      <td>...</td>\n",
       "      <td>...</td>\n",
       "      <td>...</td>\n",
       "      <td>...</td>\n",
       "      <td>...</td>\n",
       "      <td>...</td>\n",
       "      <td>...</td>\n",
       "      <td>...</td>\n",
       "      <td>...</td>\n",
       "      <td>...</td>\n",
       "      <td>...</td>\n",
       "      <td>...</td>\n",
       "      <td>...</td>\n",
       "    </tr>\n",
       "    <tr>\n",
       "      <th>2549</th>\n",
       "      <td>you broke me first</td>\n",
       "      <td>Tate McRae</td>\n",
       "      <td>0.667</td>\n",
       "      <td>0.373</td>\n",
       "      <td>4.0</td>\n",
       "      <td>1.0</td>\n",
       "      <td>-9.389</td>\n",
       "      <td>0.0500</td>\n",
       "      <td>0.78500</td>\n",
       "      <td>0.000000</td>\n",
       "      <td>0.0906</td>\n",
       "      <td>0.0823</td>\n",
       "      <td>124.148</td>\n",
       "      <td>2.821100</td>\n",
       "    </tr>\n",
       "    <tr>\n",
       "      <th>2550</th>\n",
       "      <td>¿Por Qué Me Haces Llorar?</td>\n",
       "      <td>Juan Gabriel</td>\n",
       "      <td>0.647</td>\n",
       "      <td>0.477</td>\n",
       "      <td>0.0</td>\n",
       "      <td>1.0</td>\n",
       "      <td>-8.157</td>\n",
       "      <td>0.0342</td>\n",
       "      <td>0.03740</td>\n",
       "      <td>0.000010</td>\n",
       "      <td>0.1270</td>\n",
       "      <td>0.7930</td>\n",
       "      <td>112.041</td>\n",
       "      <td>3.048000</td>\n",
       "    </tr>\n",
       "    <tr>\n",
       "      <th>2551</th>\n",
       "      <td>¿Quién Te Crees?</td>\n",
       "      <td>MC Davo, Calibre 50</td>\n",
       "      <td>0.747</td>\n",
       "      <td>0.780</td>\n",
       "      <td>9.0</td>\n",
       "      <td>0.0</td>\n",
       "      <td>-5.302</td>\n",
       "      <td>0.2160</td>\n",
       "      <td>0.05830</td>\n",
       "      <td>0.000000</td>\n",
       "      <td>0.1640</td>\n",
       "      <td>0.5380</td>\n",
       "      <td>82.524</td>\n",
       "      <td>3.091550</td>\n",
       "    </tr>\n",
       "    <tr>\n",
       "      <th>2552</th>\n",
       "      <td>Éxtasis</td>\n",
       "      <td>Millonario &amp; W. Corona, Cartel De Santa</td>\n",
       "      <td>0.937</td>\n",
       "      <td>0.791</td>\n",
       "      <td>0.0</td>\n",
       "      <td>1.0</td>\n",
       "      <td>-5.242</td>\n",
       "      <td>0.0871</td>\n",
       "      <td>0.02050</td>\n",
       "      <td>0.000232</td>\n",
       "      <td>0.0433</td>\n",
       "      <td>0.9740</td>\n",
       "      <td>119.967</td>\n",
       "      <td>4.816883</td>\n",
       "    </tr>\n",
       "    <tr>\n",
       "      <th>2553</th>\n",
       "      <td>Índigo</td>\n",
       "      <td>Camilo, Evaluna Montaner</td>\n",
       "      <td>0.748</td>\n",
       "      <td>0.779</td>\n",
       "      <td>0.0</td>\n",
       "      <td>1.0</td>\n",
       "      <td>-6.659</td>\n",
       "      <td>0.0342</td>\n",
       "      <td>0.00884</td>\n",
       "      <td>0.000040</td>\n",
       "      <td>0.1130</td>\n",
       "      <td>0.9280</td>\n",
       "      <td>128.910</td>\n",
       "      <td>3.582217</td>\n",
       "    </tr>\n",
       "  </tbody>\n",
       "</table>\n",
       "<p>2554 rows × 14 columns</p>\n",
       "</div>"
      ],
      "text/plain": [
       "                                             track_name  \\\n",
       "0                                        'Til You Can't   \n",
       "1                                      'Till I Collapse   \n",
       "2                               (Don't Fear) The Reaper   \n",
       "3     (Everybody's Waitin' For) The Man With The Bag...   \n",
       "4     (There's No Place Like) Home for the Holidays ...   \n",
       "...                                                 ...   \n",
       "2549                                 you broke me first   \n",
       "2550                          ¿Por Qué Me Haces Llorar?   \n",
       "2551                                   ¿Quién Te Crees?   \n",
       "2552                                            Éxtasis   \n",
       "2553                                             Índigo   \n",
       "\n",
       "                                 artist_names  danceability  energy  key  \\\n",
       "0                                Cody Johnson         0.501   0.815  1.0   \n",
       "1                           Eminem, Nate Dogg         0.548   0.847  1.0   \n",
       "2                            Blue Öyster Cult         0.333   0.927  9.0   \n",
       "3                                   Kay Starr         0.739   0.317  0.0   \n",
       "4                                  Perry Como         0.478   0.341  5.0   \n",
       "...                                       ...           ...     ...  ...   \n",
       "2549                               Tate McRae         0.667   0.373  4.0   \n",
       "2550                             Juan Gabriel         0.647   0.477  0.0   \n",
       "2551                      MC Davo, Calibre 50         0.747   0.780  9.0   \n",
       "2552  Millonario & W. Corona, Cartel De Santa         0.937   0.791  0.0   \n",
       "2553                 Camilo, Evaluna Montaner         0.748   0.779  0.0   \n",
       "\n",
       "      mode  loudness  speechiness  acousticness  instrumentalness  liveness  \\\n",
       "0      1.0    -4.865       0.0436       0.05130          0.000000    0.1060   \n",
       "1      1.0    -3.237       0.1860       0.06220          0.000000    0.0816   \n",
       "2      0.0    -8.550       0.0733       0.00290          0.000208    0.2970   \n",
       "3      1.0    -8.668       0.0905       0.39100          0.004870    0.2430   \n",
       "4      1.0   -12.556       0.0511       0.89700          0.000000    0.2580   \n",
       "...    ...       ...          ...           ...               ...       ...   \n",
       "2549   1.0    -9.389       0.0500       0.78500          0.000000    0.0906   \n",
       "2550   1.0    -8.157       0.0342       0.03740          0.000010    0.1270   \n",
       "2551   0.0    -5.302       0.2160       0.05830          0.000000    0.1640   \n",
       "2552   1.0    -5.242       0.0871       0.02050          0.000232    0.0433   \n",
       "2553   1.0    -6.659       0.0342       0.00884          0.000040    0.1130   \n",
       "\n",
       "      valence    tempo  duration_min  \n",
       "0      0.4600  160.087      3.736883  \n",
       "1      0.1000  171.447      4.963117  \n",
       "2      0.3850  141.466      5.135333  \n",
       "3      0.8060   71.165      2.706217  \n",
       "4      0.4740  143.736      2.931550  \n",
       "...       ...      ...           ...  \n",
       "2549   0.0823  124.148      2.821100  \n",
       "2550   0.7930  112.041      3.048000  \n",
       "2551   0.5380   82.524      3.091550  \n",
       "2552   0.9740  119.967      4.816883  \n",
       "2553   0.9280  128.910      3.582217  \n",
       "\n",
       "[2554 rows x 14 columns]"
      ]
     },
     "execution_count": 28,
     "metadata": {},
     "output_type": "execute_result"
    }
   ],
   "source": [
    "songs = songs.assign(duration_min = songs.get('duration')/60000).drop(columns = 'duration')\n",
    "songs"
   ]
  },
  {
   "cell_type": "code",
   "execution_count": 29,
   "id": "ddc8d361",
   "metadata": {
    "deletable": false,
    "editable": false
   },
   "outputs": [
    {
     "data": {
      "text/html": [
       "<p><strong><pre style='display: inline;'>q2_1</pre></strong> passed! 🎉</p>"
      ],
      "text/plain": [
       "q2_1 results: All test cases passed!"
      ]
     },
     "execution_count": 29,
     "metadata": {},
     "output_type": "execute_result"
    }
   ],
   "source": [
    "grader.check(\"q2_1\")"
   ]
  },
  {
   "cell_type": "markdown",
   "id": "4fccee0b",
   "metadata": {},
   "source": [
    "**Question 2.2.** What's the longest song, in minutes, in `songs`? Save the `'track_name'` of this song to the variable `longest_song_name`, save the `'artist_names'` of this song to the variable `longest_song_artist`, and save the length of this song (in minutes) to the variable `longest_song_minutes`."
   ]
  },
  {
   "cell_type": "code",
   "execution_count": 30,
   "id": "3906eff7",
   "metadata": {},
   "outputs": [
    {
     "data": {
      "text/html": [
       "<div>\n",
       "<style scoped>\n",
       "    .dataframe tbody tr th:only-of-type {\n",
       "        vertical-align: middle;\n",
       "    }\n",
       "\n",
       "    .dataframe tbody tr th {\n",
       "        vertical-align: top;\n",
       "    }\n",
       "\n",
       "    .dataframe thead th {\n",
       "        text-align: right;\n",
       "    }\n",
       "</style>\n",
       "<table border=\"1\" class=\"dataframe\">\n",
       "  <thead>\n",
       "    <tr style=\"text-align: right;\">\n",
       "      <th></th>\n",
       "      <th>track_name</th>\n",
       "      <th>artist_names</th>\n",
       "      <th>danceability</th>\n",
       "      <th>energy</th>\n",
       "      <th>key</th>\n",
       "      <th>mode</th>\n",
       "      <th>loudness</th>\n",
       "      <th>speechiness</th>\n",
       "      <th>acousticness</th>\n",
       "      <th>instrumentalness</th>\n",
       "      <th>liveness</th>\n",
       "      <th>valence</th>\n",
       "      <th>tempo</th>\n",
       "      <th>duration_min</th>\n",
       "    </tr>\n",
       "  </thead>\n",
       "  <tbody>\n",
       "    <tr>\n",
       "      <th>1053</th>\n",
       "      <td>Jesus Lord pt 2</td>\n",
       "      <td>Kanye West</td>\n",
       "      <td>0.524</td>\n",
       "      <td>0.7260</td>\n",
       "      <td>8.0</td>\n",
       "      <td>1.0</td>\n",
       "      <td>-6.628</td>\n",
       "      <td>0.0941</td>\n",
       "      <td>0.07050</td>\n",
       "      <td>0.019200</td>\n",
       "      <td>0.0877</td>\n",
       "      <td>0.146</td>\n",
       "      <td>107.400</td>\n",
       "      <td>11.512200</td>\n",
       "    </tr>\n",
       "    <tr>\n",
       "      <th>125</th>\n",
       "      <td>All Too Well (10 Minute Version) (Taylor's Ver...</td>\n",
       "      <td>Taylor Swift</td>\n",
       "      <td>0.631</td>\n",
       "      <td>0.5180</td>\n",
       "      <td>0.0</td>\n",
       "      <td>1.0</td>\n",
       "      <td>-8.771</td>\n",
       "      <td>0.0303</td>\n",
       "      <td>0.27400</td>\n",
       "      <td>0.000000</td>\n",
       "      <td>0.0880</td>\n",
       "      <td>0.205</td>\n",
       "      <td>93.023</td>\n",
       "      <td>10.217117</td>\n",
       "    </tr>\n",
       "    <tr>\n",
       "      <th>1784</th>\n",
       "      <td>SWEET / I THOUGHT YOU WANTED TO DANCE (feat. B...</td>\n",
       "      <td>Tyler, The Creator, Brent Faiyaz, Fana Hues</td>\n",
       "      <td>0.468</td>\n",
       "      <td>0.6520</td>\n",
       "      <td>0.0</td>\n",
       "      <td>1.0</td>\n",
       "      <td>-4.912</td>\n",
       "      <td>0.0722</td>\n",
       "      <td>0.33300</td>\n",
       "      <td>0.000318</td>\n",
       "      <td>0.5500</td>\n",
       "      <td>0.390</td>\n",
       "      <td>140.223</td>\n",
       "      <td>9.802317</td>\n",
       "    </tr>\n",
       "    <tr>\n",
       "      <th>1052</th>\n",
       "      <td>Jesus Lord</td>\n",
       "      <td>Kanye West</td>\n",
       "      <td>0.477</td>\n",
       "      <td>0.7130</td>\n",
       "      <td>1.0</td>\n",
       "      <td>1.0</td>\n",
       "      <td>-6.805</td>\n",
       "      <td>0.1260</td>\n",
       "      <td>0.09840</td>\n",
       "      <td>0.008440</td>\n",
       "      <td>0.0879</td>\n",
       "      <td>0.113</td>\n",
       "      <td>106.137</td>\n",
       "      <td>8.975617</td>\n",
       "    </tr>\n",
       "    <tr>\n",
       "      <th>1719</th>\n",
       "      <td>Residente: Bzrp Music Sessions, Vol. 49</td>\n",
       "      <td>Bizarrap, Residente</td>\n",
       "      <td>0.586</td>\n",
       "      <td>0.7400</td>\n",
       "      <td>1.0</td>\n",
       "      <td>0.0</td>\n",
       "      <td>-2.997</td>\n",
       "      <td>0.4040</td>\n",
       "      <td>0.55500</td>\n",
       "      <td>0.000000</td>\n",
       "      <td>0.1100</td>\n",
       "      <td>0.697</td>\n",
       "      <td>71.378</td>\n",
       "      <td>8.654817</td>\n",
       "    </tr>\n",
       "    <tr>\n",
       "      <th>...</th>\n",
       "      <td>...</td>\n",
       "      <td>...</td>\n",
       "      <td>...</td>\n",
       "      <td>...</td>\n",
       "      <td>...</td>\n",
       "      <td>...</td>\n",
       "      <td>...</td>\n",
       "      <td>...</td>\n",
       "      <td>...</td>\n",
       "      <td>...</td>\n",
       "      <td>...</td>\n",
       "      <td>...</td>\n",
       "      <td>...</td>\n",
       "      <td>...</td>\n",
       "    </tr>\n",
       "    <tr>\n",
       "      <th>253</th>\n",
       "      <td>Bezos I</td>\n",
       "      <td>Bo Burnham</td>\n",
       "      <td>0.694</td>\n",
       "      <td>0.9480</td>\n",
       "      <td>2.0</td>\n",
       "      <td>1.0</td>\n",
       "      <td>-5.307</td>\n",
       "      <td>0.0361</td>\n",
       "      <td>0.00936</td>\n",
       "      <td>0.000016</td>\n",
       "      <td>0.1390</td>\n",
       "      <td>0.705</td>\n",
       "      <td>115.044</td>\n",
       "      <td>0.969150</td>\n",
       "    </tr>\n",
       "    <tr>\n",
       "      <th>189</th>\n",
       "      <td>BLESSED</td>\n",
       "      <td>Tyler, The Creator</td>\n",
       "      <td>0.336</td>\n",
       "      <td>0.6130</td>\n",
       "      <td>8.0</td>\n",
       "      <td>1.0</td>\n",
       "      <td>-7.869</td>\n",
       "      <td>0.1230</td>\n",
       "      <td>0.38900</td>\n",
       "      <td>0.000100</td>\n",
       "      <td>0.7650</td>\n",
       "      <td>0.741</td>\n",
       "      <td>40.319</td>\n",
       "      <td>0.961117</td>\n",
       "    </tr>\n",
       "    <tr>\n",
       "      <th>575</th>\n",
       "      <td>Donda Chant</td>\n",
       "      <td>Kanye West</td>\n",
       "      <td>0.702</td>\n",
       "      <td>0.0474</td>\n",
       "      <td>3.0</td>\n",
       "      <td>0.0</td>\n",
       "      <td>-15.198</td>\n",
       "      <td>0.5260</td>\n",
       "      <td>0.00516</td>\n",
       "      <td>0.000001</td>\n",
       "      <td>0.1470</td>\n",
       "      <td>0.175</td>\n",
       "      <td>102.983</td>\n",
       "      <td>0.867700</td>\n",
       "    </tr>\n",
       "    <tr>\n",
       "      <th>836</th>\n",
       "      <td>Good News</td>\n",
       "      <td>Pop Smoke</td>\n",
       "      <td>0.573</td>\n",
       "      <td>0.5040</td>\n",
       "      <td>10.0</td>\n",
       "      <td>1.0</td>\n",
       "      <td>-8.116</td>\n",
       "      <td>0.2190</td>\n",
       "      <td>0.23600</td>\n",
       "      <td>0.000000</td>\n",
       "      <td>0.1200</td>\n",
       "      <td>0.526</td>\n",
       "      <td>126.655</td>\n",
       "      <td>0.783217</td>\n",
       "    </tr>\n",
       "    <tr>\n",
       "      <th>1026</th>\n",
       "      <td>Intro</td>\n",
       "      <td>Drake</td>\n",
       "      <td>0.193</td>\n",
       "      <td>0.0218</td>\n",
       "      <td>0.0</td>\n",
       "      <td>0.0</td>\n",
       "      <td>-31.160</td>\n",
       "      <td>0.0389</td>\n",
       "      <td>0.95500</td>\n",
       "      <td>0.880000</td>\n",
       "      <td>0.1170</td>\n",
       "      <td>0.213</td>\n",
       "      <td>125.501</td>\n",
       "      <td>0.615583</td>\n",
       "    </tr>\n",
       "  </tbody>\n",
       "</table>\n",
       "<p>2554 rows × 14 columns</p>\n",
       "</div>"
      ],
      "text/plain": [
       "                                             track_name  \\\n",
       "1053                                    Jesus Lord pt 2   \n",
       "125   All Too Well (10 Minute Version) (Taylor's Ver...   \n",
       "1784  SWEET / I THOUGHT YOU WANTED TO DANCE (feat. B...   \n",
       "1052                                         Jesus Lord   \n",
       "1719            Residente: Bzrp Music Sessions, Vol. 49   \n",
       "...                                                 ...   \n",
       "253                                             Bezos I   \n",
       "189                                             BLESSED   \n",
       "575                                         Donda Chant   \n",
       "836                                           Good News   \n",
       "1026                                              Intro   \n",
       "\n",
       "                                     artist_names  danceability  energy   key  \\\n",
       "1053                                   Kanye West         0.524  0.7260   8.0   \n",
       "125                                  Taylor Swift         0.631  0.5180   0.0   \n",
       "1784  Tyler, The Creator, Brent Faiyaz, Fana Hues         0.468  0.6520   0.0   \n",
       "1052                                   Kanye West         0.477  0.7130   1.0   \n",
       "1719                          Bizarrap, Residente         0.586  0.7400   1.0   \n",
       "...                                           ...           ...     ...   ...   \n",
       "253                                    Bo Burnham         0.694  0.9480   2.0   \n",
       "189                            Tyler, The Creator         0.336  0.6130   8.0   \n",
       "575                                    Kanye West         0.702  0.0474   3.0   \n",
       "836                                     Pop Smoke         0.573  0.5040  10.0   \n",
       "1026                                        Drake         0.193  0.0218   0.0   \n",
       "\n",
       "      mode  loudness  speechiness  acousticness  instrumentalness  liveness  \\\n",
       "1053   1.0    -6.628       0.0941       0.07050          0.019200    0.0877   \n",
       "125    1.0    -8.771       0.0303       0.27400          0.000000    0.0880   \n",
       "1784   1.0    -4.912       0.0722       0.33300          0.000318    0.5500   \n",
       "1052   1.0    -6.805       0.1260       0.09840          0.008440    0.0879   \n",
       "1719   0.0    -2.997       0.4040       0.55500          0.000000    0.1100   \n",
       "...    ...       ...          ...           ...               ...       ...   \n",
       "253    1.0    -5.307       0.0361       0.00936          0.000016    0.1390   \n",
       "189    1.0    -7.869       0.1230       0.38900          0.000100    0.7650   \n",
       "575    0.0   -15.198       0.5260       0.00516          0.000001    0.1470   \n",
       "836    1.0    -8.116       0.2190       0.23600          0.000000    0.1200   \n",
       "1026   0.0   -31.160       0.0389       0.95500          0.880000    0.1170   \n",
       "\n",
       "      valence    tempo  duration_min  \n",
       "1053    0.146  107.400     11.512200  \n",
       "125     0.205   93.023     10.217117  \n",
       "1784    0.390  140.223      9.802317  \n",
       "1052    0.113  106.137      8.975617  \n",
       "1719    0.697   71.378      8.654817  \n",
       "...       ...      ...           ...  \n",
       "253     0.705  115.044      0.969150  \n",
       "189     0.741   40.319      0.961117  \n",
       "575     0.175  102.983      0.867700  \n",
       "836     0.526  126.655      0.783217  \n",
       "1026    0.213  125.501      0.615583  \n",
       "\n",
       "[2554 rows x 14 columns]"
      ]
     },
     "execution_count": 30,
     "metadata": {},
     "output_type": "execute_result"
    }
   ],
   "source": [
    "longest_songs = songs.sort_values(by = 'duration_min', ascending = False)\n",
    "longest_songs"
   ]
  },
  {
   "cell_type": "code",
   "execution_count": 31,
   "id": "a25dc094",
   "metadata": {},
   "outputs": [
    {
     "name": "stdout",
     "output_type": "stream",
     "text": [
      "The longest song in the dataset is \"Jesus Lord pt 2\" by Kanye West.\n",
      "It lasts a whopping 11.5 minutes!\n"
     ]
    }
   ],
   "source": [
    "longest_song_name = longest_songs.get('track_name').iloc[0]\n",
    "longest_song_artist = longest_songs.get('artist_names').iloc[0]\n",
    "longest_song_minutes = longest_songs.get('duration_min').iloc[0]\n",
    "\n",
    "print('The longest song in the dataset is \"' + longest_song_name + '\" by ' + longest_song_artist + '.')\n",
    "print('It lasts a whopping ' + str(round(longest_song_minutes, 1)) + ' minutes!')"
   ]
  },
  {
   "cell_type": "code",
   "execution_count": 32,
   "id": "7a81e635",
   "metadata": {
    "deletable": false,
    "editable": false
   },
   "outputs": [
    {
     "data": {
      "text/html": [
       "<p><strong><pre style='display: inline;'>q2_2</pre></strong> passed! 🌈</p>"
      ],
      "text/plain": [
       "q2_2 results: All test cases passed!"
      ]
     },
     "execution_count": 32,
     "metadata": {},
     "output_type": "execute_result"
    }
   ],
   "source": [
    "grader.check(\"q2_2\")"
   ]
  },
  {
   "cell_type": "markdown",
   "id": "aa346839",
   "metadata": {},
   "source": [
    "A [musical key](https://www.studybass.com/lessons/harmony/keys-in-music/) describes a certain set of pitches, and usually a song is played in a certain key. In music theory, the different keys are associated with integers from 0 to 11 using what's known as [pitch class notation](https://en.wikipedia.org/wiki/Pitch_class#Other_ways_to_label_pitch_classes). Often, the keys are represented on a clock-like diagram like the one below, which shows the pitches associated with each of the 12 different musical keys.\n",
    "\n",
    "<center>\n",
    "    <img src='./data/pitch-class.png' width=50%>\n",
    "    (<a href=\"https://davidkulma.com/musictheory/integers\">source</a>)\n",
    "</center>\n",
    "\n",
    "If you want to hear what each key sounds like, check out [this virtual piano 🎹](https://www.musicca.com/piano)."
   ]
  },
  {
   "cell_type": "markdown",
   "id": "99363799",
   "metadata": {},
   "source": [
    "**Question 2.3.** Create an array of all the unique keys in the `songs` DataFrame. Save it as `unique_keys`."
   ]
  },
  {
   "cell_type": "code",
   "execution_count": 33,
   "id": "7b141944",
   "metadata": {},
   "outputs": [
    {
     "data": {
      "text/plain": [
       "array([ 1. ,  9. ,  0. ,  5. ,  2. , 10. ,  6. ,  8. ,  7. ,  3. , 11. ,\n",
       "        4. ,  2.5])"
      ]
     },
     "execution_count": 33,
     "metadata": {},
     "output_type": "execute_result"
    }
   ],
   "source": [
    "unique_keys = np.array(songs.get('key').unique())\n",
    "unique_keys"
   ]
  },
  {
   "cell_type": "code",
   "execution_count": 34,
   "id": "21ff9e85",
   "metadata": {
    "deletable": false,
    "editable": false
   },
   "outputs": [
    {
     "data": {
      "text/html": [
       "<p><strong><pre style='display: inline;'>q2_3</pre></strong> passed! 🌟</p>"
      ],
      "text/plain": [
       "q2_3 results: All test cases passed!"
      ]
     },
     "execution_count": 34,
     "metadata": {},
     "output_type": "execute_result"
    }
   ],
   "source": [
    "grader.check(\"q2_3\")"
   ]
  },
  {
   "cell_type": "markdown",
   "id": "3c7fd2c3",
   "metadata": {},
   "source": [
    "**Question 2.4.** If you answered Question 2.3 correctly, you'll notice that not all of the keys are integers. This doesn't quite make sense, given the explanation we provided you before Question 2.3.\n",
    "\n",
    "Below, in two sentences, explain why not all of the keys in `songs` are integers.\n",
    "    \n",
    "*Hint*: Find the unique keys in the `charts` DataFrame."
   ]
  },
  {
   "cell_type": "markdown",
   "id": "18d6ef70",
   "metadata": {
    "deletable": false,
    "editable": false
   },
   "source": [
    "<!-- BEGIN QUESTION -->\n",
    "\n",
    "<!--\n",
    "BEGIN QUESTION\n",
    "name: q2_4\n",
    "manual: true\n",
    "points: 1\n",
    "-->"
   ]
  },
  {
   "cell_type": "markdown",
   "id": "0601ec6d",
   "metadata": {},
   "source": [
    "Since the DataFrame \"songs\" is derived from the DataFrame \"charts\" by the grouped medians of songs, it is possible for the key in songs to have non-integer values. For example, a different version of the song may have a higher key than the original, but according to our groupby function, this doesn't matter, and it will group the original and remix to possibly have a non-integer value."
   ]
  },
  {
   "cell_type": "markdown",
   "id": "443bbe48",
   "metadata": {},
   "source": [
    "<!-- END QUESTION -->\n",
    "\n",
    "\n",
    "\n",
    "**Question 2.5.** Create a visualization that shows the distribution of `'key'` in the `songs` DataFrame. "
   ]
  },
  {
   "cell_type": "markdown",
   "id": "24e9990d",
   "metadata": {
    "deletable": false,
    "editable": false
   },
   "source": [
    "<!-- BEGIN QUESTION -->\n",
    "\n",
    "<!--\n",
    "BEGIN QUESTION\n",
    "name: q2_5\n",
    "manual: true\n",
    "points: 1\n",
    "-->"
   ]
  },
  {
   "cell_type": "code",
   "execution_count": 35,
   "id": "d95f4625",
   "metadata": {
    "scrolled": true
   },
   "outputs": [
    {
     "data": {
      "text/plain": [
       "<AxesSubplot: ylabel='Frequency'>"
      ]
     },
     "execution_count": 35,
     "metadata": {},
     "output_type": "execute_result"
    },
    {
     "data": {
      "image/png": "[encoded data removed]",
      "text/plain": [
       "<Figure size 640x480 with 1 Axes>"
      ]
     },
     "metadata": {},
     "output_type": "display_data"
    }
   ],
   "source": [
    "songs.plot(kind = 'hist', y = 'key')"
   ]
  },
  {
   "cell_type": "markdown",
   "id": "3203c076",
   "metadata": {},
   "source": [
    "<!-- END QUESTION -->\n",
    "\n",
    "\n",
    "\n",
    "<a id='section3'></a>\n",
    "## Section 3: Slow and Steady 🐢🐇\n",
    "\n",
    "<small>(<a href=\"#outline\">return to the outline</a>)</small>"
   ]
  },
  {
   "cell_type": "markdown",
   "id": "1f3038a5",
   "metadata": {},
   "source": [
    "In music, there are Italian words that describe the tempo, or pace, of a song. In this section, we will analyze the relationship between a song's tempo and its other audio features. But before we do that, we will convert the tempo of each song to its corresponding Italian description. Use the following definitions of Italian tempo markings:\n",
    "\n",
    "| Italian name | Corresponding tempo range, in beats per minute |\n",
    "| :--- | :--- |\n",
    "| Lento | [0, 60) |\n",
    "| Adagio | [60, 90)\n",
    "| Adante | [90, 110) |\n",
    "| Moderato | [110, 120) |\n",
    "| Allegro | [120, 160) |\n",
    "| Vivace | [160, 180) |\n",
    "| Presto | 180 or more |\n"
   ]
  },
  {
   "cell_type": "markdown",
   "id": "6b02f71a",
   "metadata": {},
   "source": [
    "**Question 3.1.** Add a new column to `songs` called `'tempo_name'` that contains the Italian tempo name for each song."
   ]
  },
  {
   "cell_type": "code",
   "execution_count": 36,
   "id": "30118bc3",
   "metadata": {},
   "outputs": [
    {
     "data": {
      "text/html": [
       "<div>\n",
       "<style scoped>\n",
       "    .dataframe tbody tr th:only-of-type {\n",
       "        vertical-align: middle;\n",
       "    }\n",
       "\n",
       "    .dataframe tbody tr th {\n",
       "        vertical-align: top;\n",
       "    }\n",
       "\n",
       "    .dataframe thead th {\n",
       "        text-align: right;\n",
       "    }\n",
       "</style>\n",
       "<table border=\"1\" class=\"dataframe\">\n",
       "  <thead>\n",
       "    <tr style=\"text-align: right;\">\n",
       "      <th></th>\n",
       "      <th>track_name</th>\n",
       "      <th>artist_names</th>\n",
       "      <th>danceability</th>\n",
       "      <th>energy</th>\n",
       "      <th>key</th>\n",
       "      <th>mode</th>\n",
       "      <th>loudness</th>\n",
       "      <th>speechiness</th>\n",
       "      <th>acousticness</th>\n",
       "      <th>instrumentalness</th>\n",
       "      <th>liveness</th>\n",
       "      <th>valence</th>\n",
       "      <th>tempo</th>\n",
       "      <th>duration_min</th>\n",
       "      <th>tempo_name</th>\n",
       "    </tr>\n",
       "  </thead>\n",
       "  <tbody>\n",
       "    <tr>\n",
       "      <th>0</th>\n",
       "      <td>'Til You Can't</td>\n",
       "      <td>Cody Johnson</td>\n",
       "      <td>0.501</td>\n",
       "      <td>0.815</td>\n",
       "      <td>1.0</td>\n",
       "      <td>1.0</td>\n",
       "      <td>-4.865</td>\n",
       "      <td>0.0436</td>\n",
       "      <td>0.05130</td>\n",
       "      <td>0.000000</td>\n",
       "      <td>0.1060</td>\n",
       "      <td>0.4600</td>\n",
       "      <td>160.087</td>\n",
       "      <td>3.736883</td>\n",
       "      <td>Vivace</td>\n",
       "    </tr>\n",
       "    <tr>\n",
       "      <th>1</th>\n",
       "      <td>'Till I Collapse</td>\n",
       "      <td>Eminem, Nate Dogg</td>\n",
       "      <td>0.548</td>\n",
       "      <td>0.847</td>\n",
       "      <td>1.0</td>\n",
       "      <td>1.0</td>\n",
       "      <td>-3.237</td>\n",
       "      <td>0.1860</td>\n",
       "      <td>0.06220</td>\n",
       "      <td>0.000000</td>\n",
       "      <td>0.0816</td>\n",
       "      <td>0.1000</td>\n",
       "      <td>171.447</td>\n",
       "      <td>4.963117</td>\n",
       "      <td>Vivace</td>\n",
       "    </tr>\n",
       "    <tr>\n",
       "      <th>2</th>\n",
       "      <td>(Don't Fear) The Reaper</td>\n",
       "      <td>Blue Öyster Cult</td>\n",
       "      <td>0.333</td>\n",
       "      <td>0.927</td>\n",
       "      <td>9.0</td>\n",
       "      <td>0.0</td>\n",
       "      <td>-8.550</td>\n",
       "      <td>0.0733</td>\n",
       "      <td>0.00290</td>\n",
       "      <td>0.000208</td>\n",
       "      <td>0.2970</td>\n",
       "      <td>0.3850</td>\n",
       "      <td>141.466</td>\n",
       "      <td>5.135333</td>\n",
       "      <td>Allegro</td>\n",
       "    </tr>\n",
       "    <tr>\n",
       "      <th>3</th>\n",
       "      <td>(Everybody's Waitin' For) The Man With The Bag...</td>\n",
       "      <td>Kay Starr</td>\n",
       "      <td>0.739</td>\n",
       "      <td>0.317</td>\n",
       "      <td>0.0</td>\n",
       "      <td>1.0</td>\n",
       "      <td>-8.668</td>\n",
       "      <td>0.0905</td>\n",
       "      <td>0.39100</td>\n",
       "      <td>0.004870</td>\n",
       "      <td>0.2430</td>\n",
       "      <td>0.8060</td>\n",
       "      <td>71.165</td>\n",
       "      <td>2.706217</td>\n",
       "      <td>Adagio</td>\n",
       "    </tr>\n",
       "    <tr>\n",
       "      <th>4</th>\n",
       "      <td>(There's No Place Like) Home for the Holidays ...</td>\n",
       "      <td>Perry Como</td>\n",
       "      <td>0.478</td>\n",
       "      <td>0.341</td>\n",
       "      <td>5.0</td>\n",
       "      <td>1.0</td>\n",
       "      <td>-12.556</td>\n",
       "      <td>0.0511</td>\n",
       "      <td>0.89700</td>\n",
       "      <td>0.000000</td>\n",
       "      <td>0.2580</td>\n",
       "      <td>0.4740</td>\n",
       "      <td>143.736</td>\n",
       "      <td>2.931550</td>\n",
       "      <td>Allegro</td>\n",
       "    </tr>\n",
       "    <tr>\n",
       "      <th>...</th>\n",
       "      <td>...</td>\n",
       "      <td>...</td>\n",
       "      <td>...</td>\n",
       "      <td>...</td>\n",
       "      <td>...</td>\n",
       "      <td>...</td>\n",
       "      <td>...</td>\n",
       "      <td>...</td>\n",
       "      <td>...</td>\n",
       "      <td>...</td>\n",
       "      <td>...</td>\n",
       "      <td>...</td>\n",
       "      <td>...</td>\n",
       "      <td>...</td>\n",
       "      <td>...</td>\n",
       "    </tr>\n",
       "    <tr>\n",
       "      <th>2549</th>\n",
       "      <td>you broke me first</td>\n",
       "      <td>Tate McRae</td>\n",
       "      <td>0.667</td>\n",
       "      <td>0.373</td>\n",
       "      <td>4.0</td>\n",
       "      <td>1.0</td>\n",
       "      <td>-9.389</td>\n",
       "      <td>0.0500</td>\n",
       "      <td>0.78500</td>\n",
       "      <td>0.000000</td>\n",
       "      <td>0.0906</td>\n",
       "      <td>0.0823</td>\n",
       "      <td>124.148</td>\n",
       "      <td>2.821100</td>\n",
       "      <td>Allegro</td>\n",
       "    </tr>\n",
       "    <tr>\n",
       "      <th>2550</th>\n",
       "      <td>¿Por Qué Me Haces Llorar?</td>\n",
       "      <td>Juan Gabriel</td>\n",
       "      <td>0.647</td>\n",
       "      <td>0.477</td>\n",
       "      <td>0.0</td>\n",
       "      <td>1.0</td>\n",
       "      <td>-8.157</td>\n",
       "      <td>0.0342</td>\n",
       "      <td>0.03740</td>\n",
       "      <td>0.000010</td>\n",
       "      <td>0.1270</td>\n",
       "      <td>0.7930</td>\n",
       "      <td>112.041</td>\n",
       "      <td>3.048000</td>\n",
       "      <td>Moderato</td>\n",
       "    </tr>\n",
       "    <tr>\n",
       "      <th>2551</th>\n",
       "      <td>¿Quién Te Crees?</td>\n",
       "      <td>MC Davo, Calibre 50</td>\n",
       "      <td>0.747</td>\n",
       "      <td>0.780</td>\n",
       "      <td>9.0</td>\n",
       "      <td>0.0</td>\n",
       "      <td>-5.302</td>\n",
       "      <td>0.2160</td>\n",
       "      <td>0.05830</td>\n",
       "      <td>0.000000</td>\n",
       "      <td>0.1640</td>\n",
       "      <td>0.5380</td>\n",
       "      <td>82.524</td>\n",
       "      <td>3.091550</td>\n",
       "      <td>Adagio</td>\n",
       "    </tr>\n",
       "    <tr>\n",
       "      <th>2552</th>\n",
       "      <td>Éxtasis</td>\n",
       "      <td>Millonario &amp; W. Corona, Cartel De Santa</td>\n",
       "      <td>0.937</td>\n",
       "      <td>0.791</td>\n",
       "      <td>0.0</td>\n",
       "      <td>1.0</td>\n",
       "      <td>-5.242</td>\n",
       "      <td>0.0871</td>\n",
       "      <td>0.02050</td>\n",
       "      <td>0.000232</td>\n",
       "      <td>0.0433</td>\n",
       "      <td>0.9740</td>\n",
       "      <td>119.967</td>\n",
       "      <td>4.816883</td>\n",
       "      <td>Moderato</td>\n",
       "    </tr>\n",
       "    <tr>\n",
       "      <th>2553</th>\n",
       "      <td>Índigo</td>\n",
       "      <td>Camilo, Evaluna Montaner</td>\n",
       "      <td>0.748</td>\n",
       "      <td>0.779</td>\n",
       "      <td>0.0</td>\n",
       "      <td>1.0</td>\n",
       "      <td>-6.659</td>\n",
       "      <td>0.0342</td>\n",
       "      <td>0.00884</td>\n",
       "      <td>0.000040</td>\n",
       "      <td>0.1130</td>\n",
       "      <td>0.9280</td>\n",
       "      <td>128.910</td>\n",
       "      <td>3.582217</td>\n",
       "      <td>Allegro</td>\n",
       "    </tr>\n",
       "  </tbody>\n",
       "</table>\n",
       "<p>2554 rows × 15 columns</p>\n",
       "</div>"
      ],
      "text/plain": [
       "                                             track_name  \\\n",
       "0                                        'Til You Can't   \n",
       "1                                      'Till I Collapse   \n",
       "2                               (Don't Fear) The Reaper   \n",
       "3     (Everybody's Waitin' For) The Man With The Bag...   \n",
       "4     (There's No Place Like) Home for the Holidays ...   \n",
       "...                                                 ...   \n",
       "2549                                 you broke me first   \n",
       "2550                          ¿Por Qué Me Haces Llorar?   \n",
       "2551                                   ¿Quién Te Crees?   \n",
       "2552                                            Éxtasis   \n",
       "2553                                             Índigo   \n",
       "\n",
       "                                 artist_names  danceability  energy  key  \\\n",
       "0                                Cody Johnson         0.501   0.815  1.0   \n",
       "1                           Eminem, Nate Dogg         0.548   0.847  1.0   \n",
       "2                            Blue Öyster Cult         0.333   0.927  9.0   \n",
       "3                                   Kay Starr         0.739   0.317  0.0   \n",
       "4                                  Perry Como         0.478   0.341  5.0   \n",
       "...                                       ...           ...     ...  ...   \n",
       "2549                               Tate McRae         0.667   0.373  4.0   \n",
       "2550                             Juan Gabriel         0.647   0.477  0.0   \n",
       "2551                      MC Davo, Calibre 50         0.747   0.780  9.0   \n",
       "2552  Millonario & W. Corona, Cartel De Santa         0.937   0.791  0.0   \n",
       "2553                 Camilo, Evaluna Montaner         0.748   0.779  0.0   \n",
       "\n",
       "      mode  loudness  speechiness  acousticness  instrumentalness  liveness  \\\n",
       "0      1.0    -4.865       0.0436       0.05130          0.000000    0.1060   \n",
       "1      1.0    -3.237       0.1860       0.06220          0.000000    0.0816   \n",
       "2      0.0    -8.550       0.0733       0.00290          0.000208    0.2970   \n",
       "3      1.0    -8.668       0.0905       0.39100          0.004870    0.2430   \n",
       "4      1.0   -12.556       0.0511       0.89700          0.000000    0.2580   \n",
       "...    ...       ...          ...           ...               ...       ...   \n",
       "2549   1.0    -9.389       0.0500       0.78500          0.000000    0.0906   \n",
       "2550   1.0    -8.157       0.0342       0.03740          0.000010    0.1270   \n",
       "2551   0.0    -5.302       0.2160       0.05830          0.000000    0.1640   \n",
       "2552   1.0    -5.242       0.0871       0.02050          0.000232    0.0433   \n",
       "2553   1.0    -6.659       0.0342       0.00884          0.000040    0.1130   \n",
       "\n",
       "      valence    tempo  duration_min tempo_name  \n",
       "0      0.4600  160.087      3.736883     Vivace  \n",
       "1      0.1000  171.447      4.963117     Vivace  \n",
       "2      0.3850  141.466      5.135333    Allegro  \n",
       "3      0.8060   71.165      2.706217     Adagio  \n",
       "4      0.4740  143.736      2.931550    Allegro  \n",
       "...       ...      ...           ...        ...  \n",
       "2549   0.0823  124.148      2.821100    Allegro  \n",
       "2550   0.7930  112.041      3.048000   Moderato  \n",
       "2551   0.5380   82.524      3.091550     Adagio  \n",
       "2552   0.9740  119.967      4.816883   Moderato  \n",
       "2553   0.9280  128.910      3.582217    Allegro  \n",
       "\n",
       "[2554 rows x 15 columns]"
      ]
     },
     "execution_count": 36,
     "metadata": {},
     "output_type": "execute_result"
    }
   ],
   "source": [
    "def italian_tempo(tempo):\n",
    "    if tempo < 60:\n",
    "        return 'Lento'\n",
    "    elif tempo < 90:\n",
    "        return 'Adagio'\n",
    "    elif tempo < 110:\n",
    "        return 'Adante'\n",
    "    elif tempo < 120:\n",
    "        return 'Moderato'\n",
    "    elif tempo < 160:\n",
    "        return 'Allegro'\n",
    "    elif tempo < 180:\n",
    "        return 'Vivace'\n",
    "    else:\n",
    "        return 'Presto'\n",
    "\n",
    "songs = songs.assign(tempo_name = songs.get('tempo').apply(italian_tempo))\n",
    "songs"
   ]
  },
  {
   "cell_type": "code",
   "execution_count": 37,
   "id": "c045842a",
   "metadata": {
    "deletable": false,
    "editable": false
   },
   "outputs": [
    {
     "data": {
      "text/html": [
       "<p><strong><pre style='display: inline;'>q3_1</pre></strong> passed! 🎉</p>"
      ],
      "text/plain": [
       "q3_1 results: All test cases passed!"
      ]
     },
     "execution_count": 37,
     "metadata": {},
     "output_type": "execute_result"
    }
   ],
   "source": [
    "grader.check(\"q3_1\")"
   ]
  },
  {
   "cell_type": "markdown",
   "id": "0f845936",
   "metadata": {},
   "source": [
    "**Question 3.2.** Find the most common combination of `'tempo_name'` and `'key'` among all songs in `songs`. Save both answers in a list named `most_common_combo`. The `'tempo_name'` in the most common combination should come first. For example, your answer might look like `['Vivace', 3.0]`.\n",
    "\n",
    "Similarly, find the least common combination of `'tempo_name'` and `'key'` among all songs in `songs` and save your answers in a `list` named `least_common_combo`, again with the `'tempo_name'` coming first.\n",
    "\n",
    "In the case of a tie for most or least common, choose any of the combinations involved in the tie."
   ]
  },
  {
   "cell_type": "code",
   "execution_count": 38,
   "id": "583ec6e7",
   "metadata": {},
   "outputs": [
    {
     "name": "stdout",
     "output_type": "stream",
     "text": [
      "The most common combination is a tempo of Allegro and a key of 1.0.\n",
      "The least common combination is a tempo of Lento and a key of 9.0.\n"
     ]
    }
   ],
   "source": [
    "songs\n",
    "group = songs.groupby([\"tempo_name\", \"key\"]).count().reset_index().sort_values(\"track_name\", ascending = False)\n",
    "group1 = songs.groupby([\"tempo_name\", \"key\"]).count().reset_index().sort_values(\"track_name\")\n",
    "most_common_combo = [group.get(\"tempo_name\").iloc[0], group.get(\"key\").iloc[0]]\n",
    "least_common_combo = [group1.get(\"tempo_name\").iloc[0], group1.get(\"key\").iloc[0]]\n",
    "\n",
    "print('The most common combination is a tempo of ' + most_common_combo[0] + ' and a key of ' + str(most_common_combo[1]) + '.')\n",
    "print('The least common combination is a tempo of ' + least_common_combo[0] + ' and a key of ' + str(least_common_combo[1]) + '.')"
   ]
  },
  {
   "cell_type": "code",
   "execution_count": 39,
   "id": "259ec31c",
   "metadata": {
    "deletable": false,
    "editable": false
   },
   "outputs": [
    {
     "data": {
      "text/html": [
       "<p><strong><pre style='display: inline;'>q3_2</pre></strong> passed! 💯</p>"
      ],
      "text/plain": [
       "q3_2 results: All test cases passed!"
      ]
     },
     "execution_count": 39,
     "metadata": {},
     "output_type": "execute_result"
    }
   ],
   "source": [
    "grader.check(\"q3_2\")"
   ]
  },
  {
   "cell_type": "markdown",
   "id": "69a98065",
   "metadata": {},
   "source": [
    "**Question 3.3.** Let's identify which songs have the `most_common_combo` of `'tempo_name'` and `'key'`. Starting with `songs`, create a DataFrame of only the songs with this most common `'tempo_name'` and `'key'` combination. Save the result as `common_songs`."
   ]
  },
  {
   "cell_type": "code",
   "execution_count": 40,
   "id": "b40b2e39",
   "metadata": {},
   "outputs": [
    {
     "data": {
      "text/html": [
       "<div>\n",
       "<style scoped>\n",
       "    .dataframe tbody tr th:only-of-type {\n",
       "        vertical-align: middle;\n",
       "    }\n",
       "\n",
       "    .dataframe tbody tr th {\n",
       "        vertical-align: top;\n",
       "    }\n",
       "\n",
       "    .dataframe thead th {\n",
       "        text-align: right;\n",
       "    }\n",
       "</style>\n",
       "<table border=\"1\" class=\"dataframe\">\n",
       "  <thead>\n",
       "    <tr style=\"text-align: right;\">\n",
       "      <th></th>\n",
       "      <th>track_name</th>\n",
       "      <th>artist_names</th>\n",
       "      <th>danceability</th>\n",
       "      <th>energy</th>\n",
       "      <th>key</th>\n",
       "      <th>mode</th>\n",
       "      <th>loudness</th>\n",
       "      <th>speechiness</th>\n",
       "      <th>acousticness</th>\n",
       "      <th>instrumentalness</th>\n",
       "      <th>liveness</th>\n",
       "      <th>valence</th>\n",
       "      <th>tempo</th>\n",
       "      <th>duration_min</th>\n",
       "      <th>tempo_name</th>\n",
       "    </tr>\n",
       "  </thead>\n",
       "  <tbody>\n",
       "    <tr>\n",
       "      <th>43</th>\n",
       "      <td>3G (feat. Lil Uzi Vert)</td>\n",
       "      <td>Yeat, Lil Uzi Vert</td>\n",
       "      <td>0.758</td>\n",
       "      <td>0.572</td>\n",
       "      <td>1.0</td>\n",
       "      <td>1.0</td>\n",
       "      <td>-8.087</td>\n",
       "      <td>0.2050</td>\n",
       "      <td>0.007730</td>\n",
       "      <td>0.000012</td>\n",
       "      <td>0.1520</td>\n",
       "      <td>0.152</td>\n",
       "      <td>135.984</td>\n",
       "      <td>2.844000</td>\n",
       "      <td>Allegro</td>\n",
       "    </tr>\n",
       "    <tr>\n",
       "      <th>51</th>\n",
       "      <td>5X</td>\n",
       "      <td>Don Toliver</td>\n",
       "      <td>0.898</td>\n",
       "      <td>0.518</td>\n",
       "      <td>1.0</td>\n",
       "      <td>1.0</td>\n",
       "      <td>-6.991</td>\n",
       "      <td>0.2100</td>\n",
       "      <td>0.040200</td>\n",
       "      <td>0.000000</td>\n",
       "      <td>0.1060</td>\n",
       "      <td>0.798</td>\n",
       "      <td>145.082</td>\n",
       "      <td>2.206633</td>\n",
       "      <td>Allegro</td>\n",
       "    </tr>\n",
       "    <tr>\n",
       "      <th>53</th>\n",
       "      <td>7 rings</td>\n",
       "      <td>Ariana Grande</td>\n",
       "      <td>0.778</td>\n",
       "      <td>0.317</td>\n",
       "      <td>1.0</td>\n",
       "      <td>0.0</td>\n",
       "      <td>-10.732</td>\n",
       "      <td>0.3340</td>\n",
       "      <td>0.592000</td>\n",
       "      <td>0.000000</td>\n",
       "      <td>0.0881</td>\n",
       "      <td>0.327</td>\n",
       "      <td>140.048</td>\n",
       "      <td>2.977117</td>\n",
       "      <td>Allegro</td>\n",
       "    </tr>\n",
       "    <tr>\n",
       "      <th>63</th>\n",
       "      <td>999 (with Camilo)</td>\n",
       "      <td>Selena Gomez, Camilo</td>\n",
       "      <td>0.781</td>\n",
       "      <td>0.748</td>\n",
       "      <td>1.0</td>\n",
       "      <td>1.0</td>\n",
       "      <td>-4.604</td>\n",
       "      <td>0.2420</td>\n",
       "      <td>0.105000</td>\n",
       "      <td>0.000000</td>\n",
       "      <td>0.1560</td>\n",
       "      <td>0.788</td>\n",
       "      <td>149.819</td>\n",
       "      <td>3.736133</td>\n",
       "      <td>Allegro</td>\n",
       "    </tr>\n",
       "    <tr>\n",
       "      <th>66</th>\n",
       "      <td>A Keeper</td>\n",
       "      <td>Drake</td>\n",
       "      <td>0.600</td>\n",
       "      <td>0.482</td>\n",
       "      <td>1.0</td>\n",
       "      <td>1.0</td>\n",
       "      <td>-11.596</td>\n",
       "      <td>0.0701</td>\n",
       "      <td>0.512000</td>\n",
       "      <td>0.000104</td>\n",
       "      <td>0.1150</td>\n",
       "      <td>0.323</td>\n",
       "      <td>121.909</td>\n",
       "      <td>2.884950</td>\n",
       "      <td>Allegro</td>\n",
       "    </tr>\n",
       "    <tr>\n",
       "      <th>...</th>\n",
       "      <td>...</td>\n",
       "      <td>...</td>\n",
       "      <td>...</td>\n",
       "      <td>...</td>\n",
       "      <td>...</td>\n",
       "      <td>...</td>\n",
       "      <td>...</td>\n",
       "      <td>...</td>\n",
       "      <td>...</td>\n",
       "      <td>...</td>\n",
       "      <td>...</td>\n",
       "      <td>...</td>\n",
       "      <td>...</td>\n",
       "      <td>...</td>\n",
       "      <td>...</td>\n",
       "    </tr>\n",
       "    <tr>\n",
       "      <th>2456</th>\n",
       "      <td>family ties (with Kendrick Lamar)</td>\n",
       "      <td>Baby Keem, Kendrick Lamar</td>\n",
       "      <td>0.711</td>\n",
       "      <td>0.611</td>\n",
       "      <td>1.0</td>\n",
       "      <td>1.0</td>\n",
       "      <td>-5.453</td>\n",
       "      <td>0.3300</td>\n",
       "      <td>0.005880</td>\n",
       "      <td>0.000000</td>\n",
       "      <td>0.2300</td>\n",
       "      <td>0.144</td>\n",
       "      <td>134.093</td>\n",
       "      <td>4.204367</td>\n",
       "      <td>Allegro</td>\n",
       "    </tr>\n",
       "    <tr>\n",
       "      <th>2491</th>\n",
       "      <td>mainstream sellout</td>\n",
       "      <td>Machine Gun Kelly</td>\n",
       "      <td>0.541</td>\n",
       "      <td>0.693</td>\n",
       "      <td>1.0</td>\n",
       "      <td>1.0</td>\n",
       "      <td>-4.252</td>\n",
       "      <td>0.0612</td>\n",
       "      <td>0.000209</td>\n",
       "      <td>0.001030</td>\n",
       "      <td>0.0553</td>\n",
       "      <td>0.483</td>\n",
       "      <td>142.086</td>\n",
       "      <td>1.797483</td>\n",
       "      <td>Allegro</td>\n",
       "    </tr>\n",
       "    <tr>\n",
       "      <th>2498</th>\n",
       "      <td>moved to miami (feat. Lil Baby)</td>\n",
       "      <td>Roddy Ricch, Lil Baby</td>\n",
       "      <td>0.717</td>\n",
       "      <td>0.444</td>\n",
       "      <td>1.0</td>\n",
       "      <td>1.0</td>\n",
       "      <td>-11.126</td>\n",
       "      <td>0.1800</td>\n",
       "      <td>0.019600</td>\n",
       "      <td>0.000315</td>\n",
       "      <td>0.1140</td>\n",
       "      <td>0.116</td>\n",
       "      <td>124.685</td>\n",
       "      <td>3.703750</td>\n",
       "      <td>Allegro</td>\n",
       "    </tr>\n",
       "    <tr>\n",
       "      <th>2529</th>\n",
       "      <td>thought i was playing</td>\n",
       "      <td>Gunna, 21 Savage</td>\n",
       "      <td>0.679</td>\n",
       "      <td>0.730</td>\n",
       "      <td>1.0</td>\n",
       "      <td>1.0</td>\n",
       "      <td>-7.483</td>\n",
       "      <td>0.0689</td>\n",
       "      <td>0.004210</td>\n",
       "      <td>0.000000</td>\n",
       "      <td>0.0736</td>\n",
       "      <td>0.292</td>\n",
       "      <td>148.038</td>\n",
       "      <td>2.797333</td>\n",
       "      <td>Allegro</td>\n",
       "    </tr>\n",
       "    <tr>\n",
       "      <th>2531</th>\n",
       "      <td>too easy</td>\n",
       "      <td>Gunna, Future</td>\n",
       "      <td>0.798</td>\n",
       "      <td>0.574</td>\n",
       "      <td>1.0</td>\n",
       "      <td>1.0</td>\n",
       "      <td>-6.548</td>\n",
       "      <td>0.1570</td>\n",
       "      <td>0.024000</td>\n",
       "      <td>0.000000</td>\n",
       "      <td>0.1220</td>\n",
       "      <td>0.309</td>\n",
       "      <td>155.964</td>\n",
       "      <td>2.309783</td>\n",
       "      <td>Allegro</td>\n",
       "    </tr>\n",
       "  </tbody>\n",
       "</table>\n",
       "<p>126 rows × 15 columns</p>\n",
       "</div>"
      ],
      "text/plain": [
       "                             track_name               artist_names  \\\n",
       "43              3G (feat. Lil Uzi Vert)         Yeat, Lil Uzi Vert   \n",
       "51                                   5X                Don Toliver   \n",
       "53                              7 rings              Ariana Grande   \n",
       "63                    999 (with Camilo)       Selena Gomez, Camilo   \n",
       "66                             A Keeper                      Drake   \n",
       "...                                 ...                        ...   \n",
       "2456  family ties (with Kendrick Lamar)  Baby Keem, Kendrick Lamar   \n",
       "2491                 mainstream sellout          Machine Gun Kelly   \n",
       "2498    moved to miami (feat. Lil Baby)      Roddy Ricch, Lil Baby   \n",
       "2529              thought i was playing           Gunna, 21 Savage   \n",
       "2531                           too easy              Gunna, Future   \n",
       "\n",
       "      danceability  energy  key  mode  loudness  speechiness  acousticness  \\\n",
       "43           0.758   0.572  1.0   1.0    -8.087       0.2050      0.007730   \n",
       "51           0.898   0.518  1.0   1.0    -6.991       0.2100      0.040200   \n",
       "53           0.778   0.317  1.0   0.0   -10.732       0.3340      0.592000   \n",
       "63           0.781   0.748  1.0   1.0    -4.604       0.2420      0.105000   \n",
       "66           0.600   0.482  1.0   1.0   -11.596       0.0701      0.512000   \n",
       "...            ...     ...  ...   ...       ...          ...           ...   \n",
       "2456         0.711   0.611  1.0   1.0    -5.453       0.3300      0.005880   \n",
       "2491         0.541   0.693  1.0   1.0    -4.252       0.0612      0.000209   \n",
       "2498         0.717   0.444  1.0   1.0   -11.126       0.1800      0.019600   \n",
       "2529         0.679   0.730  1.0   1.0    -7.483       0.0689      0.004210   \n",
       "2531         0.798   0.574  1.0   1.0    -6.548       0.1570      0.024000   \n",
       "\n",
       "      instrumentalness  liveness  valence    tempo  duration_min tempo_name  \n",
       "43            0.000012    0.1520    0.152  135.984      2.844000    Allegro  \n",
       "51            0.000000    0.1060    0.798  145.082      2.206633    Allegro  \n",
       "53            0.000000    0.0881    0.327  140.048      2.977117    Allegro  \n",
       "63            0.000000    0.1560    0.788  149.819      3.736133    Allegro  \n",
       "66            0.000104    0.1150    0.323  121.909      2.884950    Allegro  \n",
       "...                ...       ...      ...      ...           ...        ...  \n",
       "2456          0.000000    0.2300    0.144  134.093      4.204367    Allegro  \n",
       "2491          0.001030    0.0553    0.483  142.086      1.797483    Allegro  \n",
       "2498          0.000315    0.1140    0.116  124.685      3.703750    Allegro  \n",
       "2529          0.000000    0.0736    0.292  148.038      2.797333    Allegro  \n",
       "2531          0.000000    0.1220    0.309  155.964      2.309783    Allegro  \n",
       "\n",
       "[126 rows x 15 columns]"
      ]
     },
     "execution_count": 40,
     "metadata": {},
     "output_type": "execute_result"
    }
   ],
   "source": [
    "common_songs = songs[(songs.get(\"tempo_name\") == \"Allegro\") & (songs.get(\"key\") == 1.0)]\n",
    "common_songs"
   ]
  },
  {
   "cell_type": "code",
   "execution_count": 41,
   "id": "26ac1489",
   "metadata": {
    "deletable": false,
    "editable": false
   },
   "outputs": [
    {
     "data": {
      "text/html": [
       "<p><strong><pre style='display: inline;'>q3_3</pre></strong> passed! 💯</p>"
      ],
      "text/plain": [
       "q3_3 results: All test cases passed!"
      ]
     },
     "execution_count": 41,
     "metadata": {},
     "output_type": "execute_result"
    }
   ],
   "source": [
    "grader.check(\"q3_3\")"
   ]
  },
  {
   "cell_type": "markdown",
   "id": "d8018c18",
   "metadata": {},
   "source": [
    "We want to listen to some of these `common_songs` to see if they have a similar sound. But we have a problem. In order to play a song, we need its `'uri'`, and `common_songs` doesn't have a `'uri'` column. The `charts` DataFrame does have a `'uri'` column so we should be able to bring in that information by merging the two DataFrames. Though `charts` contains `'uri'`, it also has a ton of information that we don't need, since all of the relevant information per song is already in `songs`. As a result, before we merge, we should prepare a smaller, simpler DataFrame from `charts` with only the new information we need.\n",
    "\n",
    "**Question 3.4.** Create a DataFrame called `to_merge` from `charts`. The DataFrame `to_merge` should have one row for each song (defined as a combination of `'track_name'` and `'artist_names'`) and three columns: `'track_name'`, `'artist_names'`, and `'uri'`. For each song, the associated `'uri'` should be the **first alphabetically**, among all `'uri'`s associated with that song."
   ]
  },
  {
   "cell_type": "code",
   "execution_count": 42,
   "id": "26673dd3",
   "metadata": {},
   "outputs": [
    {
     "data": {
      "text/html": [
       "<div>\n",
       "<style scoped>\n",
       "    .dataframe tbody tr th:only-of-type {\n",
       "        vertical-align: middle;\n",
       "    }\n",
       "\n",
       "    .dataframe tbody tr th {\n",
       "        vertical-align: top;\n",
       "    }\n",
       "\n",
       "    .dataframe thead th {\n",
       "        text-align: right;\n",
       "    }\n",
       "</style>\n",
       "<table border=\"1\" class=\"dataframe\">\n",
       "  <thead>\n",
       "    <tr style=\"text-align: right;\">\n",
       "      <th></th>\n",
       "      <th>track_name</th>\n",
       "      <th>artist_names</th>\n",
       "      <th>uri</th>\n",
       "    </tr>\n",
       "  </thead>\n",
       "  <tbody>\n",
       "    <tr>\n",
       "      <th>1394</th>\n",
       "      <td>Mr. Brightside</td>\n",
       "      <td>The Killers</td>\n",
       "      <td>spotify:track:003vvx7Niy0yvhvHt4a68Bspotify:tr...</td>\n",
       "    </tr>\n",
       "    <tr>\n",
       "      <th>1534</th>\n",
       "      <td>One Right Now (with The Weeknd)</td>\n",
       "      <td>Post Malone, The Weeknd</td>\n",
       "      <td>spotify:track:00Blm7zeNqgYLPtW6zg8cjspotify:tr...</td>\n",
       "    </tr>\n",
       "    <tr>\n",
       "      <th>1104</th>\n",
       "      <td>LOOSE CHANGE</td>\n",
       "      <td>Brent Faiyaz</td>\n",
       "      <td>spotify:track:00imgaPlYRrMGn9o83hfmkspotify:tr...</td>\n",
       "    </tr>\n",
       "    <tr>\n",
       "      <th>1172</th>\n",
       "      <td>Leve</td>\n",
       "      <td>Cartel De Santa</td>\n",
       "      <td>spotify:track:00jpfco62YfQj1BBYCCuKHspotify:tr...</td>\n",
       "    </tr>\n",
       "    <tr>\n",
       "      <th>298</th>\n",
       "      <td>Break My Heart</td>\n",
       "      <td>Dua Lipa</td>\n",
       "      <td>spotify:track:017PF4Q3l4DBUiWoXk4OWTspotify:tr...</td>\n",
       "    </tr>\n",
       "    <tr>\n",
       "      <th>...</th>\n",
       "      <td>...</td>\n",
       "      <td>...</td>\n",
       "      <td>...</td>\n",
       "    </tr>\n",
       "    <tr>\n",
       "      <th>483</th>\n",
       "      <td>DOLLA SIGN SLIME (feat. Megan Thee Stallion)</td>\n",
       "      <td>Lil Nas X, Megan Thee Stallion</td>\n",
       "      <td>spotify:track:7zQirOExB0VR8yWUOqYeiospotify:tr...</td>\n",
       "    </tr>\n",
       "    <tr>\n",
       "      <th>1758</th>\n",
       "      <td>Run My Shit</td>\n",
       "      <td>Mindflip</td>\n",
       "      <td>spotify:track:7zVVkNOKWMd46nwMUgHPmLspotify:tr...</td>\n",
       "    </tr>\n",
       "    <tr>\n",
       "      <th>1206</th>\n",
       "      <td>Livin It Up (with Post Malone &amp; A$AP Rocky)</td>\n",
       "      <td>Young Thug, A$AP Rocky, Post Malone</td>\n",
       "      <td>spotify:track:7zjEyeBsaw9gV0jofJLfOMspotify:tr...</td>\n",
       "    </tr>\n",
       "    <tr>\n",
       "      <th>1086</th>\n",
       "      <td>Killer (feat. Jack Harlow &amp; Cordae) - Remix</td>\n",
       "      <td>Eminem, Jack Harlow, Cordae</td>\n",
       "      <td>spotify:track:7zl7kehxesNEo2pYkKXTSespotify:tr...</td>\n",
       "    </tr>\n",
       "    <tr>\n",
       "      <th>1397</th>\n",
       "      <td>Mr. Morale</td>\n",
       "      <td>Kendrick Lamar, Tanna Leone</td>\n",
       "      <td>spotify:track:7zvfDihYiJ8RQ1nRcpKBF5spotify:tr...</td>\n",
       "    </tr>\n",
       "  </tbody>\n",
       "</table>\n",
       "<p>2554 rows × 3 columns</p>\n",
       "</div>"
      ],
      "text/plain": [
       "                                        track_name  \\\n",
       "1394                                Mr. Brightside   \n",
       "1534               One Right Now (with The Weeknd)   \n",
       "1104                                  LOOSE CHANGE   \n",
       "1172                                          Leve   \n",
       "298                                 Break My Heart   \n",
       "...                                            ...   \n",
       "483   DOLLA SIGN SLIME (feat. Megan Thee Stallion)   \n",
       "1758                                   Run My Shit   \n",
       "1206   Livin It Up (with Post Malone & A$AP Rocky)   \n",
       "1086   Killer (feat. Jack Harlow & Cordae) - Remix   \n",
       "1397                                    Mr. Morale   \n",
       "\n",
       "                             artist_names  \\\n",
       "1394                          The Killers   \n",
       "1534              Post Malone, The Weeknd   \n",
       "1104                         Brent Faiyaz   \n",
       "1172                      Cartel De Santa   \n",
       "298                              Dua Lipa   \n",
       "...                                   ...   \n",
       "483        Lil Nas X, Megan Thee Stallion   \n",
       "1758                             Mindflip   \n",
       "1206  Young Thug, A$AP Rocky, Post Malone   \n",
       "1086          Eminem, Jack Harlow, Cordae   \n",
       "1397          Kendrick Lamar, Tanna Leone   \n",
       "\n",
       "                                                    uri  \n",
       "1394  spotify:track:003vvx7Niy0yvhvHt4a68Bspotify:tr...  \n",
       "1534  spotify:track:00Blm7zeNqgYLPtW6zg8cjspotify:tr...  \n",
       "1104  spotify:track:00imgaPlYRrMGn9o83hfmkspotify:tr...  \n",
       "1172  spotify:track:00jpfco62YfQj1BBYCCuKHspotify:tr...  \n",
       "298   spotify:track:017PF4Q3l4DBUiWoXk4OWTspotify:tr...  \n",
       "...                                                 ...  \n",
       "483   spotify:track:7zQirOExB0VR8yWUOqYeiospotify:tr...  \n",
       "1758  spotify:track:7zVVkNOKWMd46nwMUgHPmLspotify:tr...  \n",
       "1206  spotify:track:7zjEyeBsaw9gV0jofJLfOMspotify:tr...  \n",
       "1086  spotify:track:7zl7kehxesNEo2pYkKXTSespotify:tr...  \n",
       "1397  spotify:track:7zvfDihYiJ8RQ1nRcpKBF5spotify:tr...  \n",
       "\n",
       "[2554 rows x 3 columns]"
      ]
     },
     "execution_count": 42,
     "metadata": {},
     "output_type": "execute_result"
    }
   ],
   "source": [
    "chartsUpdate = bpd.DataFrame().assign(track_name = charts.get(\"track_name\"), uri = charts.get(\"uri\").sort_values(), artist_names = charts.get(\"artist_names\"))\n",
    "to_merge = chartsUpdate.groupby([\"track_name\", \"artist_names\"]).sum().reset_index()\n",
    "to_merge = to_merge.sort_values(\"uri\")\n",
    "to_merge"
   ]
  },
  {
   "cell_type": "code",
   "execution_count": 43,
   "id": "a8a9f38c",
   "metadata": {
    "deletable": false,
    "editable": false
   },
   "outputs": [
    {
     "data": {
      "text/html": [
       "<p><strong><pre style='display: inline;'>q3_4</pre></strong> passed! 🌟</p>"
      ],
      "text/plain": [
       "q3_4 results: All test cases passed!"
      ]
     },
     "execution_count": 43,
     "metadata": {},
     "output_type": "execute_result"
    }
   ],
   "source": [
    "grader.check(\"q3_4\")"
   ]
  },
  {
   "cell_type": "markdown",
   "id": "2e33015b",
   "metadata": {},
   "source": [
    "Notice that `'track_name'` and `'artist_names'` are columns names in the `common_songs` DataFrame and in the `to_merge` DataFrame. Further, they are the *only* column names that these DataFrames have in common. \n",
    "\n",
    "It turns out that when we merge two DataFrames without specifying which columns to merge on, `babypandas` will merge them on the set of shared column names, which means it will match up rows that have the same values in *all* shared columns. \n",
    "\n",
    "**Question 3.5.** Merge `common_songs` and `to_merge` on both `'track_name'` and `'artist_names'`. Save the resulting DataFrame as `common_songs_uri`. Think about why we want to merge on both columns in this case (i.e. why we _can't_ merge on just `'track_name'` or just `'artist_names'`)."
   ]
  },
  {
   "cell_type": "code",
   "execution_count": 44,
   "id": "044adf3a",
   "metadata": {},
   "outputs": [
    {
     "data": {
      "text/html": [
       "<div>\n",
       "<style scoped>\n",
       "    .dataframe tbody tr th:only-of-type {\n",
       "        vertical-align: middle;\n",
       "    }\n",
       "\n",
       "    .dataframe tbody tr th {\n",
       "        vertical-align: top;\n",
       "    }\n",
       "\n",
       "    .dataframe thead th {\n",
       "        text-align: right;\n",
       "    }\n",
       "</style>\n",
       "<table border=\"1\" class=\"dataframe\">\n",
       "  <thead>\n",
       "    <tr style=\"text-align: right;\">\n",
       "      <th></th>\n",
       "      <th>track_name</th>\n",
       "      <th>artist_names</th>\n",
       "      <th>danceability</th>\n",
       "      <th>energy</th>\n",
       "      <th>key</th>\n",
       "      <th>mode</th>\n",
       "      <th>loudness</th>\n",
       "      <th>speechiness</th>\n",
       "      <th>acousticness</th>\n",
       "      <th>instrumentalness</th>\n",
       "      <th>liveness</th>\n",
       "      <th>valence</th>\n",
       "      <th>tempo</th>\n",
       "      <th>duration_min</th>\n",
       "      <th>tempo_name</th>\n",
       "      <th>uri</th>\n",
       "    </tr>\n",
       "  </thead>\n",
       "  <tbody>\n",
       "    <tr>\n",
       "      <th>0</th>\n",
       "      <td>3G (feat. Lil Uzi Vert)</td>\n",
       "      <td>Yeat, Lil Uzi Vert</td>\n",
       "      <td>0.758</td>\n",
       "      <td>0.572</td>\n",
       "      <td>1.0</td>\n",
       "      <td>1.0</td>\n",
       "      <td>-8.087</td>\n",
       "      <td>0.2050</td>\n",
       "      <td>0.007730</td>\n",
       "      <td>0.000012</td>\n",
       "      <td>0.1520</td>\n",
       "      <td>0.152</td>\n",
       "      <td>135.984</td>\n",
       "      <td>2.844000</td>\n",
       "      <td>Allegro</td>\n",
       "      <td>spotify:track:3O0XntET8Ee1nFI3rDTwOJspotify:tr...</td>\n",
       "    </tr>\n",
       "    <tr>\n",
       "      <th>1</th>\n",
       "      <td>5X</td>\n",
       "      <td>Don Toliver</td>\n",
       "      <td>0.898</td>\n",
       "      <td>0.518</td>\n",
       "      <td>1.0</td>\n",
       "      <td>1.0</td>\n",
       "      <td>-6.991</td>\n",
       "      <td>0.2100</td>\n",
       "      <td>0.040200</td>\n",
       "      <td>0.000000</td>\n",
       "      <td>0.1060</td>\n",
       "      <td>0.798</td>\n",
       "      <td>145.082</td>\n",
       "      <td>2.206633</td>\n",
       "      <td>Allegro</td>\n",
       "      <td>spotify:track:2OcbewDrWFNTYRqpSzJBCYspotify:tr...</td>\n",
       "    </tr>\n",
       "    <tr>\n",
       "      <th>2</th>\n",
       "      <td>7 rings</td>\n",
       "      <td>Ariana Grande</td>\n",
       "      <td>0.778</td>\n",
       "      <td>0.317</td>\n",
       "      <td>1.0</td>\n",
       "      <td>0.0</td>\n",
       "      <td>-10.732</td>\n",
       "      <td>0.3340</td>\n",
       "      <td>0.592000</td>\n",
       "      <td>0.000000</td>\n",
       "      <td>0.0881</td>\n",
       "      <td>0.327</td>\n",
       "      <td>140.048</td>\n",
       "      <td>2.977117</td>\n",
       "      <td>Allegro</td>\n",
       "      <td>spotify:track:6ocbgoVGwYJhOv1GgI9NsFspotify:tr...</td>\n",
       "    </tr>\n",
       "    <tr>\n",
       "      <th>3</th>\n",
       "      <td>999 (with Camilo)</td>\n",
       "      <td>Selena Gomez, Camilo</td>\n",
       "      <td>0.781</td>\n",
       "      <td>0.748</td>\n",
       "      <td>1.0</td>\n",
       "      <td>1.0</td>\n",
       "      <td>-4.604</td>\n",
       "      <td>0.2420</td>\n",
       "      <td>0.105000</td>\n",
       "      <td>0.000000</td>\n",
       "      <td>0.1560</td>\n",
       "      <td>0.788</td>\n",
       "      <td>149.819</td>\n",
       "      <td>3.736133</td>\n",
       "      <td>Allegro</td>\n",
       "      <td>spotify:track:0EtuSDTRJYUwlPf4y6coIzspotify:tr...</td>\n",
       "    </tr>\n",
       "    <tr>\n",
       "      <th>4</th>\n",
       "      <td>A Keeper</td>\n",
       "      <td>Drake</td>\n",
       "      <td>0.600</td>\n",
       "      <td>0.482</td>\n",
       "      <td>1.0</td>\n",
       "      <td>1.0</td>\n",
       "      <td>-11.596</td>\n",
       "      <td>0.0701</td>\n",
       "      <td>0.512000</td>\n",
       "      <td>0.000104</td>\n",
       "      <td>0.1150</td>\n",
       "      <td>0.323</td>\n",
       "      <td>121.909</td>\n",
       "      <td>2.884950</td>\n",
       "      <td>Allegro</td>\n",
       "      <td>spotify:track:0nAZGkBGKQCXyaoSJfRhC1spotify:tr...</td>\n",
       "    </tr>\n",
       "    <tr>\n",
       "      <th>...</th>\n",
       "      <td>...</td>\n",
       "      <td>...</td>\n",
       "      <td>...</td>\n",
       "      <td>...</td>\n",
       "      <td>...</td>\n",
       "      <td>...</td>\n",
       "      <td>...</td>\n",
       "      <td>...</td>\n",
       "      <td>...</td>\n",
       "      <td>...</td>\n",
       "      <td>...</td>\n",
       "      <td>...</td>\n",
       "      <td>...</td>\n",
       "      <td>...</td>\n",
       "      <td>...</td>\n",
       "      <td>...</td>\n",
       "    </tr>\n",
       "    <tr>\n",
       "      <th>121</th>\n",
       "      <td>family ties (with Kendrick Lamar)</td>\n",
       "      <td>Baby Keem, Kendrick Lamar</td>\n",
       "      <td>0.711</td>\n",
       "      <td>0.611</td>\n",
       "      <td>1.0</td>\n",
       "      <td>1.0</td>\n",
       "      <td>-5.453</td>\n",
       "      <td>0.3300</td>\n",
       "      <td>0.005880</td>\n",
       "      <td>0.000000</td>\n",
       "      <td>0.2300</td>\n",
       "      <td>0.144</td>\n",
       "      <td>134.093</td>\n",
       "      <td>4.204367</td>\n",
       "      <td>Allegro</td>\n",
       "      <td>spotify:track:7Bpx2vsWfQFBACRz4h3IqHspotify:tr...</td>\n",
       "    </tr>\n",
       "    <tr>\n",
       "      <th>122</th>\n",
       "      <td>mainstream sellout</td>\n",
       "      <td>Machine Gun Kelly</td>\n",
       "      <td>0.541</td>\n",
       "      <td>0.693</td>\n",
       "      <td>1.0</td>\n",
       "      <td>1.0</td>\n",
       "      <td>-4.252</td>\n",
       "      <td>0.0612</td>\n",
       "      <td>0.000209</td>\n",
       "      <td>0.001030</td>\n",
       "      <td>0.0553</td>\n",
       "      <td>0.483</td>\n",
       "      <td>142.086</td>\n",
       "      <td>1.797483</td>\n",
       "      <td>Allegro</td>\n",
       "      <td>spotify:track:0XugRTkCzcwTJ0ZZJbeVHO</td>\n",
       "    </tr>\n",
       "    <tr>\n",
       "      <th>123</th>\n",
       "      <td>moved to miami (feat. Lil Baby)</td>\n",
       "      <td>Roddy Ricch, Lil Baby</td>\n",
       "      <td>0.717</td>\n",
       "      <td>0.444</td>\n",
       "      <td>1.0</td>\n",
       "      <td>1.0</td>\n",
       "      <td>-11.126</td>\n",
       "      <td>0.1800</td>\n",
       "      <td>0.019600</td>\n",
       "      <td>0.000315</td>\n",
       "      <td>0.1140</td>\n",
       "      <td>0.116</td>\n",
       "      <td>124.685</td>\n",
       "      <td>3.703750</td>\n",
       "      <td>Allegro</td>\n",
       "      <td>spotify:track:3rjwafyisDpLdoJ4RecHp6spotify:tr...</td>\n",
       "    </tr>\n",
       "    <tr>\n",
       "      <th>124</th>\n",
       "      <td>thought i was playing</td>\n",
       "      <td>Gunna, 21 Savage</td>\n",
       "      <td>0.679</td>\n",
       "      <td>0.730</td>\n",
       "      <td>1.0</td>\n",
       "      <td>1.0</td>\n",
       "      <td>-7.483</td>\n",
       "      <td>0.0689</td>\n",
       "      <td>0.004210</td>\n",
       "      <td>0.000000</td>\n",
       "      <td>0.0736</td>\n",
       "      <td>0.292</td>\n",
       "      <td>148.038</td>\n",
       "      <td>2.797333</td>\n",
       "      <td>Allegro</td>\n",
       "      <td>spotify:track:3XLbDUB5BX2WqL2qoAsvtbspotify:tr...</td>\n",
       "    </tr>\n",
       "    <tr>\n",
       "      <th>125</th>\n",
       "      <td>too easy</td>\n",
       "      <td>Gunna, Future</td>\n",
       "      <td>0.798</td>\n",
       "      <td>0.574</td>\n",
       "      <td>1.0</td>\n",
       "      <td>1.0</td>\n",
       "      <td>-6.548</td>\n",
       "      <td>0.1570</td>\n",
       "      <td>0.024000</td>\n",
       "      <td>0.000000</td>\n",
       "      <td>0.1220</td>\n",
       "      <td>0.309</td>\n",
       "      <td>155.964</td>\n",
       "      <td>2.309783</td>\n",
       "      <td>Allegro</td>\n",
       "      <td>spotify:track:4eL3XeuGaEoVT8ttDh3hwYspotify:tr...</td>\n",
       "    </tr>\n",
       "  </tbody>\n",
       "</table>\n",
       "<p>126 rows × 16 columns</p>\n",
       "</div>"
      ],
      "text/plain": [
       "                            track_name               artist_names  \\\n",
       "0              3G (feat. Lil Uzi Vert)         Yeat, Lil Uzi Vert   \n",
       "1                                   5X                Don Toliver   \n",
       "2                              7 rings              Ariana Grande   \n",
       "3                    999 (with Camilo)       Selena Gomez, Camilo   \n",
       "4                             A Keeper                      Drake   \n",
       "..                                 ...                        ...   \n",
       "121  family ties (with Kendrick Lamar)  Baby Keem, Kendrick Lamar   \n",
       "122                 mainstream sellout          Machine Gun Kelly   \n",
       "123    moved to miami (feat. Lil Baby)      Roddy Ricch, Lil Baby   \n",
       "124              thought i was playing           Gunna, 21 Savage   \n",
       "125                           too easy              Gunna, Future   \n",
       "\n",
       "     danceability  energy  key  mode  loudness  speechiness  acousticness  \\\n",
       "0           0.758   0.572  1.0   1.0    -8.087       0.2050      0.007730   \n",
       "1           0.898   0.518  1.0   1.0    -6.991       0.2100      0.040200   \n",
       "2           0.778   0.317  1.0   0.0   -10.732       0.3340      0.592000   \n",
       "3           0.781   0.748  1.0   1.0    -4.604       0.2420      0.105000   \n",
       "4           0.600   0.482  1.0   1.0   -11.596       0.0701      0.512000   \n",
       "..            ...     ...  ...   ...       ...          ...           ...   \n",
       "121         0.711   0.611  1.0   1.0    -5.453       0.3300      0.005880   \n",
       "122         0.541   0.693  1.0   1.0    -4.252       0.0612      0.000209   \n",
       "123         0.717   0.444  1.0   1.0   -11.126       0.1800      0.019600   \n",
       "124         0.679   0.730  1.0   1.0    -7.483       0.0689      0.004210   \n",
       "125         0.798   0.574  1.0   1.0    -6.548       0.1570      0.024000   \n",
       "\n",
       "     instrumentalness  liveness  valence    tempo  duration_min tempo_name  \\\n",
       "0            0.000012    0.1520    0.152  135.984      2.844000    Allegro   \n",
       "1            0.000000    0.1060    0.798  145.082      2.206633    Allegro   \n",
       "2            0.000000    0.0881    0.327  140.048      2.977117    Allegro   \n",
       "3            0.000000    0.1560    0.788  149.819      3.736133    Allegro   \n",
       "4            0.000104    0.1150    0.323  121.909      2.884950    Allegro   \n",
       "..                ...       ...      ...      ...           ...        ...   \n",
       "121          0.000000    0.2300    0.144  134.093      4.204367    Allegro   \n",
       "122          0.001030    0.0553    0.483  142.086      1.797483    Allegro   \n",
       "123          0.000315    0.1140    0.116  124.685      3.703750    Allegro   \n",
       "124          0.000000    0.0736    0.292  148.038      2.797333    Allegro   \n",
       "125          0.000000    0.1220    0.309  155.964      2.309783    Allegro   \n",
       "\n",
       "                                                   uri  \n",
       "0    spotify:track:3O0XntET8Ee1nFI3rDTwOJspotify:tr...  \n",
       "1    spotify:track:2OcbewDrWFNTYRqpSzJBCYspotify:tr...  \n",
       "2    spotify:track:6ocbgoVGwYJhOv1GgI9NsFspotify:tr...  \n",
       "3    spotify:track:0EtuSDTRJYUwlPf4y6coIzspotify:tr...  \n",
       "4    spotify:track:0nAZGkBGKQCXyaoSJfRhC1spotify:tr...  \n",
       "..                                                 ...  \n",
       "121  spotify:track:7Bpx2vsWfQFBACRz4h3IqHspotify:tr...  \n",
       "122               spotify:track:0XugRTkCzcwTJ0ZZJbeVHO  \n",
       "123  spotify:track:3rjwafyisDpLdoJ4RecHp6spotify:tr...  \n",
       "124  spotify:track:3XLbDUB5BX2WqL2qoAsvtbspotify:tr...  \n",
       "125  spotify:track:4eL3XeuGaEoVT8ttDh3hwYspotify:tr...  \n",
       "\n",
       "[126 rows x 16 columns]"
      ]
     },
     "execution_count": 44,
     "metadata": {},
     "output_type": "execute_result"
    }
   ],
   "source": [
    "common_songs_uri = common_songs.merge(right=to_merge)\n",
    "common_songs_uri\n",
    "#common_songs"
   ]
  },
  {
   "cell_type": "code",
   "execution_count": 45,
   "id": "b2ce120e",
   "metadata": {
    "deletable": false,
    "editable": false
   },
   "outputs": [
    {
     "data": {
      "text/html": [
       "<p><strong><pre style='display: inline;'>q3_5</pre></strong> passed! 🙌</p>"
      ],
      "text/plain": [
       "q3_5 results: All test cases passed!"
      ]
     },
     "execution_count": 45,
     "metadata": {},
     "output_type": "execute_result"
    }
   ],
   "source": [
    "grader.check(\"q3_5\")"
   ]
  },
  {
   "cell_type": "markdown",
   "id": "e943abb5",
   "metadata": {},
   "source": [
    "**Question 3.6.** It would be great if we could listen to the songs in `common_songs_uri` to see if they sound alike, but there are too many songs to listen to them all. In an array called `certain_uris`, store the following `'uri'`s:\n",
    "- the first alphabetical `'uri'` in `common_songs_uri`,\n",
    "- then every 40th song thereafter, when the songs are ordered alphabetically by `'uri'`. \n",
    "\n",
    "Then, play all the songs whose `'uri'`s are stored in `certain_uris`. As in Question 1.3, you should only call the function `play_spotify` one time! "
   ]
  },
  {
   "cell_type": "code",
   "execution_count": 46,
   "id": "f98bc57e",
   "metadata": {
    "scrolled": false
   },
   "outputs": [
    {
     "data": {
      "text/html": [
       "\n",
       "        <iframe\n",
       "            width=\"400\"\n",
       "            height=\"75\"\n",
       "            src=\"https://open.spotify.com/embed/track/003vvx7Niy0yvhvHt4a68B\"\n",
       "            frameborder=\"0\"\n",
       "            allowfullscreen\n",
       "            \n",
       "        ></iframe>\n",
       "        "
      ],
      "text/plain": [
       "<IPython.lib.display.IFrame at 0x7fbb819de670>"
      ]
     },
     "metadata": {},
     "output_type": "display_data"
    },
    {
     "data": {
      "text/html": [
       "\n",
       "        <iframe\n",
       "            width=\"400\"\n",
       "            height=\"75\"\n",
       "            src=\"https://open.spotify.com/embed/track/2SJZdZ5DLtlRosJ2xHJJJa\"\n",
       "            frameborder=\"0\"\n",
       "            allowfullscreen\n",
       "            \n",
       "        ></iframe>\n",
       "        "
      ],
      "text/plain": [
       "<IPython.lib.display.IFrame at 0x7fbb819de670>"
      ]
     },
     "metadata": {},
     "output_type": "display_data"
    },
    {
     "data": {
      "text/html": [
       "\n",
       "        <iframe\n",
       "            width=\"400\"\n",
       "            height=\"75\"\n",
       "            src=\"https://open.spotify.com/embed/track/4ukUoXLuFzMixyZyabSGc4\"\n",
       "            frameborder=\"0\"\n",
       "            allowfullscreen\n",
       "            \n",
       "        ></iframe>\n",
       "        "
      ],
      "text/plain": [
       "<IPython.lib.display.IFrame at 0x7fbb819de670>"
      ]
     },
     "metadata": {},
     "output_type": "display_data"
    },
    {
     "data": {
      "text/html": [
       "\n",
       "        <iframe\n",
       "            width=\"400\"\n",
       "            height=\"75\"\n",
       "            src=\"https://open.spotify.com/embed/track/7aely3H8kMj9o0gt6vXHE1\"\n",
       "            frameborder=\"0\"\n",
       "            allowfullscreen\n",
       "            \n",
       "        ></iframe>\n",
       "        "
      ],
      "text/plain": [
       "<IPython.lib.display.IFrame at 0x7fbb819de670>"
      ]
     },
     "metadata": {},
     "output_type": "display_data"
    }
   ],
   "source": [
    "common_songs_uri = common_songs_uri.sort_values(\"uri\")\n",
    "certain_uris = []\n",
    "i = 0\n",
    "while i < int(common_songs_uri.shape[0]):\n",
    "    certain_uris.append(common_songs_uri.get(\"uri\").iloc[i])\n",
    "    i = i+40\n",
    "\n",
    "certain_uris = np.array(certain_uris)\n",
    "\n",
    "for i in certain_uris:  \n",
    "    play_spotify(i)\n",
    "# Play the songs here."
   ]
  },
  {
   "cell_type": "code",
   "execution_count": 47,
   "id": "43c10854",
   "metadata": {
    "deletable": false,
    "editable": false
   },
   "outputs": [
    {
     "data": {
      "text/html": [
       "<p><strong><pre style='display: inline;'>q3_6</pre></strong> passed! 🚀</p>"
      ],
      "text/plain": [
       "q3_6 results: All test cases passed!"
      ]
     },
     "execution_count": 47,
     "metadata": {},
     "output_type": "execute_result"
    }
   ],
   "source": [
    "grader.check(\"q3_6\")"
   ]
  },
  {
   "cell_type": "markdown",
   "id": "7001dcdd",
   "metadata": {},
   "source": [
    "**Question 3.7.** Now, let's categorize songs by their Italian tempo names. Specifically, find the mean of each numerical variable for each `'tempo_name'`. Store these means in a DataFrame indexed by `'tempo_name'` and sorted from slowest to fastest tempos. Save your DataFrame to the variable `song_means`. "
   ]
  },
  {
   "cell_type": "code",
   "execution_count": 48,
   "id": "2ac2ff02",
   "metadata": {},
   "outputs": [
    {
     "data": {
      "text/html": [
       "<div>\n",
       "<style scoped>\n",
       "    .dataframe tbody tr th:only-of-type {\n",
       "        vertical-align: middle;\n",
       "    }\n",
       "\n",
       "    .dataframe tbody tr th {\n",
       "        vertical-align: top;\n",
       "    }\n",
       "\n",
       "    .dataframe thead th {\n",
       "        text-align: right;\n",
       "    }\n",
       "</style>\n",
       "<table border=\"1\" class=\"dataframe\">\n",
       "  <thead>\n",
       "    <tr style=\"text-align: right;\">\n",
       "      <th></th>\n",
       "      <th>danceability</th>\n",
       "      <th>energy</th>\n",
       "      <th>key</th>\n",
       "      <th>mode</th>\n",
       "      <th>loudness</th>\n",
       "      <th>speechiness</th>\n",
       "      <th>acousticness</th>\n",
       "      <th>instrumentalness</th>\n",
       "      <th>liveness</th>\n",
       "      <th>valence</th>\n",
       "      <th>tempo</th>\n",
       "      <th>duration_min</th>\n",
       "    </tr>\n",
       "    <tr>\n",
       "      <th>tempo_name</th>\n",
       "      <th></th>\n",
       "      <th></th>\n",
       "      <th></th>\n",
       "      <th></th>\n",
       "      <th></th>\n",
       "      <th></th>\n",
       "      <th></th>\n",
       "      <th></th>\n",
       "      <th></th>\n",
       "      <th></th>\n",
       "      <th></th>\n",
       "      <th></th>\n",
       "    </tr>\n",
       "  </thead>\n",
       "  <tbody>\n",
       "    <tr>\n",
       "      <th>Adagio</th>\n",
       "      <td>0.621284</td>\n",
       "      <td>0.559786</td>\n",
       "      <td>5.140704</td>\n",
       "      <td>0.625628</td>\n",
       "      <td>-7.147053</td>\n",
       "      <td>0.144588</td>\n",
       "      <td>0.318340</td>\n",
       "      <td>0.012825</td>\n",
       "      <td>0.182341</td>\n",
       "      <td>0.478925</td>\n",
       "      <td>80.822819</td>\n",
       "      <td>3.381803</td>\n",
       "    </tr>\n",
       "    <tr>\n",
       "      <th>Adante</th>\n",
       "      <td>0.704633</td>\n",
       "      <td>0.634094</td>\n",
       "      <td>5.306588</td>\n",
       "      <td>0.576014</td>\n",
       "      <td>-6.452064</td>\n",
       "      <td>0.102016</td>\n",
       "      <td>0.263806</td>\n",
       "      <td>0.013010</td>\n",
       "      <td>0.171431</td>\n",
       "      <td>0.544834</td>\n",
       "      <td>98.818757</td>\n",
       "      <td>3.408258</td>\n",
       "    </tr>\n",
       "    <tr>\n",
       "      <th>Allegro</th>\n",
       "      <td>0.681836</td>\n",
       "      <td>0.613450</td>\n",
       "      <td>5.152151</td>\n",
       "      <td>0.631689</td>\n",
       "      <td>-6.842650</td>\n",
       "      <td>0.112475</td>\n",
       "      <td>0.249058</td>\n",
       "      <td>0.010604</td>\n",
       "      <td>0.180571</td>\n",
       "      <td>0.506538</td>\n",
       "      <td>136.898663</td>\n",
       "      <td>3.319493</td>\n",
       "    </tr>\n",
       "    <tr>\n",
       "      <th>Lento</th>\n",
       "      <td>0.382000</td>\n",
       "      <td>0.363000</td>\n",
       "      <td>8.333333</td>\n",
       "      <td>0.666667</td>\n",
       "      <td>-13.754667</td>\n",
       "      <td>0.065867</td>\n",
       "      <td>0.529333</td>\n",
       "      <td>0.012967</td>\n",
       "      <td>0.342033</td>\n",
       "      <td>0.684333</td>\n",
       "      <td>45.251667</td>\n",
       "      <td>2.423483</td>\n",
       "    </tr>\n",
       "    <tr>\n",
       "      <th>Moderato</th>\n",
       "      <td>0.698731</td>\n",
       "      <td>0.616624</td>\n",
       "      <td>5.129151</td>\n",
       "      <td>0.619926</td>\n",
       "      <td>-6.774517</td>\n",
       "      <td>0.081015</td>\n",
       "      <td>0.276549</td>\n",
       "      <td>0.014388</td>\n",
       "      <td>0.187421</td>\n",
       "      <td>0.544509</td>\n",
       "      <td>115.489395</td>\n",
       "      <td>3.353159</td>\n",
       "    </tr>\n",
       "    <tr>\n",
       "      <th>Presto</th>\n",
       "      <td>0.513000</td>\n",
       "      <td>0.600714</td>\n",
       "      <td>5.116883</td>\n",
       "      <td>0.688312</td>\n",
       "      <td>-6.845909</td>\n",
       "      <td>0.139118</td>\n",
       "      <td>0.306433</td>\n",
       "      <td>0.009172</td>\n",
       "      <td>0.149688</td>\n",
       "      <td>0.526116</td>\n",
       "      <td>187.764870</td>\n",
       "      <td>3.587768</td>\n",
       "    </tr>\n",
       "    <tr>\n",
       "      <th>Vivace</th>\n",
       "      <td>0.622379</td>\n",
       "      <td>0.637733</td>\n",
       "      <td>5.192308</td>\n",
       "      <td>0.615385</td>\n",
       "      <td>-6.232313</td>\n",
       "      <td>0.166024</td>\n",
       "      <td>0.241861</td>\n",
       "      <td>0.012375</td>\n",
       "      <td>0.185906</td>\n",
       "      <td>0.548454</td>\n",
       "      <td>170.314977</td>\n",
       "      <td>3.362829</td>\n",
       "    </tr>\n",
       "  </tbody>\n",
       "</table>\n",
       "</div>"
      ],
      "text/plain": [
       "            danceability    energy       key      mode   loudness  \\\n",
       "tempo_name                                                          \n",
       "Adagio          0.621284  0.559786  5.140704  0.625628  -7.147053   \n",
       "Adante          0.704633  0.634094  5.306588  0.576014  -6.452064   \n",
       "Allegro         0.681836  0.613450  5.152151  0.631689  -6.842650   \n",
       "Lento           0.382000  0.363000  8.333333  0.666667 -13.754667   \n",
       "Moderato        0.698731  0.616624  5.129151  0.619926  -6.774517   \n",
       "Presto          0.513000  0.600714  5.116883  0.688312  -6.845909   \n",
       "Vivace          0.622379  0.637733  5.192308  0.615385  -6.232313   \n",
       "\n",
       "            speechiness  acousticness  instrumentalness  liveness   valence  \\\n",
       "tempo_name                                                                    \n",
       "Adagio         0.144588      0.318340          0.012825  0.182341  0.478925   \n",
       "Adante         0.102016      0.263806          0.013010  0.171431  0.544834   \n",
       "Allegro        0.112475      0.249058          0.010604  0.180571  0.506538   \n",
       "Lento          0.065867      0.529333          0.012967  0.342033  0.684333   \n",
       "Moderato       0.081015      0.276549          0.014388  0.187421  0.544509   \n",
       "Presto         0.139118      0.306433          0.009172  0.149688  0.526116   \n",
       "Vivace         0.166024      0.241861          0.012375  0.185906  0.548454   \n",
       "\n",
       "                 tempo  duration_min  \n",
       "tempo_name                            \n",
       "Adagio       80.822819      3.381803  \n",
       "Adante       98.818757      3.408258  \n",
       "Allegro     136.898663      3.319493  \n",
       "Lento        45.251667      2.423483  \n",
       "Moderato    115.489395      3.353159  \n",
       "Presto      187.764870      3.587768  \n",
       "Vivace      170.314977      3.362829  "
      ]
     },
     "execution_count": 48,
     "metadata": {},
     "output_type": "execute_result"
    }
   ],
   "source": [
    "song_means = songs.groupby(\"tempo_name\").mean()\n",
    "song_means"
   ]
  },
  {
   "cell_type": "code",
   "execution_count": 49,
   "id": "c5ee309a",
   "metadata": {
    "deletable": false,
    "editable": false
   },
   "outputs": [
    {
     "data": {
      "text/html": [
       "<p><strong><pre style='display: inline;'>q3_7</pre></strong> passed! 🍀</p>"
      ],
      "text/plain": [
       "q3_7 results: All test cases passed!"
      ]
     },
     "execution_count": 49,
     "metadata": {},
     "output_type": "execute_result"
    }
   ],
   "source": [
    "grader.check(\"q3_7\")"
   ]
  },
  {
   "cell_type": "markdown",
   "id": "c6e58f6f",
   "metadata": {},
   "source": [
    "**Question 3.8.** One `'tempo_name'` category has far fewer songs than the others. Since there are too few songs of this `'tempo_name'` for us to draw any meaningful conclusions from, let's create a version of `song_means` without this row. Save the resulting DataFrame in `song_means_modified`."
   ]
  },
  {
   "cell_type": "code",
   "execution_count": 50,
   "id": "a6e2e18f",
   "metadata": {},
   "outputs": [
    {
     "data": {
      "text/html": [
       "<div>\n",
       "<style scoped>\n",
       "    .dataframe tbody tr th:only-of-type {\n",
       "        vertical-align: middle;\n",
       "    }\n",
       "\n",
       "    .dataframe tbody tr th {\n",
       "        vertical-align: top;\n",
       "    }\n",
       "\n",
       "    .dataframe thead th {\n",
       "        text-align: right;\n",
       "    }\n",
       "</style>\n",
       "<table border=\"1\" class=\"dataframe\">\n",
       "  <thead>\n",
       "    <tr style=\"text-align: right;\">\n",
       "      <th></th>\n",
       "      <th>danceability</th>\n",
       "      <th>energy</th>\n",
       "      <th>key</th>\n",
       "      <th>mode</th>\n",
       "      <th>loudness</th>\n",
       "      <th>speechiness</th>\n",
       "      <th>acousticness</th>\n",
       "      <th>instrumentalness</th>\n",
       "      <th>liveness</th>\n",
       "      <th>valence</th>\n",
       "      <th>tempo</th>\n",
       "      <th>duration_min</th>\n",
       "    </tr>\n",
       "    <tr>\n",
       "      <th>tempo_name</th>\n",
       "      <th></th>\n",
       "      <th></th>\n",
       "      <th></th>\n",
       "      <th></th>\n",
       "      <th></th>\n",
       "      <th></th>\n",
       "      <th></th>\n",
       "      <th></th>\n",
       "      <th></th>\n",
       "      <th></th>\n",
       "      <th></th>\n",
       "      <th></th>\n",
       "    </tr>\n",
       "  </thead>\n",
       "  <tbody>\n",
       "    <tr>\n",
       "      <th>Adagio</th>\n",
       "      <td>0.621284</td>\n",
       "      <td>0.559786</td>\n",
       "      <td>5.140704</td>\n",
       "      <td>0.625628</td>\n",
       "      <td>-7.147053</td>\n",
       "      <td>0.144588</td>\n",
       "      <td>0.318340</td>\n",
       "      <td>0.012825</td>\n",
       "      <td>0.182341</td>\n",
       "      <td>0.478925</td>\n",
       "      <td>80.822819</td>\n",
       "      <td>3.381803</td>\n",
       "    </tr>\n",
       "    <tr>\n",
       "      <th>Adante</th>\n",
       "      <td>0.704633</td>\n",
       "      <td>0.634094</td>\n",
       "      <td>5.306588</td>\n",
       "      <td>0.576014</td>\n",
       "      <td>-6.452064</td>\n",
       "      <td>0.102016</td>\n",
       "      <td>0.263806</td>\n",
       "      <td>0.013010</td>\n",
       "      <td>0.171431</td>\n",
       "      <td>0.544834</td>\n",
       "      <td>98.818757</td>\n",
       "      <td>3.408258</td>\n",
       "    </tr>\n",
       "    <tr>\n",
       "      <th>Allegro</th>\n",
       "      <td>0.681836</td>\n",
       "      <td>0.613450</td>\n",
       "      <td>5.152151</td>\n",
       "      <td>0.631689</td>\n",
       "      <td>-6.842650</td>\n",
       "      <td>0.112475</td>\n",
       "      <td>0.249058</td>\n",
       "      <td>0.010604</td>\n",
       "      <td>0.180571</td>\n",
       "      <td>0.506538</td>\n",
       "      <td>136.898663</td>\n",
       "      <td>3.319493</td>\n",
       "    </tr>\n",
       "    <tr>\n",
       "      <th>Moderato</th>\n",
       "      <td>0.698731</td>\n",
       "      <td>0.616624</td>\n",
       "      <td>5.129151</td>\n",
       "      <td>0.619926</td>\n",
       "      <td>-6.774517</td>\n",
       "      <td>0.081015</td>\n",
       "      <td>0.276549</td>\n",
       "      <td>0.014388</td>\n",
       "      <td>0.187421</td>\n",
       "      <td>0.544509</td>\n",
       "      <td>115.489395</td>\n",
       "      <td>3.353159</td>\n",
       "    </tr>\n",
       "    <tr>\n",
       "      <th>Presto</th>\n",
       "      <td>0.513000</td>\n",
       "      <td>0.600714</td>\n",
       "      <td>5.116883</td>\n",
       "      <td>0.688312</td>\n",
       "      <td>-6.845909</td>\n",
       "      <td>0.139118</td>\n",
       "      <td>0.306433</td>\n",
       "      <td>0.009172</td>\n",
       "      <td>0.149688</td>\n",
       "      <td>0.526116</td>\n",
       "      <td>187.764870</td>\n",
       "      <td>3.587768</td>\n",
       "    </tr>\n",
       "    <tr>\n",
       "      <th>Vivace</th>\n",
       "      <td>0.622379</td>\n",
       "      <td>0.637733</td>\n",
       "      <td>5.192308</td>\n",
       "      <td>0.615385</td>\n",
       "      <td>-6.232313</td>\n",
       "      <td>0.166024</td>\n",
       "      <td>0.241861</td>\n",
       "      <td>0.012375</td>\n",
       "      <td>0.185906</td>\n",
       "      <td>0.548454</td>\n",
       "      <td>170.314977</td>\n",
       "      <td>3.362829</td>\n",
       "    </tr>\n",
       "  </tbody>\n",
       "</table>\n",
       "</div>"
      ],
      "text/plain": [
       "            danceability    energy       key      mode  loudness  speechiness  \\\n",
       "tempo_name                                                                      \n",
       "Adagio          0.621284  0.559786  5.140704  0.625628 -7.147053     0.144588   \n",
       "Adante          0.704633  0.634094  5.306588  0.576014 -6.452064     0.102016   \n",
       "Allegro         0.681836  0.613450  5.152151  0.631689 -6.842650     0.112475   \n",
       "Moderato        0.698731  0.616624  5.129151  0.619926 -6.774517     0.081015   \n",
       "Presto          0.513000  0.600714  5.116883  0.688312 -6.845909     0.139118   \n",
       "Vivace          0.622379  0.637733  5.192308  0.615385 -6.232313     0.166024   \n",
       "\n",
       "            acousticness  instrumentalness  liveness   valence       tempo  \\\n",
       "tempo_name                                                                   \n",
       "Adagio          0.318340          0.012825  0.182341  0.478925   80.822819   \n",
       "Adante          0.263806          0.013010  0.171431  0.544834   98.818757   \n",
       "Allegro         0.249058          0.010604  0.180571  0.506538  136.898663   \n",
       "Moderato        0.276549          0.014388  0.187421  0.544509  115.489395   \n",
       "Presto          0.306433          0.009172  0.149688  0.526116  187.764870   \n",
       "Vivace          0.241861          0.012375  0.185906  0.548454  170.314977   \n",
       "\n",
       "            duration_min  \n",
       "tempo_name                \n",
       "Adagio          3.381803  \n",
       "Adante          3.408258  \n",
       "Allegro         3.319493  \n",
       "Moderato        3.353159  \n",
       "Presto          3.587768  \n",
       "Vivace          3.362829  "
      ]
     },
     "execution_count": 50,
     "metadata": {},
     "output_type": "execute_result"
    }
   ],
   "source": [
    "song_means1 = songs.groupby(\"tempo_name\").count().sort_values(\"track_name\").index[0]\n",
    "song_means_modified = song_means\n",
    "song_means_modified = song_means_modified[song_means_modified.index != song_means1]\n",
    "song_means_modified"
   ]
  },
  {
   "cell_type": "code",
   "execution_count": 51,
   "id": "02ff3004",
   "metadata": {
    "deletable": false,
    "editable": false
   },
   "outputs": [
    {
     "data": {
      "text/html": [
       "<p><strong><pre style='display: inline;'>q3_8</pre></strong> passed! 🎉</p>"
      ],
      "text/plain": [
       "q3_8 results: All test cases passed!"
      ]
     },
     "execution_count": 51,
     "metadata": {},
     "output_type": "execute_result"
    }
   ],
   "source": [
    "grader.check(\"q3_8\")"
   ]
  },
  {
   "cell_type": "markdown",
   "id": "a8f52fd0",
   "metadata": {},
   "source": [
    "**Question 3.9.** Using `song_means_modified`, create a line plot that portrays how `'danceability'`, `'energy'`, `'acousticness'`, and `'valence'` change according to `'tempo_name'`. Make sure your plot arranges songs from slowest to fastest tempos."
   ]
  },
  {
   "cell_type": "markdown",
   "id": "8c09d460",
   "metadata": {
    "deletable": false,
    "editable": false
   },
   "source": [
    "<!-- BEGIN QUESTION -->\n",
    "\n",
    "<!--\n",
    "BEGIN QUESTION\n",
    "name: q3_9\n",
    "manual: true\n",
    "points: 1\n",
    "-->"
   ]
  },
  {
   "cell_type": "code",
   "execution_count": 52,
   "id": "e93f06f6",
   "metadata": {},
   "outputs": [
    {
     "data": {
      "text/plain": [
       "<AxesSubplot: xlabel='tempo_name'>"
      ]
     },
     "execution_count": 52,
     "metadata": {},
     "output_type": "execute_result"
    },
    {
     "data": {
      "image/png": "[encoded data removed]",
      "text/plain": [
       "<Figure size 640x480 with 1 Axes>"
      ]
     },
     "metadata": {},
     "output_type": "display_data"
    }
   ],
   "source": [
    "song_means_modified = song_means_modified.sort_values(\"tempo\", ascending = False)\n",
    "song_means_modified1 = bpd.DataFrame().assign(danceability = song_means_modified.get(\"danceability\"), energy = song_means_modified.get(\"energy\"), acousticness = song_means_modified.get(\"acousticness\"), valence = song_means_modified.get(\"valence\"))\n",
    "#song_means_modified1.drop([\"key\"])\n",
    "song_means_modified1.plot(kind = \"line\")"
   ]
  },
  {
   "cell_type": "markdown",
   "id": "c8c082bb",
   "metadata": {},
   "source": [
    "<!-- END QUESTION -->\n",
    "\n",
    "\n",
    "\n",
    "**Question 3.10.** You may have noticed from the plot in the previous question that `'energy'` and `'valence'` seem to move together. This means these variables are _associated_.\n",
    "\n",
    "In the cell below, answer the following questions.\n",
    "- Can we use the `'energy'` of a song to predict its `'valence'`?\n",
    "- If so, does this mean that high `'energy'` causes high `'valence'`? Why or why not?"
   ]
  },
  {
   "cell_type": "markdown",
   "id": "d09ea4d4",
   "metadata": {
    "deletable": false,
    "editable": false
   },
   "source": [
    "<!-- BEGIN QUESTION -->\n",
    "\n",
    "<!--\n",
    "BEGIN QUESTION\n",
    "name: q3_10\n",
    "manual: true\n",
    "points: 1\n",
    "-->"
   ]
  },
  {
   "cell_type": "markdown",
   "id": "65ccad08",
   "metadata": {},
   "source": [
    "No, high energy does not cause high valence. We can use the energy of the song to try and predict its valence. However, this does not mean that high energy causes high valence. They are different variables that are likeley caused by different things. They are probably close to one another because of another confounding factor."
   ]
  },
  {
   "cell_type": "markdown",
   "id": "dc6711f1",
   "metadata": {},
   "source": [
    "<!-- END QUESTION -->\n",
    "\n",
    "\n",
    "\n",
    "<a id='section4'></a>\n",
    "\n",
    "## Section 4: Crazy in Love 💕\n",
    "\n",
    "<small>(<a href=\"#outline\">return to the outline</a>)</small>"
   ]
  },
  {
   "cell_type": "markdown",
   "id": "782e9ffc",
   "metadata": {},
   "source": [
    "Now that we've developed an understanding of how a song's `'tempo_name'` relates to its audio features, let's turn our attention to the relationship between a song's `'track_name'` and its audio features. We'll start by looking at songs that contain `'love'` in the `'track_name'` and learning about what makes them special relative to other songs."
   ]
  },
  {
   "cell_type": "markdown",
   "id": "ba7c7f44",
   "metadata": {},
   "source": [
    "**Question 4.1.** Create a DataFrame called `love_and_not` that has all the same rows and columns as `songs`, plus one extra column, called `'has_love'`. This column should contain either the **string** `'True'` or `'False'`, corresponding to whether or not  the string `'love'` is part of the song's `'track_name'`. \n",
    "\n",
    "We consider `'love'` to be a part of a song's `'track_name'` even in the following scenarios:\n",
    "- `'love'` is part of another word, e.g. `'track_name'` contains `'lovely'`.\n",
    "- The capitalization is different, e.g. the `'track_name'` contains `'LoVE'`.\n",
    "\n",
    "_Note_: It may seem strange that we're asking you to use the strings `'True'` and `'False'` rather than the Boolean values `True` and `False` directly; this will make more sense in the coming questions."
   ]
  },
  {
   "cell_type": "code",
   "execution_count": 117,
   "id": "f9ddc833",
   "metadata": {},
   "outputs": [
    {
     "data": {
      "text/html": [
       "<div>\n",
       "<style scoped>\n",
       "    .dataframe tbody tr th:only-of-type {\n",
       "        vertical-align: middle;\n",
       "    }\n",
       "\n",
       "    .dataframe tbody tr th {\n",
       "        vertical-align: top;\n",
       "    }\n",
       "\n",
       "    .dataframe thead th {\n",
       "        text-align: right;\n",
       "    }\n",
       "</style>\n",
       "<table border=\"1\" class=\"dataframe\">\n",
       "  <thead>\n",
       "    <tr style=\"text-align: right;\">\n",
       "      <th></th>\n",
       "      <th>track_name</th>\n",
       "      <th>artist_names</th>\n",
       "      <th>danceability</th>\n",
       "      <th>energy</th>\n",
       "      <th>key</th>\n",
       "      <th>mode</th>\n",
       "      <th>loudness</th>\n",
       "      <th>speechiness</th>\n",
       "      <th>acousticness</th>\n",
       "      <th>instrumentalness</th>\n",
       "      <th>liveness</th>\n",
       "      <th>valence</th>\n",
       "      <th>tempo</th>\n",
       "      <th>duration_min</th>\n",
       "      <th>tempo_name</th>\n",
       "      <th>has_love</th>\n",
       "    </tr>\n",
       "  </thead>\n",
       "  <tbody>\n",
       "    <tr>\n",
       "      <th>6</th>\n",
       "      <td>...And to Those I Love, Thanks for Sticking Ar...</td>\n",
       "      <td>$uicideboy$</td>\n",
       "      <td>0.792</td>\n",
       "      <td>0.511</td>\n",
       "      <td>2.0</td>\n",
       "      <td>1.0</td>\n",
       "      <td>-6.876</td>\n",
       "      <td>0.0409</td>\n",
       "      <td>0.1240</td>\n",
       "      <td>0.000090</td>\n",
       "      <td>0.1400</td>\n",
       "      <td>0.111</td>\n",
       "      <td>113.983</td>\n",
       "      <td>2.808167</td>\n",
       "      <td>Moderato</td>\n",
       "      <td>True</td>\n",
       "    </tr>\n",
       "    <tr>\n",
       "      <th>151</th>\n",
       "      <td>Another Love</td>\n",
       "      <td>Tom Odell</td>\n",
       "      <td>0.442</td>\n",
       "      <td>0.538</td>\n",
       "      <td>4.0</td>\n",
       "      <td>0.0</td>\n",
       "      <td>-8.550</td>\n",
       "      <td>0.0451</td>\n",
       "      <td>0.7170</td>\n",
       "      <td>0.000029</td>\n",
       "      <td>0.0900</td>\n",
       "      <td>0.139</td>\n",
       "      <td>122.758</td>\n",
       "      <td>4.072667</td>\n",
       "      <td>Allegro</td>\n",
       "      <td>True</td>\n",
       "    </tr>\n",
       "    <tr>\n",
       "      <th>159</th>\n",
       "      <td>Anyone Who Loves Me</td>\n",
       "      <td>Charlotte Cardin</td>\n",
       "      <td>0.718</td>\n",
       "      <td>0.165</td>\n",
       "      <td>11.0</td>\n",
       "      <td>1.0</td>\n",
       "      <td>-8.335</td>\n",
       "      <td>0.0354</td>\n",
       "      <td>0.8660</td>\n",
       "      <td>0.000000</td>\n",
       "      <td>0.1420</td>\n",
       "      <td>0.447</td>\n",
       "      <td>82.629</td>\n",
       "      <td>3.942217</td>\n",
       "      <td>Adagio</td>\n",
       "      <td>True</td>\n",
       "    </tr>\n",
       "    <tr>\n",
       "      <th>344</th>\n",
       "      <td>California Love - Original Version</td>\n",
       "      <td>2Pac, Roger, Dr. Dre</td>\n",
       "      <td>0.763</td>\n",
       "      <td>0.850</td>\n",
       "      <td>7.0</td>\n",
       "      <td>1.0</td>\n",
       "      <td>-3.052</td>\n",
       "      <td>0.0417</td>\n",
       "      <td>0.0304</td>\n",
       "      <td>0.000001</td>\n",
       "      <td>0.3710</td>\n",
       "      <td>0.761</td>\n",
       "      <td>91.519</td>\n",
       "      <td>4.748450</td>\n",
       "      <td>Adante</td>\n",
       "      <td>True</td>\n",
       "    </tr>\n",
       "    <tr>\n",
       "      <th>459</th>\n",
       "      <td>Crazy What Love Can Do</td>\n",
       "      <td>David Guetta, Becky Hill, Ella Henderson</td>\n",
       "      <td>0.601</td>\n",
       "      <td>0.713</td>\n",
       "      <td>4.0</td>\n",
       "      <td>0.0</td>\n",
       "      <td>-3.758</td>\n",
       "      <td>0.0449</td>\n",
       "      <td>0.0282</td>\n",
       "      <td>0.000000</td>\n",
       "      <td>0.1580</td>\n",
       "      <td>0.464</td>\n",
       "      <td>122.872</td>\n",
       "      <td>2.829267</td>\n",
       "      <td>Allegro</td>\n",
       "      <td>True</td>\n",
       "    </tr>\n",
       "    <tr>\n",
       "      <th>...</th>\n",
       "      <td>...</td>\n",
       "      <td>...</td>\n",
       "      <td>...</td>\n",
       "      <td>...</td>\n",
       "      <td>...</td>\n",
       "      <td>...</td>\n",
       "      <td>...</td>\n",
       "      <td>...</td>\n",
       "      <td>...</td>\n",
       "      <td>...</td>\n",
       "      <td>...</td>\n",
       "      <td>...</td>\n",
       "      <td>...</td>\n",
       "      <td>...</td>\n",
       "      <td>...</td>\n",
       "      <td>...</td>\n",
       "    </tr>\n",
       "    <tr>\n",
       "      <th>2488</th>\n",
       "      <td>love.</td>\n",
       "      <td>Kid Cudi</td>\n",
       "      <td>0.574</td>\n",
       "      <td>0.736</td>\n",
       "      <td>5.0</td>\n",
       "      <td>1.0</td>\n",
       "      <td>-4.743</td>\n",
       "      <td>0.0465</td>\n",
       "      <td>0.1460</td>\n",
       "      <td>0.000017</td>\n",
       "      <td>0.4070</td>\n",
       "      <td>0.344</td>\n",
       "      <td>138.501</td>\n",
       "      <td>5.476217</td>\n",
       "      <td>Allegro</td>\n",
       "      <td>True</td>\n",
       "    </tr>\n",
       "    <tr>\n",
       "      <th>2489</th>\n",
       "      <td>lovely (with Khalid)</td>\n",
       "      <td>Billie Eilish, Khalid</td>\n",
       "      <td>0.351</td>\n",
       "      <td>0.296</td>\n",
       "      <td>4.0</td>\n",
       "      <td>0.0</td>\n",
       "      <td>-10.109</td>\n",
       "      <td>0.0333</td>\n",
       "      <td>0.9340</td>\n",
       "      <td>0.000000</td>\n",
       "      <td>0.0950</td>\n",
       "      <td>0.120</td>\n",
       "      <td>115.284</td>\n",
       "      <td>3.336433</td>\n",
       "      <td>Moderato</td>\n",
       "      <td>True</td>\n",
       "    </tr>\n",
       "    <tr>\n",
       "      <th>2528</th>\n",
       "      <td>this is what falling in love feels like</td>\n",
       "      <td>JVKE</td>\n",
       "      <td>0.424</td>\n",
       "      <td>0.438</td>\n",
       "      <td>11.0</td>\n",
       "      <td>1.0</td>\n",
       "      <td>-5.530</td>\n",
       "      <td>0.0553</td>\n",
       "      <td>0.6170</td>\n",
       "      <td>0.000000</td>\n",
       "      <td>0.0837</td>\n",
       "      <td>0.325</td>\n",
       "      <td>128.983</td>\n",
       "      <td>2.005133</td>\n",
       "      <td>Allegro</td>\n",
       "      <td>True</td>\n",
       "    </tr>\n",
       "    <tr>\n",
       "      <th>2537</th>\n",
       "      <td>u love u (with Tate McRae)</td>\n",
       "      <td>blackbear, Tate McRae</td>\n",
       "      <td>0.544</td>\n",
       "      <td>0.704</td>\n",
       "      <td>4.0</td>\n",
       "      <td>0.0</td>\n",
       "      <td>-5.678</td>\n",
       "      <td>0.0435</td>\n",
       "      <td>0.0156</td>\n",
       "      <td>0.000000</td>\n",
       "      <td>0.1640</td>\n",
       "      <td>0.265</td>\n",
       "      <td>80.029</td>\n",
       "      <td>3.151033</td>\n",
       "      <td>Adagio</td>\n",
       "      <td>True</td>\n",
       "    </tr>\n",
       "    <tr>\n",
       "      <th>2540</th>\n",
       "      <td>we fell in love in october</td>\n",
       "      <td>girl in red</td>\n",
       "      <td>0.566</td>\n",
       "      <td>0.366</td>\n",
       "      <td>7.0</td>\n",
       "      <td>1.0</td>\n",
       "      <td>-12.808</td>\n",
       "      <td>0.0280</td>\n",
       "      <td>0.1130</td>\n",
       "      <td>0.181000</td>\n",
       "      <td>0.1550</td>\n",
       "      <td>0.237</td>\n",
       "      <td>129.959</td>\n",
       "      <td>3.069233</td>\n",
       "      <td>Allegro</td>\n",
       "      <td>True</td>\n",
       "    </tr>\n",
       "  </tbody>\n",
       "</table>\n",
       "<p>71 rows × 16 columns</p>\n",
       "</div>"
      ],
      "text/plain": [
       "                                             track_name  \\\n",
       "6     ...And to Those I Love, Thanks for Sticking Ar...   \n",
       "151                                        Another Love   \n",
       "159                                 Anyone Who Loves Me   \n",
       "344                  California Love - Original Version   \n",
       "459                              Crazy What Love Can Do   \n",
       "...                                                 ...   \n",
       "2488                                              love.   \n",
       "2489                               lovely (with Khalid)   \n",
       "2528            this is what falling in love feels like   \n",
       "2537                         u love u (with Tate McRae)   \n",
       "2540                         we fell in love in october   \n",
       "\n",
       "                                  artist_names  danceability  energy   key  \\\n",
       "6                                  $uicideboy$         0.792   0.511   2.0   \n",
       "151                                  Tom Odell         0.442   0.538   4.0   \n",
       "159                           Charlotte Cardin         0.718   0.165  11.0   \n",
       "344                       2Pac, Roger, Dr. Dre         0.763   0.850   7.0   \n",
       "459   David Guetta, Becky Hill, Ella Henderson         0.601   0.713   4.0   \n",
       "...                                        ...           ...     ...   ...   \n",
       "2488                                  Kid Cudi         0.574   0.736   5.0   \n",
       "2489                     Billie Eilish, Khalid         0.351   0.296   4.0   \n",
       "2528                                      JVKE         0.424   0.438  11.0   \n",
       "2537                     blackbear, Tate McRae         0.544   0.704   4.0   \n",
       "2540                               girl in red         0.566   0.366   7.0   \n",
       "\n",
       "      mode  loudness  speechiness  acousticness  instrumentalness  liveness  \\\n",
       "6      1.0    -6.876       0.0409        0.1240          0.000090    0.1400   \n",
       "151    0.0    -8.550       0.0451        0.7170          0.000029    0.0900   \n",
       "159    1.0    -8.335       0.0354        0.8660          0.000000    0.1420   \n",
       "344    1.0    -3.052       0.0417        0.0304          0.000001    0.3710   \n",
       "459    0.0    -3.758       0.0449        0.0282          0.000000    0.1580   \n",
       "...    ...       ...          ...           ...               ...       ...   \n",
       "2488   1.0    -4.743       0.0465        0.1460          0.000017    0.4070   \n",
       "2489   0.0   -10.109       0.0333        0.9340          0.000000    0.0950   \n",
       "2528   1.0    -5.530       0.0553        0.6170          0.000000    0.0837   \n",
       "2537   0.0    -5.678       0.0435        0.0156          0.000000    0.1640   \n",
       "2540   1.0   -12.808       0.0280        0.1130          0.181000    0.1550   \n",
       "\n",
       "      valence    tempo  duration_min tempo_name has_love  \n",
       "6       0.111  113.983      2.808167   Moderato     True  \n",
       "151     0.139  122.758      4.072667    Allegro     True  \n",
       "159     0.447   82.629      3.942217     Adagio     True  \n",
       "344     0.761   91.519      4.748450     Adante     True  \n",
       "459     0.464  122.872      2.829267    Allegro     True  \n",
       "...       ...      ...           ...        ...      ...  \n",
       "2488    0.344  138.501      5.476217    Allegro     True  \n",
       "2489    0.120  115.284      3.336433   Moderato     True  \n",
       "2528    0.325  128.983      2.005133    Allegro     True  \n",
       "2537    0.265   80.029      3.151033     Adagio     True  \n",
       "2540    0.237  129.959      3.069233    Allegro     True  \n",
       "\n",
       "[71 rows x 16 columns]"
      ]
     },
     "execution_count": 117,
     "metadata": {},
     "output_type": "execute_result"
    }
   ],
   "source": [
    "def check(song):\n",
    "    if(\"love\" in song.lower()):\n",
    "        return \"True\"\n",
    "    elif(\"LOVE\" in song.lower()):\n",
    "        return \"True\"\n",
    "    else:\n",
    "        return \"False\"\n",
    "\n",
    "love_and_not = songs.assign(has_love = songs.get(\"track_name\").apply(check))\n",
    "love_and_not[love_and_not.get(\"has_love\")==\"True\"]"
   ]
  },
  {
   "cell_type": "code",
   "execution_count": 118,
   "id": "10431c66",
   "metadata": {
    "deletable": false,
    "editable": false
   },
   "outputs": [
    {
     "data": {
      "text/html": [
       "<p><strong><pre style='display: inline;'>q4_1</pre></strong> passed! 🎉</p>"
      ],
      "text/plain": [
       "q4_1 results: All test cases passed!"
      ]
     },
     "execution_count": 118,
     "metadata": {},
     "output_type": "execute_result"
    }
   ],
   "source": [
    "grader.check(\"q4_1\")"
   ]
  },
  {
   "cell_type": "markdown",
   "id": "d8f731c2",
   "metadata": {},
   "source": [
    "**Question 4.2.** Let's compare the `'loudness'` of songs whose `'track_name'`s include `'love'` with the songs whose `'track_name'`s don't include `'love'`. Calculate the mean `'loudness'` of all songs containing the word `'love'` and store that in `average_love_song_loudness`. Similarly, calculate the mean `'loudness'` of all songs not containing the word `'love'` and store that in `average_non_love_song_loudness`.\n",
    "\n",
    "_Note_: `'loudness'` is represented as a negative number; smaller numbers correspond to quieter songs."
   ]
  },
  {
   "cell_type": "code",
   "execution_count": 119,
   "id": "b06726d9",
   "metadata": {},
   "outputs": [
    {
     "name": "stdout",
     "output_type": "stream",
     "text": [
      "The average loudness of songs whose titles include \"love\" is -6.49.\n",
      "The average loudness of songs whose titles don't include \"love\" is -6.75.\n"
     ]
    }
   ],
   "source": [
    "average_love_song_loudness = love_and_not[love_and_not.get(\"has_love\") == \"True\"].get(\"loudness\").mean()\n",
    "average_non_love_song_loudness = love_and_not[love_and_not.get(\"has_love\") != \"True\"].get(\"loudness\").mean()\n",
    "\n",
    "print('The average loudness of songs whose titles include \"love\" is ' + str(round(average_love_song_loudness, 2)) + '.')\n",
    "print('The average loudness of songs whose titles don\\'t include \"love\" is ' + str(round(average_non_love_song_loudness, 2)) + '.')"
   ]
  },
  {
   "cell_type": "code",
   "execution_count": 120,
   "id": "042f8ec4",
   "metadata": {
    "deletable": false,
    "editable": false
   },
   "outputs": [
    {
     "data": {
      "text/html": [
       "<p><strong><pre style='display: inline;'>q4_2</pre></strong> passed! 🍀</p>"
      ],
      "text/plain": [
       "q4_2 results: All test cases passed!"
      ]
     },
     "execution_count": 120,
     "metadata": {},
     "output_type": "execute_result"
    }
   ],
   "source": [
    "grader.check(\"q4_2\")"
   ]
  },
  {
   "cell_type": "markdown",
   "id": "5f9fa12f",
   "metadata": {},
   "source": [
    "**Question 4.3.** The audio features listed below are all measured on a 0 to 1 scale.\n",
    "- `'danceability'`\n",
    "- `'energy'`\n",
    "- `'speechiness'`\n",
    "- `'acousticness'`\n",
    "- `'instrumentalness'`\n",
    "- `'liveness'`\n",
    "- `'valence'`\n",
    "\n",
    "Let's try and understand how these features differ between songs with and without `'love'` in the `'track_name'`.\n",
    "\n",
    "Create a DataFrame called `love_means`, indexed by `'has_love'`, that contains the mean value of each of the 7 features above, separately for songs with `'love'` in the `'track_name'` and songs without `'love'` in the `'track_name'`. `love_means` should have 2 rows – one where `'has_love'` is `'False'` and one where `'has_love'` is `'True'` – and 7 columns. \n",
    "\n",
    "For instance, `love_means.get('energy').loc['False']` should be the mean `'energy'` among songs that don't have `'love'` in the `'track_name'`."
   ]
  },
  {
   "cell_type": "code",
   "execution_count": 121,
   "id": "81190f1e",
   "metadata": {
    "scrolled": true
   },
   "outputs": [
    {
     "data": {
      "text/html": [
       "<div>\n",
       "<style scoped>\n",
       "    .dataframe tbody tr th:only-of-type {\n",
       "        vertical-align: middle;\n",
       "    }\n",
       "\n",
       "    .dataframe tbody tr th {\n",
       "        vertical-align: top;\n",
       "    }\n",
       "\n",
       "    .dataframe thead th {\n",
       "        text-align: right;\n",
       "    }\n",
       "</style>\n",
       "<table border=\"1\" class=\"dataframe\">\n",
       "  <thead>\n",
       "    <tr style=\"text-align: right;\">\n",
       "      <th></th>\n",
       "      <th>danceability</th>\n",
       "      <th>energy</th>\n",
       "      <th>speechiness</th>\n",
       "      <th>acousticness</th>\n",
       "      <th>instrumentalness</th>\n",
       "      <th>liveness</th>\n",
       "      <th>valence</th>\n",
       "    </tr>\n",
       "    <tr>\n",
       "      <th>has_love</th>\n",
       "      <th></th>\n",
       "      <th></th>\n",
       "      <th></th>\n",
       "      <th></th>\n",
       "      <th></th>\n",
       "      <th></th>\n",
       "      <th></th>\n",
       "    </tr>\n",
       "  </thead>\n",
       "  <tbody>\n",
       "    <tr>\n",
       "      <th>False</th>\n",
       "      <td>0.669461</td>\n",
       "      <td>0.612243</td>\n",
       "      <td>0.119282</td>\n",
       "      <td>0.266987</td>\n",
       "      <td>0.012123</td>\n",
       "      <td>0.179766</td>\n",
       "      <td>0.522467</td>\n",
       "    </tr>\n",
       "    <tr>\n",
       "      <th>True</th>\n",
       "      <td>0.616239</td>\n",
       "      <td>0.603620</td>\n",
       "      <td>0.070163</td>\n",
       "      <td>0.286026</td>\n",
       "      <td>0.009477</td>\n",
       "      <td>0.161449</td>\n",
       "      <td>0.441172</td>\n",
       "    </tr>\n",
       "  </tbody>\n",
       "</table>\n",
       "</div>"
      ],
      "text/plain": [
       "          danceability    energy  speechiness  acousticness  instrumentalness  \\\n",
       "has_love                                                                        \n",
       "False         0.669461  0.612243     0.119282      0.266987          0.012123   \n",
       "True          0.616239  0.603620     0.070163      0.286026          0.009477   \n",
       "\n",
       "          liveness   valence  \n",
       "has_love                      \n",
       "False     0.179766  0.522467  \n",
       "True      0.161449  0.441172  "
      ]
     },
     "execution_count": 121,
     "metadata": {},
     "output_type": "execute_result"
    }
   ],
   "source": [
    "love_means = love_and_not.drop(columns=[\"key\", \"mode\", \"loudness\", \"tempo\", \"duration_min\", \"tempo_name\"])\n",
    "love_means = love_means.groupby(\"has_love\").mean()\n",
    "love_means"
   ]
  },
  {
   "cell_type": "code",
   "execution_count": 122,
   "id": "271c3e94",
   "metadata": {
    "deletable": false,
    "editable": false
   },
   "outputs": [
    {
     "data": {
      "text/html": [
       "<p><strong><pre style='display: inline;'>q4_3</pre></strong> passed! 🍀</p>"
      ],
      "text/plain": [
       "q4_3 results: All test cases passed!"
      ]
     },
     "execution_count": 122,
     "metadata": {},
     "output_type": "execute_result"
    }
   ],
   "source": [
    "grader.check(\"q4_3\")"
   ]
  },
  {
   "cell_type": "markdown",
   "id": "d2ec2c48",
   "metadata": {},
   "source": [
    "`love_means` has all the information we need. However, for the purposes of creating visualizations, we need to change its format so that the columns become the rows and the rows become the columns. This is called *transposing* the DataFrame, and it's very easy to accomplish in `babypandas` by typing `.T` after the name of a DataFrame. Run the next cell to see what happens when we transpose `love_means`."
   ]
  },
  {
   "cell_type": "code",
   "execution_count": 123,
   "id": "fe1b1b8a",
   "metadata": {},
   "outputs": [
    {
     "data": {
      "text/html": [
       "<div>\n",
       "<style scoped>\n",
       "    .dataframe tbody tr th:only-of-type {\n",
       "        vertical-align: middle;\n",
       "    }\n",
       "\n",
       "    .dataframe tbody tr th {\n",
       "        vertical-align: top;\n",
       "    }\n",
       "\n",
       "    .dataframe thead th {\n",
       "        text-align: right;\n",
       "    }\n",
       "</style>\n",
       "<table border=\"1\" class=\"dataframe\">\n",
       "  <thead>\n",
       "    <tr style=\"text-align: right;\">\n",
       "      <th>has_love</th>\n",
       "      <th>False</th>\n",
       "      <th>True</th>\n",
       "    </tr>\n",
       "  </thead>\n",
       "  <tbody>\n",
       "    <tr>\n",
       "      <th>danceability</th>\n",
       "      <td>0.669461</td>\n",
       "      <td>0.616239</td>\n",
       "    </tr>\n",
       "    <tr>\n",
       "      <th>energy</th>\n",
       "      <td>0.612243</td>\n",
       "      <td>0.603620</td>\n",
       "    </tr>\n",
       "    <tr>\n",
       "      <th>speechiness</th>\n",
       "      <td>0.119282</td>\n",
       "      <td>0.070163</td>\n",
       "    </tr>\n",
       "    <tr>\n",
       "      <th>acousticness</th>\n",
       "      <td>0.266987</td>\n",
       "      <td>0.286026</td>\n",
       "    </tr>\n",
       "    <tr>\n",
       "      <th>instrumentalness</th>\n",
       "      <td>0.012123</td>\n",
       "      <td>0.009477</td>\n",
       "    </tr>\n",
       "    <tr>\n",
       "      <th>liveness</th>\n",
       "      <td>0.179766</td>\n",
       "      <td>0.161449</td>\n",
       "    </tr>\n",
       "    <tr>\n",
       "      <th>valence</th>\n",
       "      <td>0.522467</td>\n",
       "      <td>0.441172</td>\n",
       "    </tr>\n",
       "  </tbody>\n",
       "</table>\n",
       "</div>"
      ],
      "text/plain": [
       "has_love             False      True\n",
       "danceability      0.669461  0.616239\n",
       "energy            0.612243  0.603620\n",
       "speechiness       0.119282  0.070163\n",
       "acousticness      0.266987  0.286026\n",
       "instrumentalness  0.012123  0.009477\n",
       "liveness          0.179766  0.161449\n",
       "valence           0.522467  0.441172"
      ]
     },
     "execution_count": 123,
     "metadata": {},
     "output_type": "execute_result"
    }
   ],
   "source": [
    "transposed_love = love_means.T \n",
    "transposed_love"
   ]
  },
  {
   "cell_type": "markdown",
   "id": "a224317c",
   "metadata": {},
   "source": [
    "`transposed_love` has the same information that `love_means` does, it's just presented differently.\n",
    "\n",
    "**Question 4.4.** Add a column called `'AbsDiff'` to `transposed_love` containing the absolute difference between the `'False'` and `'True'` columns."
   ]
  },
  {
   "cell_type": "code",
   "execution_count": 124,
   "id": "3f61c2cc",
   "metadata": {
    "scrolled": true
   },
   "outputs": [
    {
     "data": {
      "text/html": [
       "<div>\n",
       "<style scoped>\n",
       "    .dataframe tbody tr th:only-of-type {\n",
       "        vertical-align: middle;\n",
       "    }\n",
       "\n",
       "    .dataframe tbody tr th {\n",
       "        vertical-align: top;\n",
       "    }\n",
       "\n",
       "    .dataframe thead th {\n",
       "        text-align: right;\n",
       "    }\n",
       "</style>\n",
       "<table border=\"1\" class=\"dataframe\">\n",
       "  <thead>\n",
       "    <tr style=\"text-align: right;\">\n",
       "      <th>has_love</th>\n",
       "      <th>False</th>\n",
       "      <th>True</th>\n",
       "      <th>ABSDiff</th>\n",
       "    </tr>\n",
       "  </thead>\n",
       "  <tbody>\n",
       "    <tr>\n",
       "      <th>danceability</th>\n",
       "      <td>0.669461</td>\n",
       "      <td>0.616239</td>\n",
       "      <td>0.053222</td>\n",
       "    </tr>\n",
       "    <tr>\n",
       "      <th>energy</th>\n",
       "      <td>0.612243</td>\n",
       "      <td>0.603620</td>\n",
       "      <td>0.008623</td>\n",
       "    </tr>\n",
       "    <tr>\n",
       "      <th>speechiness</th>\n",
       "      <td>0.119282</td>\n",
       "      <td>0.070163</td>\n",
       "      <td>0.049119</td>\n",
       "    </tr>\n",
       "    <tr>\n",
       "      <th>acousticness</th>\n",
       "      <td>0.266987</td>\n",
       "      <td>0.286026</td>\n",
       "      <td>0.019039</td>\n",
       "    </tr>\n",
       "    <tr>\n",
       "      <th>instrumentalness</th>\n",
       "      <td>0.012123</td>\n",
       "      <td>0.009477</td>\n",
       "      <td>0.002645</td>\n",
       "    </tr>\n",
       "    <tr>\n",
       "      <th>liveness</th>\n",
       "      <td>0.179766</td>\n",
       "      <td>0.161449</td>\n",
       "      <td>0.018317</td>\n",
       "    </tr>\n",
       "    <tr>\n",
       "      <th>valence</th>\n",
       "      <td>0.522467</td>\n",
       "      <td>0.441172</td>\n",
       "      <td>0.081295</td>\n",
       "    </tr>\n",
       "  </tbody>\n",
       "</table>\n",
       "</div>"
      ],
      "text/plain": [
       "has_love             False      True   ABSDiff\n",
       "danceability      0.669461  0.616239  0.053222\n",
       "energy            0.612243  0.603620  0.008623\n",
       "speechiness       0.119282  0.070163  0.049119\n",
       "acousticness      0.266987  0.286026  0.019039\n",
       "instrumentalness  0.012123  0.009477  0.002645\n",
       "liveness          0.179766  0.161449  0.018317\n",
       "valence           0.522467  0.441172  0.081295"
      ]
     },
     "execution_count": 124,
     "metadata": {},
     "output_type": "execute_result"
    }
   ],
   "source": [
    "transposed_love = transposed_love.assign(ABSDiff = abs(transposed_love.get(\"False\")- transposed_love.get(\"True\")))\n",
    "transposed_love"
   ]
  },
  {
   "cell_type": "code",
   "execution_count": 125,
   "id": "d543e5b6",
   "metadata": {
    "deletable": false,
    "editable": false
   },
   "outputs": [
    {
     "data": {
      "text/html": [
       "<p><strong><pre style='display: inline;'>q4_4</pre></strong> passed! 💯</p>"
      ],
      "text/plain": [
       "q4_4 results: All test cases passed!"
      ]
     },
     "execution_count": 125,
     "metadata": {},
     "output_type": "execute_result"
    }
   ],
   "source": [
    "grader.check(\"q4_4\")"
   ]
  },
  {
   "cell_type": "markdown",
   "id": "43dd07cf",
   "metadata": {},
   "source": [
    "**Question 4.5.** Using `transposed_love`, create a horizontal bar chart comparing the mean values of each of the 7 audio features for songs with and without `'love'` in the `'track_name'`. Your bar chart should have 14 bars total, 7 for songs with `'love'` and 7 for songs without `'love'`.\n",
    "\n",
    "Use the `'AbsDiff'` column to arrange the bars in the chart such that the audio feature which is most affected by the presence of the word `'love'` appears at the top and the one that's least affected is at the bottom.\n",
    "\n",
    "Title your chart `'Comparison of Songs Containing Love in the Title vs. Not'`."
   ]
  },
  {
   "cell_type": "markdown",
   "id": "1e2cf542",
   "metadata": {
    "deletable": false,
    "editable": false
   },
   "source": [
    "<!-- BEGIN QUESTION -->\n",
    "\n",
    "<!--\n",
    "BEGIN QUESTION\n",
    "name: q4_5\n",
    "manual: true\n",
    "-->"
   ]
  },
  {
   "cell_type": "code",
   "execution_count": 127,
   "id": "c0feede3",
   "metadata": {
    "scrolled": true
   },
   "outputs": [
    {
     "data": {
      "text/plain": [
       "<AxesSubplot: >"
      ]
     },
     "execution_count": 127,
     "metadata": {},
     "output_type": "execute_result"
    },
    {
     "data": {
      "image/png": "[encoded data removed]",
      "text/plain": [
       "<Figure size 640x480 with 1 Axes>"
      ]
     },
     "metadata": {},
     "output_type": "display_data"
    }
   ],
   "source": [
    "# Make your horizontal bar chart here.\n",
    "transposed_love = transposed_love.sort_values(\"ABSDiff\")\n",
    "transposed_love1 = transposed_love.drop(columns=[\"ABSDiff\"])\n",
    "transposed_love1.plot(kind=\"barh\")"
   ]
  },
  {
   "cell_type": "markdown",
   "id": "9dc002d2",
   "metadata": {},
   "source": [
    "<!-- END QUESTION -->\n",
    "\n",
    "\n",
    "\n",
    "**Question 4.6. ⭐️⭐️** Let's generalize this analysis to any word, not just `'love'`. Define a function called `word_analysis` that takes two arguments:\n",
    "- `word`, which can be any word that appears in at least one `'track_name'`. The input word can be capitalized any way; the function should not be case sensitive.\n",
    "- `draw_plot`, which should be a Boolean value corresponding to whether or not a bar chart should be drawn. By setting `draw_plot=False` in the parameter list in the function definition, we make `draw_plot` an optional argument whose default value is `False`. If not `draw_plot` is not specified by the caller of the function, the function will not draw the plot.\n",
    "\n",
    "If `draw_plot` is `True`, this function should produce a horizontal bar chart similar to the one you produced in the last question, except it will group songs based on whether or not their `'track_name'` contains the input word (as opposed to `'love'`). The bars should be ordered in the same way as described in the previous question, and the title of the plot should be of the same format, with just the first letter of the input word capitalized.\n",
    "\n",
    "In all cases, `word_analysis` should return a DataFrame with 7 rows, in any order, representing the 7 audio features, and 3 columns:\n",
    "- The `'False'` column should contain the mean values of all audio features, among songs that do not contain the given word in the `'track_name'`.\n",
    "- The `'True'` column should contain the mean values of all audio features, among songs that do contain the given word in the `'track_name'`.\n",
    "- `'AbsDiff'` should contain the absolute difference between the `'False'` and `'True'` columns.\n",
    "\n",
    "For example, `word_analysis('CaliforNiA', True)` should return the following DataFrame:\n",
    "\n",
    "<table border=\"1\" class=\"dataframe\">\n",
    "  <thead>\n",
    "    <tr style=\"text-align: right;\">\n",
    "      <th>has_word</th>\n",
    "      <th>False</th>\n",
    "      <th>True</th>\n",
    "      <th>AbsDiff</th>\n",
    "    </tr>\n",
    "  </thead>\n",
    "  <tbody>\n",
    "    <tr>\n",
    "      <th>acousticness</th>\n",
    "      <td>0.267513</td>\n",
    "      <td>0.269535</td>\n",
    "      <td>0.002022</td>\n",
    "    </tr>\n",
    "    <tr>\n",
    "      <th>valence</th>\n",
    "      <td>0.520189</td>\n",
    "      <td>0.532000</td>\n",
    "      <td>0.011811</td>\n",
    "    </tr>\n",
    "    <tr>\n",
    "      <th>instrumentalness</th>\n",
    "      <td>0.012068</td>\n",
    "      <td>0.000125</td>\n",
    "      <td>0.011943</td>\n",
    "    </tr>\n",
    "    <tr>\n",
    "      <th>energy</th>\n",
    "      <td>0.612034</td>\n",
    "      <td>0.592500</td>\n",
    "      <td>0.019534</td>\n",
    "    </tr>\n",
    "    <tr>\n",
    "      <th>liveness</th>\n",
    "      <td>0.179226</td>\n",
    "      <td>0.199125</td>\n",
    "      <td>0.019899</td>\n",
    "    </tr>\n",
    "    <tr>\n",
    "      <th>danceability</th>\n",
    "      <td>0.668027</td>\n",
    "      <td>0.638750</td>\n",
    "      <td>0.029277</td>\n",
    "    </tr>\n",
    "    <tr>\n",
    "      <th>speechiness</th>\n",
    "      <td>0.118015</td>\n",
    "      <td>0.055175</td>\n",
    "      <td>0.062840</td>\n",
    "    </tr>\n",
    "  </tbody>\n",
    "</table>\n",
    "\n",
    "and display the following plot:\n",
    "\n",
    "<img src='data/cali-example.png'>\n",
    "\n",
    "\n",
    "*Note*: Your function does not need to work on input words not in the title of some song in `songs`. For example, it's okay if `word_analysis('znvlox')` errors.\n",
    "\n",
    "*Hint*: To make sure that the first letter of the input word is capitalized when setting the title of your plot, use one of the string methods [detailed here](https://docs.python.org/3/library/stdtypes.html#string-methods)."
   ]
  },
  {
   "cell_type": "code",
   "execution_count": 242,
   "id": "c60ffb28",
   "metadata": {
    "scrolled": false
   },
   "outputs": [
    {
     "data": {
      "image/png": "[encoded data removed]",
      "text/plain": [
       "<Figure size 640x480 with 1 Axes>"
      ]
     },
     "metadata": {},
     "output_type": "display_data"
    }
   ],
   "source": [
    "from ctypes import sizeof\n",
    "\n",
    "\n",
    "def word_analysis(word, draw_plot=False):\n",
    "    word = word.lower()\n",
    "    trueArray = np.array(songs[songs.get(\"track_name\").str.lower().str.contains(word)].index)\n",
    "    true = []\n",
    "\n",
    "    for i in range(0,songs.shape[0]):\n",
    "        true.append(\"False\")\n",
    "    \n",
    "    for i in trueArray:\n",
    "        true[i] = \"True\"\n",
    "\n",
    "    songs1 = songs.assign(has_word = true)\n",
    "    \n",
    "\n",
    "    songs1 = songs1.drop(columns=[\"key\", \"mode\", \"loudness\", \"tempo\", \"duration_min\", \"tempo_name\"])\n",
    "    songs1 = songs1.groupby(\"has_word\").mean()\n",
    "\n",
    "    songs1 = songs1.T \n",
    "\n",
    "    songs1 = songs1.assign(ABSDiff = abs(songs1.get(\"False\")- songs1.get(\"True\")))\n",
    "        \n",
    "    if(draw_plot == True):\n",
    "        songs1 = songs1.sort_values(\"ABSDiff\")\n",
    "        songs1 = songs1.drop(columns=[\"ABSDiff\"])\n",
    "        songs1.plot(kind=\"barh\")\n",
    "    else:\n",
    "        return songs1\n",
    "\n",
    "\n",
    "# Test out your function. Feel free to change these inputs.\n",
    "word_analysis(\"hurt\", True) "
   ]
  },
  {
   "cell_type": "code",
   "execution_count": 240,
   "id": "2a0996ae",
   "metadata": {
    "deletable": false,
    "editable": false
   },
   "outputs": [
    {
     "data": {
      "text/html": [
       "<p><strong><pre style='display: inline;'>q4_6</pre></strong> passed! 🎉</p>"
      ],
      "text/plain": [
       "q4_6 results: All test cases passed!"
      ]
     },
     "execution_count": 240,
     "metadata": {},
     "output_type": "execute_result"
    }
   ],
   "source": [
    "grader.check(\"q4_6\")"
   ]
  },
  {
   "cell_type": "markdown",
   "id": "b9a5a1d1",
   "metadata": {
    "deletable": false,
    "editable": false
   },
   "source": [
    "<!-- BEGIN QUESTION -->\n",
    "\n",
    "Make sure to run the cell below before submitting. **Do not edit or delete it**.\n",
    "\n",
    "<!--\n",
    "BEGIN QUESTION\n",
    "name: q4_6_manual\n",
    "points: 1\n",
    "manual: true\n",
    "-->"
   ]
  },
  {
   "cell_type": "code",
   "execution_count": 241,
   "id": "766630d4",
   "metadata": {
    "deletable": false,
    "editable": false
   },
   "outputs": [
    {
     "data": {
      "image/png": "[encoded data removed]",
      "text/plain": [
       "<Figure size 640x480 with 1 Axes>"
      ]
     },
     "metadata": {},
     "output_type": "display_data"
    }
   ],
   "source": [
    "word_analysis('huRt', True)"
   ]
  },
  {
   "cell_type": "markdown",
   "id": "a3bd2d3e",
   "metadata": {},
   "source": [
    "<!-- END QUESTION -->\n",
    "\n",
    "\n",
    "\n",
    "Let's define the *polarity* of a word as the total absolute difference between the `'True'` and `'False'` columns, across all 7 audio features. If a word has high polarity, it means songs containing that word in the `'track_name'` are very musically different from songs without that word in the `'track_name'`. If a word has low polarity, it means songs containing that word and not containing that word in the `'track_name'` are musically similar.\n",
    "\n",
    "**Question 4.7.** Define a function `polarity` that takes one input, a string representing a word that that appears in at least one `'track_name'` in `songs`, and returns the polarity of that word."
   ]
  },
  {
   "cell_type": "code",
   "execution_count": 250,
   "id": "d63c6721",
   "metadata": {},
   "outputs": [
    {
     "data": {
      "text/plain": [
       "0.5100413712521734"
      ]
     },
     "execution_count": 250,
     "metadata": {},
     "output_type": "execute_result"
    }
   ],
   "source": [
    "def polarity(word):\n",
    "    pole = word_analysis(word, False)\n",
    "    return pole.sum().get(\"ABSDiff\")\n",
    "\n",
    "# Test out your function. Feel free to change the input.\n",
    "polarity('hate')"
   ]
  },
  {
   "cell_type": "code",
   "execution_count": 251,
   "id": "f8bb1ac2",
   "metadata": {
    "deletable": false,
    "editable": false
   },
   "outputs": [
    {
     "data": {
      "text/html": [
       "<p><strong><pre style='display: inline;'>q4_7</pre></strong> passed! 🌟</p>"
      ],
      "text/plain": [
       "q4_7 results: All test cases passed!"
      ]
     },
     "execution_count": 251,
     "metadata": {},
     "output_type": "execute_result"
    }
   ],
   "source": [
    "grader.check(\"q4_7\")"
   ]
  },
  {
   "cell_type": "markdown",
   "id": "f1f1dcef",
   "metadata": {},
   "source": [
    "On its own, the polarity of a single word doesn't tell us much. Instead, we need to look at the polarities of several words and compare them, to see which words are more polarizing than others.\n",
    "\n",
    "Run the cell below to load in an array of words."
   ]
  },
  {
   "cell_type": "code",
   "execution_count": 254,
   "id": "e2cd60ea",
   "metadata": {},
   "outputs": [],
   "source": [
    "polarity_words = np.array(['love', 'hate', 'miracle', 'dead', 'feel', 'hold', 'about', 'and', 'christmas',\n",
    "                           'you', 'wonder', 'hello', 'work', 'hurt', 'where', 'quiero', 'shake', 'was'])"
   ]
  },
  {
   "cell_type": "markdown",
   "id": "3e123a2e",
   "metadata": {},
   "source": [
    "**Question 4.8.** Create an array called `polarity_words_ranked` containing the same words as `polarity_words` but ordered in descending order of polarity."
   ]
  },
  {
   "cell_type": "code",
   "execution_count": 263,
   "id": "0b2f5da8",
   "metadata": {},
   "outputs": [
    {
     "data": {
      "text/plain": [
       "array(['0.2322598', '0.5100413', '1.0806437', '0.4356702', '0.3141467',\n",
       "       '0.3792832', '0.3893369', '0.0817088', '0.5722064', '0.1629684',\n",
       "       '0.6980512', '0.3076285', '0.6401551', '0.9660893', '0.3882395',\n",
       "       '1.5730027', '1.2809147', 'was'], dtype='<U9')"
      ]
     },
     "execution_count": 263,
     "metadata": {},
     "output_type": "execute_result"
    }
   ],
   "source": [
    "for i in range(0,polarity_words.size-1):\n",
    "    polarity_words[i] = polarity(polarity_words[i])\n",
    "polarity_words_ranked = polarity_words\n",
    "polarity_words_ranked# = polarity_words_ranked.assign(polarity = polarity_words_ranked.get(\"ranking\").apply(polarity))\n",
    "polarity_words_ranked"
   ]
  },
  {
   "cell_type": "code",
   "execution_count": 264,
   "id": "a805183f",
   "metadata": {
    "deletable": false,
    "editable": false
   },
   "outputs": [
    {
     "data": {
      "text/html": [
       "<p><strong><pre style='display: inline;'>q4_8</pre></strong> passed! 💯</p>"
      ],
      "text/plain": [
       "q4_8 results: All test cases passed!"
      ]
     },
     "execution_count": 264,
     "metadata": {},
     "output_type": "execute_result"
    }
   ],
   "source": [
    "grader.check(\"q4_8\")"
   ]
  },
  {
   "cell_type": "markdown",
   "id": "f57c64c7",
   "metadata": {},
   "source": [
    "You may notice that very common words, like `'and'` and `'was'`, aren't very polarizing. See if you can come up with other words that are either very polarizing or very \"neutral,\" relative to the words in the array above.\n",
    "\n",
    "Before we conclude this section, let's stop and notice something we did inadvertently. It turns out we can use some of the analysis we've done here to see how individual songs compare to the rest of the songs in the dataset. For example, let's see how `'The Weeknd'`'s song `'A Tale By Quincy'` stacks up against the rest of the songs in the weekly top 200. Our `word_analysis` function should work even if we pass in phrases, so we can use it to compare songs with `'A Tale By Quincy'` in the title to songs without that string in the title. As you might expect, the only song in the dataset with `'A Tale By Quincy'` as part of the title is `'A Tale By Quincy'` itself. "
   ]
  },
  {
   "cell_type": "code",
   "execution_count": 265,
   "id": "a0d0df5b",
   "metadata": {},
   "outputs": [
    {
     "data": {
      "image/png": "[encoded data removed]",
      "text/plain": [
       "<Figure size 640x480 with 1 Axes>"
      ]
     },
     "metadata": {},
     "output_type": "display_data"
    }
   ],
   "source": [
    "word_analysis('A Tale By Quincy', True)"
   ]
  },
  {
   "cell_type": "markdown",
   "id": "957667c5",
   "metadata": {},
   "source": [
    "The resulting analysis shows, for example, that `'A Tale By Quincy'` is much more acoustic than a typical song on the weekly top 200. Run the cell below to listen for yourself and see if you agree."
   ]
  },
  {
   "cell_type": "code",
   "execution_count": 266,
   "id": "06859a85",
   "metadata": {},
   "outputs": [
    {
     "data": {
      "text/html": [
       "\n",
       "        <iframe\n",
       "            width=\"400\"\n",
       "            height=\"75\"\n",
       "            src=\"https://open.spotify.com/embed/track/759ndr57jb0URg4j9YSWml\"\n",
       "            frameborder=\"0\"\n",
       "            allowfullscreen\n",
       "            \n",
       "        ></iframe>\n",
       "        "
      ],
      "text/plain": [
       "<IPython.lib.display.IFrame at 0x7fbb8377b3a0>"
      ]
     },
     "metadata": {},
     "output_type": "display_data"
    }
   ],
   "source": [
    "play_spotify('spotify:track:759ndr57jb0URg4j9YSWml')"
   ]
  },
  {
   "cell_type": "markdown",
   "id": "909e48ab",
   "metadata": {},
   "source": [
    "Of course, we wouldn't be able to isolate specific songs by name like this if multiple artists have a song by the same name, or if the full song title is included in other song titles. But for most songs, this does work! Try it out on one of your favorite songs below to see what makes that song so special."
   ]
  },
  {
   "cell_type": "code",
   "execution_count": 267,
   "id": "aaf72775",
   "metadata": {},
   "outputs": [
    {
     "data": {
      "image/png": "[encoded data removed]",
      "text/plain": [
       "<Figure size 640x480 with 1 Axes>"
      ]
     },
     "metadata": {},
     "output_type": "display_data"
    }
   ],
   "source": [
    "word_analysis('Heat Waves', True)"
   ]
  },
  {
   "cell_type": "markdown",
   "id": "6073b23d",
   "metadata": {},
   "source": [
    "<a id='section5'></a>\n",
    "## Section 5: The Test of Time ⌛️\n",
    "\n",
    "<small>(<a href=\"#outline\">return to the outline</a>)</small>"
   ]
  },
  {
   "cell_type": "markdown",
   "id": "b87046c9",
   "metadata": {},
   "source": [
    "In the last three sections, we've worked with the audio features of songs. We haven't yet used any of the date information we have available – that is, we haven't looked at the `'week'` or `'release_date'` columns in `charts`.  In this section, we'll switch our attention to these columns, to study how the \"age\" of top songs in `charts` has changed over time.\n",
    "\n",
    "Run the cell below to load in the `charts` DataFrame again. "
   ]
  },
  {
   "cell_type": "code",
   "execution_count": null,
   "id": "93c6a01c",
   "metadata": {},
   "outputs": [],
   "source": [
    "charts = bpd.read_csv('data/weekly_charts.csv')\n",
    "charts"
   ]
  },
  {
   "cell_type": "markdown",
   "id": "0b27cbbb",
   "metadata": {},
   "source": [
    "From the DataFrame preview, it looks like `'week'` and `'release_date'` are given as strings in `'YYYY-MM-DD'` format. Unfortunately, some tracks have an incomplete `'release_date'`, in the form `'YYYY'` or `'YYYY-MM'`. \n",
    "\n",
    "**Question 5.1.** What proportion of the rows of `charts` have a `'release_date'` of the form `'YYYY'`, with just a year? Save your result as `year_only`. Similarly, what proportion of the rows of `charts` have a `'release_date'` of the form `'YYYY-MM'`, with just a year and month? Save your result as `year_month_only`."
   ]
  },
  {
   "cell_type": "code",
   "execution_count": null,
   "id": "d2b0d806",
   "metadata": {},
   "outputs": [],
   "source": [
    "year_only = ...\n",
    "year_month_only = ...\n",
    "\n",
    "print(\"The proportion of songs in `charts` that have a release_date in the form 'YYYY' is \" + str(round(year_only, 7)) + \".\")\n",
    "print(\"The proportion of songs in `charts` that have a release_date in the form 'YYYY-MM' is \" + str(round(year_month_only, 7)) + \".\")"
   ]
  },
  {
   "cell_type": "code",
   "execution_count": null,
   "id": "c9e2d947",
   "metadata": {
    "deletable": false,
    "editable": false
   },
   "outputs": [],
   "source": [
    "grader.check(\"q5_1\")"
   ]
  },
  {
   "cell_type": "markdown",
   "id": "c366541b",
   "metadata": {},
   "source": [
    "For consistency, let's input the missing months and days where necessary, so that all dates in `charts` will be in the same format. We don't actually know when these songs were released, so we'll just choose to handle the missing months and days by replacing them with `'01'`. That is, if a song has just a year listed for its `'release_date'`, we'll assume it was released on January 1st of that year. Similarly, if a song has just a year and month listed, we'll assume it was released on the first of that month.\n",
    "\n",
    "**Question 5.2.** Replace the missing months and days in the `'release_date'` column of `charts` with `'01'` as described."
   ]
  },
  {
   "cell_type": "code",
   "execution_count": null,
   "id": "72c50f61",
   "metadata": {},
   "outputs": [],
   "source": [
    "charts = ...\n",
    "charts    "
   ]
  },
  {
   "cell_type": "code",
   "execution_count": null,
   "id": "2ec0973c",
   "metadata": {
    "deletable": false,
    "editable": false
   },
   "outputs": [],
   "source": [
    "grader.check(\"q5_2\")"
   ]
  },
  {
   "cell_type": "markdown",
   "id": "7d44958c",
   "metadata": {},
   "source": [
    "**Question 5.3.** Find the song in `charts` with the earliest `'release_date'`. Save the name of this song to `oldest_song` and save the `'artist_names'` associated with this song to `oldest_song_artists`.\n",
    "\n",
    "This song has stood the test of time – you'll see why!"
   ]
  },
  {
   "cell_type": "code",
   "execution_count": null,
   "id": "4bc6d912",
   "metadata": {},
   "outputs": [],
   "source": [
    "oldest_song = ...\n",
    "oldest_song_artists = ...\n",
    "\n",
    "print('The oldest song in `charts` is ' + oldest_song + ' by ' + oldest_song_artists)"
   ]
  },
  {
   "cell_type": "code",
   "execution_count": null,
   "id": "96ec0a9a",
   "metadata": {
    "deletable": false,
    "editable": false
   },
   "outputs": [],
   "source": [
    "grader.check(\"q5_3\")"
   ]
  },
  {
   "cell_type": "markdown",
   "id": "700b5153",
   "metadata": {},
   "source": [
    "Let’s try to calculate the time between when this song was first released and when this song was in the weekly top 200 most recently. To tackle this problem and others like it, we'll write a general function to calculate the time between any two dates.\n",
    "\n",
    "**Question 5.4. ⭐️⭐️** Complete the implementation of the function `weeks_between`, which takes in two dates as lists in the form `[year, month, day]` and returns the number of **full weeks** between the two dates. You may assume the second date comes after the first.\n",
    "\n",
    "Here, we'll define a full week as 7 days. For example, if there are 200 days between two dates, we'd say there are 28 *full* weeks between the two dates, since $\\frac{200}{7} = 28.571$. \n",
    "\n",
    "Example behavior is given below.\n",
    "\n",
    "```py\n",
    "# There are 11 days between March 14th, 2022 and March 25th, 2022.\n",
    "# This corresponds to 1 full week.\n",
    ">>> weeks_between([2022, 3, 14], [2022, 3, 25])\n",
    "1\n",
    "\n",
    "# There are 805 days between November 26th, 1998 and February 9th, 2001, not counting leap year days.\n",
    "# This corresponds to 115 full weeks.\n",
    ">>> weeks_between([1998, 11, 26], [2001, 2, 9])\n",
    "115\n",
    "```\n",
    "\n",
    "To help you, we've provided a function called `days_between` and a [video walkthrough of how it works](https://www.youtube.com/watch?v=6HOAk0GAqKU). Make sure you understand what this function does and how it works, because you'll want to make use of it inside `weeks_between`.\n",
    "\n",
    "_Note_: **Don't factor in leap years** for the purposes of this question. We'll assume that every year has 365 days."
   ]
  },
  {
   "cell_type": "code",
   "execution_count": null,
   "id": "38229c71",
   "metadata": {},
   "outputs": [],
   "source": [
    "# Run this cell to view the walkthrough video.\n",
    "YouTubeVideo('6HOAk0GAqKU')"
   ]
  },
  {
   "cell_type": "code",
   "execution_count": null,
   "id": "c09b73eb",
   "metadata": {},
   "outputs": [],
   "source": [
    "# This function is provided. Watch the walkthrough video to understand what it does and how it works.\n",
    "def days_between(month1, day1, month2, day2):\n",
    "    \n",
    "    # days_per_month[1] is the number of days in January, days_per_month[8] is the number of days in August, etc.\n",
    "    days_per_month = np.array([0, 31, 28, 31, 30, 31, 30, 31, 31, 30, 31, 30, 31])\n",
    "    \n",
    "    # Case where both months are the same.\n",
    "    if month1 == month2:\n",
    "        return day2 - day1\n",
    "    \n",
    "    else:\n",
    "        total_days = 0\n",
    "        \n",
    "        # First, figure out the number of days left in month1.\n",
    "        total_days = total_days + days_per_month[month1] - day1\n",
    "        \n",
    "        # Then, add the number of days in the full months between month1 and month2.\n",
    "        for full_month in np.arange(month1 + 1, month2):\n",
    "            total_days = total_days + days_per_month[full_month]\n",
    "            \n",
    "        # Then, add the number of days so far in month2.\n",
    "        total_days = total_days + day2\n",
    "        \n",
    "        return total_days"
   ]
  },
  {
   "cell_type": "markdown",
   "id": "4dcf2a3b",
   "metadata": {
    "deletable": false,
    "editable": false
   },
   "source": [
    "We've already provided an outline for what you need to do in `weeks_between`; your job is to fill in the missing pieces.\n",
    "\n",
    "<!--\n",
    "BEGIN QUESTION\n",
    "name: q5_4\n",
    "points: 2\n",
    "-->"
   ]
  },
  {
   "cell_type": "code",
   "execution_count": null,
   "id": "be315cec",
   "metadata": {},
   "outputs": [],
   "source": [
    "def weeks_between(date1, date2):\n",
    "    # Store the year, day, and month for each date separately as ints.\n",
    "    year1 = date1[0]\n",
    "    month1 = date1[1]\n",
    "    day1 = date1[2]\n",
    "    year2 = date2[0]\n",
    "    month2 = date2[1]\n",
    "    day2 = date2[2]\n",
    "    \n",
    "    # Main idea: Find the total number of days between the two dates, then divide that by 7 and round down.\n",
    "    total_days = 0\n",
    "    \n",
    "    # Case 1: The dates are in the same year. \n",
    "    if year1 == year2:\n",
    "        # Calculate the number of days between them.\n",
    "        total_days = ...\n",
    "        \n",
    "    # Case 2: The dates are in different years.\n",
    "    else:\n",
    "        # Add 365 for each FULL year between the dates.\n",
    "        total_days = ...\n",
    "\n",
    "        # Add the number of days between date1 and the end of year1.\n",
    "        total_days = ...\n",
    "\n",
    "        # Add the number of days between the start of year2 and date2.\n",
    "        total_days = ...\n",
    "\n",
    "        # Add the number of days between December 31st and January 1st (1).\n",
    "        total_days = total_days + 1\n",
    "        \n",
    "    # Convert to weeks and round down\n",
    "    return int(total_days / 7)"
   ]
  },
  {
   "cell_type": "code",
   "execution_count": null,
   "id": "903df358",
   "metadata": {
    "deletable": false,
    "editable": false
   },
   "outputs": [],
   "source": [
    "grader.check(\"q5_4\")"
   ]
  },
  {
   "cell_type": "markdown",
   "id": "debe38b8",
   "metadata": {},
   "source": [
    "Now that we have a function that can compute the number of weeks between any two dates, we can calculate the time between when `oldest_song` was first released and when it was in the weekly top 200 most recently.\n",
    "\n",
    "Unfortunately, the dates in the `'release_date'` and `'week'` columns of `charts` are not lists in the form `[year, month, day]`, but are strings of the form `'YYYY-MM-DD'`. They need to be transformed before they can be used as input to `weeks_between`.  \n",
    "\n",
    "We've done that work for you in the `convert_date_to_list` function below. It converts an input `date_str` of the form `'1998-11-26'` to a list of the form `[1998, 11, 26]`. Step by step, here's what it does:\n",
    "\n",
    "1. Splits `date_str` by `'-'`. \n",
    "    - This takes `'1998-11-26'` and turns it into the list of strings `['1998', '11', '26']`.\n",
    "    \n",
    "2. Converts the list of strings into an array, and converts the data type of each element to an `int`. \n",
    "    - This takes `['1998', '11', '26']` and turns it into `np.array([1998, 11, 26])`.\n",
    "    \n",
    "3. Converts the array to a list and returns it.\n",
    "    - The function returns the list `[1998, 11, 26]`."
   ]
  },
  {
   "cell_type": "code",
   "execution_count": null,
   "id": "d8d7a0eb",
   "metadata": {},
   "outputs": [],
   "source": [
    "def convert_date_to_list(date_str):\n",
    "    return list(np.array(date_str.split('-')).astype(int))\n",
    "\n",
    "convert_date_to_list('1998-11-26')"
   ]
  },
  {
   "cell_type": "markdown",
   "id": "a559e7bf",
   "metadata": {},
   "source": [
    "**Question 5.5.** Calculate the time between the following two dates, in weeks: \n",
    "1. The release date of `oldest_song` by `oldest_song_artists`.\n",
    "2. The most recent time in our dataset that `oldest_song` by `oldest_song_artists` was in the weekly top 200. \n",
    "\n",
    "Store the result in `weeks_since_release`. \n",
    "\n",
    "*Hint*: It's a good idea to check if your answer makes sense given the `'release_date'` of `oldest_song`."
   ]
  },
  {
   "cell_type": "code",
   "execution_count": null,
   "id": "9b6ee24f",
   "metadata": {},
   "outputs": [],
   "source": [
    "weeks_since_release = ...\n",
    "weeks_since_release"
   ]
  },
  {
   "cell_type": "code",
   "execution_count": null,
   "id": "77d28fce",
   "metadata": {
    "deletable": false,
    "editable": false
   },
   "outputs": [],
   "source": [
    "grader.check(\"q5_5\")"
   ]
  },
  {
   "cell_type": "markdown",
   "id": "1c4b4b54",
   "metadata": {},
   "source": [
    "Since `weeks_between` is general enough to compute the number of weeks between any two dates, let's use it on the full `'release_date'` and `'week'` columns of `charts`, so that we can see how old each song was every time it was in the weekly top 200.\n",
    "\n",
    "Unfortunately, the `.apply` method [as we learned it in class](https://dsc10.com/resources/lectures/lec09/lec09.html#.apply)  is a **Series** method, and it only works with functions of one argument. Here, `weeks_between` takes two arguments – specifically, two lists.\n",
    "\n",
    "It turns out there's another version of `.apply` that works for **DataFrames**, and it works with functions of multiple arguments. Today is really your lucky day - we have implemented all the necessary code below!\n",
    "\n",
    "The function `weeks_between_wrapper` takes in a single row of a DataFrame, and calls `'weeks_between'` on the `'release_date'` and `'week'` entries of the row. We haven't worked too much with rows of DataFrames, so you don't need to understand how this code works."
   ]
  },
  {
   "cell_type": "code",
   "execution_count": null,
   "id": "c5906d5d",
   "metadata": {},
   "outputs": [],
   "source": [
    "def weeks_between_wrapper(row):\n",
    "    \n",
    "    release_date = row.get('release_date')\n",
    "    current_week = row.get('week')\n",
    "    \n",
    "    date1 = convert_date_to_list(release_date)\n",
    "    date2 = convert_date_to_list(current_week)\n",
    "    \n",
    "    return weeks_between(date1, date2)"
   ]
  },
  {
   "cell_type": "markdown",
   "id": "53c1e3dd",
   "metadata": {},
   "source": [
    "Now, we'll use `.apply` with the `weeks_between_wrapper` function to determine how old each song on the charts was, at each time it was on the charts! The `axis=1` keyword argument in the line below is telling Python to use `weeks_between_wrapper` on each **row** of `charts`."
   ]
  },
  {
   "cell_type": "code",
   "execution_count": null,
   "id": "3c63d9ea",
   "metadata": {},
   "outputs": [],
   "source": [
    "weeks_old = charts.apply(weeks_between_wrapper, axis=1)\n",
    "weeks_old"
   ]
  },
  {
   "cell_type": "markdown",
   "id": "14432aef",
   "metadata": {},
   "source": [
    "Let's assign this Series back to the `charts` DataFrame. We'll call the resulting DataFrame `charts_with_ages`."
   ]
  },
  {
   "cell_type": "code",
   "execution_count": null,
   "id": "617cd70f",
   "metadata": {},
   "outputs": [],
   "source": [
    "charts_with_ages = charts.assign(weeks_old=weeks_old)\n",
    "charts_with_ages"
   ]
  },
  {
   "cell_type": "markdown",
   "id": "b63346b9",
   "metadata": {},
   "source": [
    "**Question 5.6.** Create a DataFrame named `top_us`, with one row for each week of data collection, indexed and sorted by `'week'`. The `top_us` DataFrame should have columns called `'track_name'`, `'artist_names'`, and `'release_date'`, containing the relevant information for the **top-ranked (number 1) song each week in the United States**, along with a column called `'weeks_old'` that contains the **age of the song in weeks at that time**.\n",
    "\n",
    "For instance, the song  `'drivers license'` by `'Olivia Rodrigo'` was the top song in the US for the first two weeks of data collection, `'2021-02-04'` and `'2021-02-11'`, so this song should appear in the first two rows of `top_us`. The only difference between the first two rows, other than their indexes, is their values in the `'weeks_old'` column. Since `'drivers license'` was 3 weeks old on `'2021-02-04'` and 4 weeks old on `'2021-02-11'`, `top_us.get('weeks_old').iloc[0]` should be 3 and `top_us.get('weeks_old').iloc[1]` should be 4."
   ]
  },
  {
   "cell_type": "code",
   "execution_count": null,
   "id": "dd5335fa",
   "metadata": {},
   "outputs": [],
   "source": [
    "top_us = ...\n",
    "top_us"
   ]
  },
  {
   "cell_type": "code",
   "execution_count": null,
   "id": "185f74ef",
   "metadata": {
    "deletable": false,
    "editable": false
   },
   "outputs": [],
   "source": [
    "grader.check(\"q5_6\")"
   ]
  },
  {
   "cell_type": "markdown",
   "id": "7c427ec4",
   "metadata": {},
   "source": [
    "Let's try to visualize the age of the number 1 song on the US charts each week. However, before we start plotting, there's something we should take into consideration: look at the values in the `'weeks_old'` column in the preview above. Some are relatively small, like 3 or 4, but some are really large, like 1957! Let's see what happens when we plot such a wide range of values together on the same axes.\n",
    "\n",
    "**Question 5.7.** Make a line plot that shows the age of the top song on the US charts over time, throughout the period of data collection. Use the argument `figsize=(10, 5)` so you can read the horizontal axis."
   ]
  },
  {
   "cell_type": "markdown",
   "id": "bace4a73",
   "metadata": {
    "deletable": false,
    "editable": false
   },
   "source": [
    "<!-- BEGIN QUESTION -->\n",
    "\n",
    "<!--\n",
    "BEGIN QUESTION\n",
    "name: q5_7\n",
    "manual: true\n",
    "-->"
   ]
  },
  {
   "cell_type": "code",
   "execution_count": null,
   "id": "c8b216f3",
   "metadata": {},
   "outputs": [],
   "source": [
    "# Make your line plot here."
   ]
  },
  {
   "cell_type": "markdown",
   "id": "64df316b",
   "metadata": {},
   "source": [
    "<!-- END QUESTION -->\n",
    "\n",
    "\n",
    "\n",
    "Since some songs are thousands of weeks old, plotting all the data together makes it hard to tell what the trends are for newer songs. To better see what's going on near 0 on the y-axis, we'll \"clip\", or chop off, the y-axis so that the oldest songs appear to only be 26 weeks (half a year) old.\n",
    "\n",
    "We've done this for you. The plot we created is interactive, meaning that you can hover over any point on the line to see various pieces of information for each song. Try hovering over the line plot produced to see which songs were at the top of the charts each week, and how old they were when they got usurped by the next best thing.\n",
    "\n",
    "<center><h3><a href=\"https://dsc-courses.github.io/dsc10-2022-fa/resources/midterm_project/q5-age-number-1.html\">Access the plot by clicking here.</a></h3></center>"
   ]
  },
  {
   "cell_type": "markdown",
   "id": "57a7f972",
   "metadata": {},
   "source": [
    "To test your understanding, see if you can answer these questions from the interactive plot:\n",
    " 1. Why does the line plot shows a bunch of diagonal line segments? \n",
    " 2. Why do some diagonal line segments start at the horizontal axis, and others don't?\n",
    " 3. Why does the line plot you made in Question 5.7 have three large spikes, while this one has four?\n",
    " 4. How many different #1 songs were over 26 weeks old? Why did these songs become super popular? (You may have to do some research.)\n",
    "\n",
    "You don't have to turn in your answers to the questions above, but you should figure out how to answer them."
   ]
  },
  {
   "cell_type": "markdown",
   "id": "5ef244b1",
   "metadata": {},
   "source": [
    "<a id='section6'></a>\n",
    "\n",
    "## Section 6: Party in the USA 💃\n",
    "\n",
    "<small>(<a href=\"#outline\">return to the outline</a>)</small>"
   ]
  },
  {
   "cell_type": "markdown",
   "id": "a1f409af",
   "metadata": {},
   "source": [
    "We concluded Section 5 by looking at the age of the #1 song each week in the US. Let's continue our analysis of the songs that became extremely popular in the US.\n",
    "\n",
    "Define a **US megahit** to be a song that has met all of the following criteria **in the US**:\n",
    "- Has been at position 1 or 2 in the top 200 at some point.\n",
    "- Spent at least 20 weeks in the top 200.\n",
    "- Had a streak of at least 5 consecutive weeks of being in the top 10.\n",
    "\n",
    "In this section, we'll work towards determining which songs fit this criteria, and in the next (and final!) section, we'll see how these songs stand apart from the rest musically.\n",
    "\n",
    "**Question 6.1.** To start, create a DataFrame called `us_charts` with only one row for each week and each rank. That is, remove duplicate entries for songs with multiple artists. Keep only the `'track_name'`, `'artist_names'`, `'rank'`, and `'week'` columns, in that order.\n",
    "\n",
    "Arrange the rows chronologically by week, and within each week, in ascending order of rank. Don't forget that we're only using data from the US.\n",
    "\n",
    "*Hint*: `us_charts` should have a multiple of 200 rows, since there are 200 songs on the top 200 each week."
   ]
  },
  {
   "cell_type": "code",
   "execution_count": null,
   "id": "39a9cbfd",
   "metadata": {},
   "outputs": [],
   "source": [
    "us_charts = ...\n",
    "us_charts"
   ]
  },
  {
   "cell_type": "code",
   "execution_count": null,
   "id": "a87768c4",
   "metadata": {
    "deletable": false,
    "editable": false
   },
   "outputs": [],
   "source": [
    "grader.check(\"q6_1\")"
   ]
  },
  {
   "cell_type": "markdown",
   "id": "734361c0",
   "metadata": {},
   "source": [
    "**Question 6.2.** How many distinct weeks was data collected for? Store your answer as an `int` in the variable `num_weeks`."
   ]
  },
  {
   "cell_type": "code",
   "execution_count": null,
   "id": "fe602c70",
   "metadata": {},
   "outputs": [],
   "source": [
    "num_weeks = ...\n",
    "num_weeks"
   ]
  },
  {
   "cell_type": "code",
   "execution_count": null,
   "id": "ee850fc4",
   "metadata": {
    "deletable": false,
    "editable": false
   },
   "outputs": [],
   "source": [
    "grader.check(\"q6_2\")"
   ]
  },
  {
   "cell_type": "markdown",
   "id": "daacc414",
   "metadata": {},
   "source": [
    "**Question 6.3.** Rather than have the week listed as a date, we'd like to simply record it as a week number, between 1 and `num_weeks` (inclusive). For instance, since `'2021-02-18'` is the third week for which we have charts data, it is week number 3. \n",
    "\n",
    "Add a column called `'week_num'` to `us_charts` that contains the week number for each week.\n",
    "\n",
    "*Hint*: With the functions [`np.repeat`](https://numpy.org/doc/stable/reference/generated/numpy.repeat.html) and `np.arange`, you can do this in one line of code."
   ]
  },
  {
   "cell_type": "code",
   "execution_count": null,
   "id": "06e12393",
   "metadata": {},
   "outputs": [],
   "source": [
    "us_charts = ...\n",
    "us_charts"
   ]
  },
  {
   "cell_type": "code",
   "execution_count": null,
   "id": "eac854a5",
   "metadata": {
    "deletable": false,
    "editable": false
   },
   "outputs": [],
   "source": [
    "grader.check(\"q6_3\")"
   ]
  },
  {
   "cell_type": "markdown",
   "id": "0ed94a7d",
   "metadata": {},
   "source": [
    "**Question 6.4.** Our first criteria for a US megahit was that the song has been at position 1 or 2 in the top 200 in the United States at some point. Create an array of the `'track_name'`s of all such songs, without duplicates, and save it as `been_top_two`."
   ]
  },
  {
   "cell_type": "code",
   "execution_count": null,
   "id": "c931a08b",
   "metadata": {},
   "outputs": [],
   "source": [
    "been_top_two = ...\n",
    "been_top_two"
   ]
  },
  {
   "cell_type": "code",
   "execution_count": null,
   "id": "4e4055a5",
   "metadata": {
    "deletable": false,
    "editable": false
   },
   "outputs": [],
   "source": [
    "grader.check(\"q6_4\")"
   ]
  },
  {
   "cell_type": "markdown",
   "id": "a29d8647",
   "metadata": {},
   "source": [
    "Below, we check that none of the songs in `been_top_two` have the same `'track_name'` but different `'artist_names'` as another song in `us_charts`. "
   ]
  },
  {
   "cell_type": "code",
   "execution_count": null,
   "id": "cbb251e2",
   "metadata": {},
   "outputs": [],
   "source": [
    "# You don't need to edit this code, but you should understand how it works.\n",
    "def diff_artists(track_name):\n",
    "    '''Return the number of distinct 'artist_names' associated with a given track_name in us_charts.'''\n",
    "    song_only = us_charts[us_charts.get('track_name') == track_name]\n",
    "    return song_only.groupby('artist_names').count().shape[0]\n",
    "\n",
    "num_diff_artists = np.array([])\n",
    "for song in been_top_two:\n",
    "    num_diff_artists = np.append(num_diff_artists, diff_artists(song))\n",
    "max(num_diff_artists)"
   ]
  },
  {
   "cell_type": "markdown",
   "id": "40d0321a",
   "metadata": {},
   "source": [
    "Since this set of songs doesn't have the potential for confusion with other songs with the same `'track_name'`, we can safely refer to these songs by their `'track_name'` for the remainder of this section (instead of having to also worry about their `'artist_names'`)."
   ]
  },
  {
   "cell_type": "markdown",
   "id": "422f0b2c",
   "metadata": {},
   "source": [
    "**Question 6.5.** Create a DataFrame called `possibly_mega` with the same columns as `us_charts`, but with only the rows of `us_charts` where the `'track_name'` is in `been_top_two`.\n",
    "\n",
    "*Hints*: \n",
    "- Add a new column to filter by, then drop it after filtering (i.e. after Boolean indexing).\n",
    "- Use the Python keyword `in` to determine whether a specific song name is in `been_top_two`."
   ]
  },
  {
   "cell_type": "code",
   "execution_count": null,
   "id": "3ee034db",
   "metadata": {},
   "outputs": [],
   "source": [
    "possibly_mega = ...\n",
    "possibly_mega"
   ]
  },
  {
   "cell_type": "code",
   "execution_count": null,
   "id": "758765c8",
   "metadata": {
    "deletable": false,
    "editable": false
   },
   "outputs": [],
   "source": [
    "grader.check(\"q6_5\")"
   ]
  },
  {
   "cell_type": "markdown",
   "id": "1f0e3e0e",
   "metadata": {},
   "source": [
    "**Question 6.6.** Our second criteria for a US megahit was that the song spent at least 20 weeks on the top 200 in the US.\n",
    "\n",
    "Create a function called `calculate_weeks` that takes as input the `'track_name'` of a song in `possibly_mega` and returns the number of weeks the song spent on the top 200 charts in the US (during the period of data collection). Then `apply` the function to the `possibly_mega` DataFrame and add a column to `possibly_mega` called `'weeks_on_charts'` with this information. "
   ]
  },
  {
   "cell_type": "code",
   "execution_count": null,
   "id": "09139304",
   "metadata": {},
   "outputs": [],
   "source": [
    "def calculate_weeks(track_name):\n",
    "    ...\n",
    "    \n",
    "possibly_mega = ...\n",
    "possibly_mega"
   ]
  },
  {
   "cell_type": "code",
   "execution_count": null,
   "id": "00321b08",
   "metadata": {
    "deletable": false,
    "editable": false
   },
   "outputs": [],
   "source": [
    "grader.check(\"q6_6\")"
   ]
  },
  {
   "cell_type": "markdown",
   "id": "6cd385e9",
   "metadata": {},
   "source": [
    "Our third second criteria for a US megahit was that the song had a streak of at least 5 consecutive weeks of being in the top 10 on the charts in the US.\n",
    "\n",
    "In order to identify these songs, we'll need to be able to calculate, for a given song, the longest streak of consecutive weeks spent in the top 10. The next few questions will help us get there.\n",
    "\n",
    "**Question 6.7. ⭐️⭐️** Write a function called `calculate_rank_array` that takes as input the `'track_name'` of a song in `possibly_mega` and returns an array of that song's ranks for each week of data collection. The array should be of length `num_weeks` for every possible input song, regardless of whether the song actually appeared in the top 200 for all weeks. If the song is not on the chart in a given week, substitute 201 for its rank that week.\n",
    "\n",
    "For example, `'As It Was'` by `'Harry Styles'` first appeared in the top 200 in week 62. As a result, the first 61 elements of `calculate_rank_array('As It Was')` should be 201. In weeks 62 through 65, it was at positions 1, 2, 1, and 1, so those should be the next four elements in `calculate_rank_array('As It Was')`. The full expected output of `calculate_rank_array('As It Was')` is given below.\n",
    "\n",
    "```py\n",
    ">>> calculate_rank_array('As It Was')\n",
    "array([201., 201., 201., 201., 201., 201., 201., 201., 201., 201., 201.,\n",
    "       201., 201., 201., 201., 201., 201., 201., 201., 201., 201., 201.,\n",
    "       201., 201., 201., 201., 201., 201., 201., 201., 201., 201., 201.,\n",
    "       201., 201., 201., 201., 201., 201., 201., 201., 201., 201., 201.,\n",
    "       201., 201., 201., 201., 201., 201., 201., 201., 201., 201., 201.,\n",
    "       201., 201., 201., 201., 201., 201.,   1.,   2.,   1.,   1.,   1.,\n",
    "         3.,   5.,   1.,   1.,   2.,   3.,   3.,   4.,   3.,   3.])\n",
    "```\n",
    "\n",
    "*Hint*: Our solution uses a `for`-loop and the `in` keyword."
   ]
  },
  {
   "cell_type": "code",
   "execution_count": null,
   "id": "6d104750",
   "metadata": {},
   "outputs": [],
   "source": [
    "def calculate_rank_array(track_name):\n",
    "    ...\n",
    "\n",
    "# Test out your function. Feel free to change this input.\n",
    "calculate_rank_array('As It Was')"
   ]
  },
  {
   "cell_type": "code",
   "execution_count": null,
   "id": "01c78179",
   "metadata": {
    "deletable": false,
    "editable": false
   },
   "outputs": [],
   "source": [
    "grader.check(\"q6_7\")"
   ]
  },
  {
   "cell_type": "markdown",
   "id": "31b3f129",
   "metadata": {},
   "source": [
    "**Question 6.8.** Now, write a function called `longest_streak` that takes two inputs:\n",
    "- `track_name`, the `'track_name'` of a song in `possibly_mega`.\n",
    "- `n`, an integer between 1 and 200 (inclusive). By setting `n=10` in the parameter list, we make `n` an optional argument with 10 as its default value if omitted.\n",
    "\n",
    "The function should return the largest number of consecutive weeks for which the given song ranked in the top `n` songs in the US.\n",
    "\n",
    "For example, `longest_streak('As It Was', 3)` should evaluate to 6 because the song `'As It Was'` had a 6-week streak of being in the top 3 in the US, and no longer streak.\n",
    "\n",
    "*Note*: We've completed a good chunk of the implementation of `longest_streak` for you. A big part of your job is to understand what the role of each variable is. You only need to add the body of the `for`-loop; our solution only adds 5 lines to what is below."
   ]
  },
  {
   "cell_type": "code",
   "execution_count": null,
   "id": "bfd17643",
   "metadata": {},
   "outputs": [],
   "source": [
    "def longest_streak(track_name, n=10):\n",
    "    rank_array = calculate_rank_array(track_name)\n",
    "    longest = 0 \n",
    "    current = 0 \n",
    "    for num in rank_array:\n",
    "        ...\n",
    "    return max(longest, current)\n",
    "\n",
    "# Test out your function. Feel free to change these inputs.\n",
    "longest_streak('As It Was', 3)"
   ]
  },
  {
   "cell_type": "code",
   "execution_count": null,
   "id": "9b43b6c0",
   "metadata": {
    "deletable": false,
    "editable": false
   },
   "outputs": [],
   "source": [
    "grader.check(\"q6_8\")"
   ]
  },
  {
   "cell_type": "markdown",
   "id": "32b693a0",
   "metadata": {},
   "source": [
    "**Question 6.9.** Add a column called `'longest_streak_top_ten'` to `possibly_mega` that contains, for each song, the longest number of consecutive weeks that the song spent in the top 10 in the US."
   ]
  },
  {
   "cell_type": "code",
   "execution_count": null,
   "id": "99aca33b",
   "metadata": {},
   "outputs": [],
   "source": [
    "possibly_mega = ...\n",
    "possibly_mega"
   ]
  },
  {
   "cell_type": "code",
   "execution_count": null,
   "id": "f4c4ccf7",
   "metadata": {
    "deletable": false,
    "editable": false
   },
   "outputs": [],
   "source": [
    "grader.check(\"q6_9\")"
   ]
  },
  {
   "cell_type": "markdown",
   "id": "eda63dfc",
   "metadata": {},
   "source": [
    "It took a lot of preparation, but now we can finally identify the songs that qualify as US megahits! As a reminder, we say a song is a US megahit if it has met all of the following criteria **in the US**:\n",
    "- Has been at position 1 or 2 in the top 200 at some point.\n",
    "- Spent at least 20 weeks in the top 200.\n",
    "- Had a streak of at least 5 consecutive weeks of being in the top 10.\n",
    "\n",
    "**Question 6.10.** Create a DataFrame called `us_megahits` that is indexed by `'track_name'`, has a single row for each song that qualifies as a US megahit, and has columns `'artist_names'`, `'weeks_on_charts'`, and `'longest_streak_top_ten'`."
   ]
  },
  {
   "cell_type": "code",
   "execution_count": null,
   "id": "0189dc21",
   "metadata": {},
   "outputs": [],
   "source": [
    "us_megahits = ...\n",
    "us_megahits"
   ]
  },
  {
   "cell_type": "code",
   "execution_count": null,
   "id": "1f6d3fbd",
   "metadata": {
    "deletable": false,
    "editable": false
   },
   "outputs": [],
   "source": [
    "grader.check(\"q6_10\")"
   ]
  },
  {
   "cell_type": "markdown",
   "id": "96899532",
   "metadata": {},
   "source": [
    "<a id='section7'></a>\n",
    "## Section 7: Encore 🔂\n",
    "\n",
    "<small>(<a href=\"#outline\">return to the outline</a>)</small>"
   ]
  },
  {
   "cell_type": "markdown",
   "id": "4db6ff25",
   "metadata": {},
   "source": [
    "In this final section of the project, we'll analyze some of the audio features of US megahits. There's an issue, though: `us_megahits` doesn't contain any audio features. Fortunately, that information is available in `songs`, as we see below."
   ]
  },
  {
   "cell_type": "code",
   "execution_count": 268,
   "id": "c608b663",
   "metadata": {
    "scrolled": true
   },
   "outputs": [
    {
     "data": {
      "text/html": [
       "<div>\n",
       "<style scoped>\n",
       "    .dataframe tbody tr th:only-of-type {\n",
       "        vertical-align: middle;\n",
       "    }\n",
       "\n",
       "    .dataframe tbody tr th {\n",
       "        vertical-align: top;\n",
       "    }\n",
       "\n",
       "    .dataframe thead th {\n",
       "        text-align: right;\n",
       "    }\n",
       "</style>\n",
       "<table border=\"1\" class=\"dataframe\">\n",
       "  <thead>\n",
       "    <tr style=\"text-align: right;\">\n",
       "      <th></th>\n",
       "      <th>track_name</th>\n",
       "      <th>artist_names</th>\n",
       "      <th>danceability</th>\n",
       "      <th>energy</th>\n",
       "      <th>key</th>\n",
       "      <th>mode</th>\n",
       "      <th>loudness</th>\n",
       "      <th>speechiness</th>\n",
       "      <th>acousticness</th>\n",
       "      <th>instrumentalness</th>\n",
       "      <th>liveness</th>\n",
       "      <th>valence</th>\n",
       "      <th>tempo</th>\n",
       "      <th>duration_min</th>\n",
       "      <th>tempo_name</th>\n",
       "    </tr>\n",
       "  </thead>\n",
       "  <tbody>\n",
       "    <tr>\n",
       "      <th>0</th>\n",
       "      <td>'Til You Can't</td>\n",
       "      <td>Cody Johnson</td>\n",
       "      <td>0.501</td>\n",
       "      <td>0.815</td>\n",
       "      <td>1.0</td>\n",
       "      <td>1.0</td>\n",
       "      <td>-4.865</td>\n",
       "      <td>0.0436</td>\n",
       "      <td>0.05130</td>\n",
       "      <td>0.000000</td>\n",
       "      <td>0.1060</td>\n",
       "      <td>0.4600</td>\n",
       "      <td>160.087</td>\n",
       "      <td>3.736883</td>\n",
       "      <td>Vivace</td>\n",
       "    </tr>\n",
       "    <tr>\n",
       "      <th>1</th>\n",
       "      <td>'Till I Collapse</td>\n",
       "      <td>Eminem, Nate Dogg</td>\n",
       "      <td>0.548</td>\n",
       "      <td>0.847</td>\n",
       "      <td>1.0</td>\n",
       "      <td>1.0</td>\n",
       "      <td>-3.237</td>\n",
       "      <td>0.1860</td>\n",
       "      <td>0.06220</td>\n",
       "      <td>0.000000</td>\n",
       "      <td>0.0816</td>\n",
       "      <td>0.1000</td>\n",
       "      <td>171.447</td>\n",
       "      <td>4.963117</td>\n",
       "      <td>Vivace</td>\n",
       "    </tr>\n",
       "    <tr>\n",
       "      <th>2</th>\n",
       "      <td>(Don't Fear) The Reaper</td>\n",
       "      <td>Blue Öyster Cult</td>\n",
       "      <td>0.333</td>\n",
       "      <td>0.927</td>\n",
       "      <td>9.0</td>\n",
       "      <td>0.0</td>\n",
       "      <td>-8.550</td>\n",
       "      <td>0.0733</td>\n",
       "      <td>0.00290</td>\n",
       "      <td>0.000208</td>\n",
       "      <td>0.2970</td>\n",
       "      <td>0.3850</td>\n",
       "      <td>141.466</td>\n",
       "      <td>5.135333</td>\n",
       "      <td>Allegro</td>\n",
       "    </tr>\n",
       "    <tr>\n",
       "      <th>3</th>\n",
       "      <td>(Everybody's Waitin' For) The Man With The Bag...</td>\n",
       "      <td>Kay Starr</td>\n",
       "      <td>0.739</td>\n",
       "      <td>0.317</td>\n",
       "      <td>0.0</td>\n",
       "      <td>1.0</td>\n",
       "      <td>-8.668</td>\n",
       "      <td>0.0905</td>\n",
       "      <td>0.39100</td>\n",
       "      <td>0.004870</td>\n",
       "      <td>0.2430</td>\n",
       "      <td>0.8060</td>\n",
       "      <td>71.165</td>\n",
       "      <td>2.706217</td>\n",
       "      <td>Adagio</td>\n",
       "    </tr>\n",
       "    <tr>\n",
       "      <th>4</th>\n",
       "      <td>(There's No Place Like) Home for the Holidays ...</td>\n",
       "      <td>Perry Como</td>\n",
       "      <td>0.478</td>\n",
       "      <td>0.341</td>\n",
       "      <td>5.0</td>\n",
       "      <td>1.0</td>\n",
       "      <td>-12.556</td>\n",
       "      <td>0.0511</td>\n",
       "      <td>0.89700</td>\n",
       "      <td>0.000000</td>\n",
       "      <td>0.2580</td>\n",
       "      <td>0.4740</td>\n",
       "      <td>143.736</td>\n",
       "      <td>2.931550</td>\n",
       "      <td>Allegro</td>\n",
       "    </tr>\n",
       "    <tr>\n",
       "      <th>...</th>\n",
       "      <td>...</td>\n",
       "      <td>...</td>\n",
       "      <td>...</td>\n",
       "      <td>...</td>\n",
       "      <td>...</td>\n",
       "      <td>...</td>\n",
       "      <td>...</td>\n",
       "      <td>...</td>\n",
       "      <td>...</td>\n",
       "      <td>...</td>\n",
       "      <td>...</td>\n",
       "      <td>...</td>\n",
       "      <td>...</td>\n",
       "      <td>...</td>\n",
       "      <td>...</td>\n",
       "    </tr>\n",
       "    <tr>\n",
       "      <th>2549</th>\n",
       "      <td>you broke me first</td>\n",
       "      <td>Tate McRae</td>\n",
       "      <td>0.667</td>\n",
       "      <td>0.373</td>\n",
       "      <td>4.0</td>\n",
       "      <td>1.0</td>\n",
       "      <td>-9.389</td>\n",
       "      <td>0.0500</td>\n",
       "      <td>0.78500</td>\n",
       "      <td>0.000000</td>\n",
       "      <td>0.0906</td>\n",
       "      <td>0.0823</td>\n",
       "      <td>124.148</td>\n",
       "      <td>2.821100</td>\n",
       "      <td>Allegro</td>\n",
       "    </tr>\n",
       "    <tr>\n",
       "      <th>2550</th>\n",
       "      <td>¿Por Qué Me Haces Llorar?</td>\n",
       "      <td>Juan Gabriel</td>\n",
       "      <td>0.647</td>\n",
       "      <td>0.477</td>\n",
       "      <td>0.0</td>\n",
       "      <td>1.0</td>\n",
       "      <td>-8.157</td>\n",
       "      <td>0.0342</td>\n",
       "      <td>0.03740</td>\n",
       "      <td>0.000010</td>\n",
       "      <td>0.1270</td>\n",
       "      <td>0.7930</td>\n",
       "      <td>112.041</td>\n",
       "      <td>3.048000</td>\n",
       "      <td>Moderato</td>\n",
       "    </tr>\n",
       "    <tr>\n",
       "      <th>2551</th>\n",
       "      <td>¿Quién Te Crees?</td>\n",
       "      <td>MC Davo, Calibre 50</td>\n",
       "      <td>0.747</td>\n",
       "      <td>0.780</td>\n",
       "      <td>9.0</td>\n",
       "      <td>0.0</td>\n",
       "      <td>-5.302</td>\n",
       "      <td>0.2160</td>\n",
       "      <td>0.05830</td>\n",
       "      <td>0.000000</td>\n",
       "      <td>0.1640</td>\n",
       "      <td>0.5380</td>\n",
       "      <td>82.524</td>\n",
       "      <td>3.091550</td>\n",
       "      <td>Adagio</td>\n",
       "    </tr>\n",
       "    <tr>\n",
       "      <th>2552</th>\n",
       "      <td>Éxtasis</td>\n",
       "      <td>Millonario &amp; W. Corona, Cartel De Santa</td>\n",
       "      <td>0.937</td>\n",
       "      <td>0.791</td>\n",
       "      <td>0.0</td>\n",
       "      <td>1.0</td>\n",
       "      <td>-5.242</td>\n",
       "      <td>0.0871</td>\n",
       "      <td>0.02050</td>\n",
       "      <td>0.000232</td>\n",
       "      <td>0.0433</td>\n",
       "      <td>0.9740</td>\n",
       "      <td>119.967</td>\n",
       "      <td>4.816883</td>\n",
       "      <td>Moderato</td>\n",
       "    </tr>\n",
       "    <tr>\n",
       "      <th>2553</th>\n",
       "      <td>Índigo</td>\n",
       "      <td>Camilo, Evaluna Montaner</td>\n",
       "      <td>0.748</td>\n",
       "      <td>0.779</td>\n",
       "      <td>0.0</td>\n",
       "      <td>1.0</td>\n",
       "      <td>-6.659</td>\n",
       "      <td>0.0342</td>\n",
       "      <td>0.00884</td>\n",
       "      <td>0.000040</td>\n",
       "      <td>0.1130</td>\n",
       "      <td>0.9280</td>\n",
       "      <td>128.910</td>\n",
       "      <td>3.582217</td>\n",
       "      <td>Allegro</td>\n",
       "    </tr>\n",
       "  </tbody>\n",
       "</table>\n",
       "<p>2554 rows × 15 columns</p>\n",
       "</div>"
      ],
      "text/plain": [
       "                                             track_name  \\\n",
       "0                                        'Til You Can't   \n",
       "1                                      'Till I Collapse   \n",
       "2                               (Don't Fear) The Reaper   \n",
       "3     (Everybody's Waitin' For) The Man With The Bag...   \n",
       "4     (There's No Place Like) Home for the Holidays ...   \n",
       "...                                                 ...   \n",
       "2549                                 you broke me first   \n",
       "2550                          ¿Por Qué Me Haces Llorar?   \n",
       "2551                                   ¿Quién Te Crees?   \n",
       "2552                                            Éxtasis   \n",
       "2553                                             Índigo   \n",
       "\n",
       "                                 artist_names  danceability  energy  key  \\\n",
       "0                                Cody Johnson         0.501   0.815  1.0   \n",
       "1                           Eminem, Nate Dogg         0.548   0.847  1.0   \n",
       "2                            Blue Öyster Cult         0.333   0.927  9.0   \n",
       "3                                   Kay Starr         0.739   0.317  0.0   \n",
       "4                                  Perry Como         0.478   0.341  5.0   \n",
       "...                                       ...           ...     ...  ...   \n",
       "2549                               Tate McRae         0.667   0.373  4.0   \n",
       "2550                             Juan Gabriel         0.647   0.477  0.0   \n",
       "2551                      MC Davo, Calibre 50         0.747   0.780  9.0   \n",
       "2552  Millonario & W. Corona, Cartel De Santa         0.937   0.791  0.0   \n",
       "2553                 Camilo, Evaluna Montaner         0.748   0.779  0.0   \n",
       "\n",
       "      mode  loudness  speechiness  acousticness  instrumentalness  liveness  \\\n",
       "0      1.0    -4.865       0.0436       0.05130          0.000000    0.1060   \n",
       "1      1.0    -3.237       0.1860       0.06220          0.000000    0.0816   \n",
       "2      0.0    -8.550       0.0733       0.00290          0.000208    0.2970   \n",
       "3      1.0    -8.668       0.0905       0.39100          0.004870    0.2430   \n",
       "4      1.0   -12.556       0.0511       0.89700          0.000000    0.2580   \n",
       "...    ...       ...          ...           ...               ...       ...   \n",
       "2549   1.0    -9.389       0.0500       0.78500          0.000000    0.0906   \n",
       "2550   1.0    -8.157       0.0342       0.03740          0.000010    0.1270   \n",
       "2551   0.0    -5.302       0.2160       0.05830          0.000000    0.1640   \n",
       "2552   1.0    -5.242       0.0871       0.02050          0.000232    0.0433   \n",
       "2553   1.0    -6.659       0.0342       0.00884          0.000040    0.1130   \n",
       "\n",
       "      valence    tempo  duration_min tempo_name  \n",
       "0      0.4600  160.087      3.736883     Vivace  \n",
       "1      0.1000  171.447      4.963117     Vivace  \n",
       "2      0.3850  141.466      5.135333    Allegro  \n",
       "3      0.8060   71.165      2.706217     Adagio  \n",
       "4      0.4740  143.736      2.931550    Allegro  \n",
       "...       ...      ...           ...        ...  \n",
       "2549   0.0823  124.148      2.821100    Allegro  \n",
       "2550   0.7930  112.041      3.048000   Moderato  \n",
       "2551   0.5380   82.524      3.091550     Adagio  \n",
       "2552   0.9740  119.967      4.816883   Moderato  \n",
       "2553   0.9280  128.910      3.582217    Allegro  \n",
       "\n",
       "[2554 rows x 15 columns]"
      ]
     },
     "execution_count": 268,
     "metadata": {},
     "output_type": "execute_result"
    }
   ],
   "source": [
    "songs"
   ]
  },
  {
   "cell_type": "markdown",
   "id": "0b87903e",
   "metadata": {},
   "source": [
    "**Question 7.1.** Create a DataFrame called `megahits` that contains the same rows and columns as `us_megahits`, plus the additional columns below.\n",
    "- `'danceability'`\n",
    "- `'energy'`\n",
    "- `'key'`\n",
    "- `'mode'`\n",
    "- `'loudness'`\n",
    "- `'speechiness'`\n",
    "- `'acousticness'`\n",
    "- `'instrumentalness'`\n",
    "- `'liveness'`\n",
    "- `'valence'`\n",
    "- `'tempo'`\n",
    "- `'duration_min'`\n",
    "\n",
    "`megahits`, like `us_megahits`, should be indexed by `'track_name'`."
   ]
  },
  {
   "cell_type": "code",
   "execution_count": null,
   "id": "64fa5f81",
   "metadata": {},
   "outputs": [],
   "source": [
    "megahits = ...\n",
    "megahits"
   ]
  },
  {
   "cell_type": "code",
   "execution_count": null,
   "id": "707deb76",
   "metadata": {
    "deletable": false,
    "editable": false
   },
   "outputs": [],
   "source": [
    "grader.check(\"q7_1\")"
   ]
  },
  {
   "cell_type": "markdown",
   "id": "ff03a42c",
   "metadata": {},
   "source": [
    "**Question 7.2. ⭐️⭐️** Create a DataFrame named `megahit_comparison` that is indexed by `'audio_feature'` and contains the values given in the `audio_features` array below. Each row of `megahit_comparison` will therefore correspond to a different audio feature. `megahit_comparison` should have two columns:\n",
    "- `'every_song_mean'` should contain the mean value of each feature, among all songs in `songs`.\n",
    "- `'megahit_mean'` should contain the mean value of each feature, among all songs in `megahits`."
   ]
  },
  {
   "cell_type": "code",
   "execution_count": null,
   "id": "2f866ac9",
   "metadata": {
    "scrolled": true
   },
   "outputs": [],
   "source": [
    "audio_features = np.array(['danceability', 'energy', 'speechiness', 'acousticness',\n",
    "                      'instrumentalness', 'liveness', 'valence', 'loudness', 'tempo', 'duration_min'])\n",
    "\n",
    "megahit_comparison = ...\n",
    "megahit_comparison"
   ]
  },
  {
   "cell_type": "code",
   "execution_count": null,
   "id": "a2d3576e",
   "metadata": {
    "deletable": false,
    "editable": false
   },
   "outputs": [],
   "source": [
    "grader.check(\"q7_2\")"
   ]
  },
  {
   "cell_type": "markdown",
   "id": "6dcd0b8f",
   "metadata": {},
   "source": [
    "**Question 7.3.** Finally, draw a horizontal bar chart showing the differences between megahits and all songs in each of the **first 7 features** in `audio_features`. These are the audio features that are measured on a 0 to 1 scale. As with the bar charts you made in Section 4, arrange the bars so that the top bar represents the audio feature which most distinguishes megahits from the rest of the songs on the top 200 charts. Make sure to give your plot an appropriate title.\n",
    "\n",
    "*Hint*: Adapt the code you wrote in the `word_analysis` function."
   ]
  },
  {
   "cell_type": "markdown",
   "id": "3bcf41c0",
   "metadata": {
    "deletable": false,
    "editable": false
   },
   "source": [
    "<!-- BEGIN QUESTION -->\n",
    "\n",
    "<!--\n",
    "BEGIN QUESTION\n",
    "name: q7_3\n",
    "manual: true\n",
    "-->"
   ]
  },
  {
   "cell_type": "code",
   "execution_count": null,
   "id": "f9804327",
   "metadata": {},
   "outputs": [],
   "source": [
    "# Make your horizontal bar chart here."
   ]
  },
  {
   "cell_type": "markdown",
   "id": "217af187",
   "metadata": {},
   "source": [
    "<!-- END QUESTION -->\n",
    "\n",
    "\n",
    "\n",
    "Were these results what you expected to see? Of course, with music trends changing over time, the characteristics of a megahit are likely to change as well. It would be interesting to repeat this analysis with weekly top 200 charts from other time periods, or in other countries.\n",
    "\n",
    "Keep in mind that we're also comparing megahits to other popular songs, as all of our data comes from the top 200 charts. Given a broader dataset of songs, we'd likely see a stronger characterization of a megahit, as megahits would likely have a more pronounced difference from all songs when more \"unpopular\" songs are included."
   ]
  },
  {
   "cell_type": "markdown",
   "id": "36c08c29",
   "metadata": {},
   "source": [
    "## Parting Thoughts 💭\n",
    "\n",
    "While you've made it to the end of the project, we've only just scratched the surface in analyzing the `charts` dataset. We encourage you to explore the dataset further by asking and answering your own questions about the Spotify charts. For instance, we didn't use the `'streams'` column in `charts` at all. Maybe you're interested in looking at the number of streams per week for your favorite song. Or maybe you're interested in recreating the interactive plot from the end of Section 5, but instead of looking at the age of each weekly #1 song, you want to look at the number of streams of each week #1 song. Explore, and let us know what you find!"
   ]
  },
  {
   "cell_type": "markdown",
   "id": "ba656941",
   "metadata": {},
   "source": [
    "<a id='emojiquiz'></a>\n",
    "\n",
    "## Emoji Quiz 💯\n",
    "\n",
    "Just for fun, here are some emojis that describe particular songs or artists. See how many you can identify! You may have come across some of these songs or artists while completing this project. \n",
    "\n",
    "We'll post the answers on EdStem after the project is due. \n",
    "\n",
    "### Songs\n",
    "\n",
    "1. 🚘🆔\n",
    "2. ✋🐕‍🦺\n",
    "3. 👨‍🚀➡🌊\n",
    "4. 👵👴🏽💭👧👦🏽\n",
    "5. 💍💍💍💍💍💍💍\n",
    "6. 📷🖼️\n",
    "7. 🏃‍♀️⬆️⛰️\n",
    "8. 🕺🐵\n",
    "9. 🧨🎆\n",
    "10. 🍉🍭\n",
    "11. ⚠️☠️\n",
    "\n",
    "### Artists\n",
    "\n",
    "1. 🥛🐘🦓🦎\n",
    "2. 🤿🐺\n",
    "3. 🔴🕔\n",
    "4. 🌶️🌶️🌶️\n",
    "5. 2️⃣👄\n",
    "6. 👎🐇\n",
    "7. Ⓜ️➕Ⓜ️\n",
    "8. 🥶▶️\n",
    "9. ♂️ 🦆\n",
    "10. ⚫🐻\n",
    "11. ‼️🕺🎶"
   ]
  },
  {
   "cell_type": "markdown",
   "id": "4c13c4f8",
   "metadata": {},
   "source": [
    "## Congratulations! You've completed the Midterm Project!\n",
    "\n",
    "As usual, follow these steps to submit your assignment:\n",
    "\n",
    "1. Select Kernel -> Restart & Run All to ensure that you have executed all cells, including the test cells.\n",
    "2. Read through the notebook to make sure everything is fine and all tests passed.\n",
    "3. Run the cell below to run all tests, and make sure that they all pass.\n",
    "4. Download your notebook using File -> Download as -> Notebook (.ipynb), then upload your notebook to Gradescope. Don't forget to add your partner to your group on Gradescope!\n",
    "\n",
    "If running all the tests at once causes a test to fail that didn't fail when you ran the notebook in order, check to see if you changed a variable's value later in your code. Make sure to use new variable names instead of reusing ones that are used in the tests. \n",
    "\n",
    "Remember, the tests here and on Gradescope just check the format of your answers. We will run correctness tests after the due date has passed."
   ]
  },
  {
   "cell_type": "code",
   "execution_count": null,
   "id": "9ec25e9e",
   "metadata": {},
   "outputs": [],
   "source": [
    "grader.check_all()"
   ]
  }
 ],
 "metadata": {
  "kernelspec": {
   "display_name": "Python 3.9.13 ('base')",
   "language": "python",
   "name": "python3"
  },
  "language_info": {
   "codemirror_mode": {
    "name": "ipython",
    "version": 3
   },
   "file_extension": ".py",
   "mimetype": "text/x-python",
   "name": "python",
   "nbconvert_exporter": "python",
   "pygments_lexer": "ipython3",
   "version": "3.9.13"
  },
  "vscode": {
   "interpreter": {
    "hash": "5db93fd92279e190e6acd476fe11345bf2b6e7c48994284c750aca484081b24a"
   }
  }
 },
 "nbformat": 4,
 "nbformat_minor": 5
}
